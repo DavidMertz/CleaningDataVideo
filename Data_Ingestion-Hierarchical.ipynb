{
 "cells": [
  {
   "cell_type": "code",
   "execution_count": 1,
   "metadata": {
    "editable": true,
    "slideshow": {
     "slide_type": "notes"
    },
    "tags": []
   },
   "outputs": [],
   "source": [
    "from src.setup import *"
   ]
  },
  {
   "cell_type": "markdown",
   "metadata": {
    "editable": true,
    "slideshow": {
     "slide_type": "slide"
    },
    "tags": []
   },
   "source": [
    "# Data Ingestion – Hierarchical Formats\n",
    "\n",
    "Data science, machine learning, and statistics generally assume that data is tabular.\n",
    "\n",
    "... but sometimes it isn't."
   ]
  },
  {
   "attachments": {},
   "cell_type": "markdown",
   "metadata": {
    "editable": true,
    "slideshow": {
     "slide_type": "notes"
    },
    "tags": []
   },
   "source": [
    "When we utilize machine learning models, and indeed when we perform general statistical analyses, we almost always assume data is tabular. Observations and features; rows and columns.  And yet, there are a number of very popular ways of storing data that resemble trees rather than plowed fields.  \n",
    "\n",
    "There are many domains that simply map more naturally to hierarchies than to tables.  Yes, the relational algebra—the conceptual structure that underpins SQL and relational databases—is in some way able to represent every possible structure.  But it feels awkward for naturally hierarchical data.  \n",
    "\n",
    "For example, file systems have nested paths that eventually lead to actual files at their leaves.  Directories along the way might have indefinitely many subdirectories, with names at every level expressing something meaningful, until we get to the files which may themselves have hierarchical, tabular, or other arrangements of data.\n",
    "\n",
    "Likewise, if we make a graph of connected web pages—or indeed of *any* kind of network, whether social connections, electronic communications, ecological interactions, or others—it is closer to a hierarchy than to a table.  \n",
    "\n",
    "Yes, not all, nor most, graphs are DAGs (directed acyclical graphs), but still less are they rows and colums.  Or imagine you had a \"book of life\" that described many biological organisms, organized by Linnaean taxonomy—domain, kingdom, phylum, class, order, family, genus, species (and perhaps sometimes subspecies, superfamily, subfamily, or tribe for example).  Not only is this hierarchial structure important data, but the leaf attributes are largely different for varying species.  \n",
    "\n",
    "Information on the dentation of prokaryotes is not going to be relevant.  Teeth are only attributes of organisms within the Chordata phylum, and mostly only within the subphylum Vertebrata. Correspondingly, attributes about hyphae are only relevant within the Fungi, Oomycota, or Actinobacteria (crossing domains, kingdoms, and phyla, but still only within a small fragment of the hierarchy). \n",
    "\n",
    "For better or worse, when we do data science with hierarchical data sources, that generally means that we construct a tabular abstraction of the underlying data. Depending on our purpose, either or both of the leaf attributes and branching structure might be relevant.  In either case, we want to encode those as columns of variables and rows of records.  This contrasts somewhat with many purposes outside of data science; for other purposes, it is often simply a matter of \"drilling down\" into the relevant leaf or distant branch, and simply presenting or modifying the small amount of information at that level.  Data science is much more often about generalizing over many different data points, concerning many different objects."
   ]
  },
  {
   "attachments": {},
   "cell_type": "markdown",
   "metadata": {
    "editable": true,
    "slideshow": {
     "slide_type": "slide"
    },
    "tags": []
   },
   "source": [
    "## XML\n",
    "\n",
    "_XML is like violence—if it doesn’t solve your problems, you are not using enough of it._\n",
    "\n",
    "Anonymous"
   ]
  },
  {
   "attachments": {},
   "cell_type": "markdown",
   "metadata": {
    "editable": true,
    "slideshow": {
     "slide_type": "notes"
    },
    "tags": []
   },
   "source": [
    "The almost mandatory epigraph accompanying this section, and extending Ludwig von Rochau's notion of *Realpolitik*, is, of course, underlyingly deplorable, albeit presumably meant ironically.  I take violence always to be unacceptable, and XML only mostly so.  Both remain far too common in our world.  This corrective paraphrase only partially fixes the concern: \"XML is like violence: useful only in specific situations, and totally unacceptable everywhere else.\"\n",
    "\n",
    "XML (eXtensible Markup Language) is a complex format that might appear simple on its surface.  A large number of books longer than this course have been written to discuss just one or two tools or technologies associated wtih XML.  In particular, XML is not really one format so much as it is a meta-format with many dialects. \n",
    "\n",
    "Syntactically, XML is a relatively simple format that defines elements with angle bracketed tags, allows attributes within tags, and has a few other syntactic forms for special entities and directives. The user records shown soon provide a minimal example. "
   ]
  },
  {
   "cell_type": "markdown",
   "metadata": {
    "editable": true,
    "slideshow": {
     "slide_type": "slide"
    },
    "tags": []
   },
   "source": [
    "* Defining eXtensible Markup Language\n",
    "* Dialects and schemata\n",
    "* Attributes and elements\n",
    "* Dealing with deep and ragged nesting"
   ]
  },
  {
   "attachments": {},
   "cell_type": "markdown",
   "metadata": {
    "editable": true,
    "slideshow": {
     "slide_type": "notes"
    },
    "tags": []
   },
   "source": [
    "An XML dialect is usually defined by a schema which specifies exactly which tags and attributes are permitted, and the manners in which they may nest inside one another. A schema may also define the data type interpretation of particular fields. \n",
    "\n",
    "Hundreds of such dialects are widely used; for example all modern word processors and publication systems use an XML dialect to define their documents (with a compression layer wrapped around the underlying XML). Many other non-document formats use XML as well, including, for example, scientific data formats.\n",
    "\n",
    "Several different schema languages can be used to define particular XML dialects. However, as a general procedure, validating an XML document prior to further processing it is almost always a good idea, if a schema is available.  This is closely analogous to the discussion in the later section about using JSON Schema, but different tools and libraries will be used.  \n",
    "\n",
    "Probably the most commonly used means of defining an XML schema is a Document Type Definition (DTD). More modern alternatives are XML Schema and RELAX NG.  Notice that while XML Schema and RELAX NG allow declaration and validation of data types, I am not aware of any widely used tool or library that uses those type declarations when converting XML into native data structures.  Validation may assure you that a given data value, e.g., \"looks like an integer,\" but you will still need to cast it as such within your code when you want to use it that way. "
   ]
  },
  {
   "cell_type": "markdown",
   "metadata": {
    "editable": true,
    "slideshow": {
     "slide_type": "slide"
    },
    "tags": []
   },
   "source": [
    "```xml\n",
    "<?xml version=\"1.0\" encoding=\"utf-8\" ?>\n",
    "<users>\n",
    "  <user>\n",
    "    <name>David Mertz</name>\n",
    "    <password>badpassword</password>\n",
    "    <details>\n",
    "      <profession employer=\"KDM\" duration=\"76\" units=\"months\">\n",
    "      Data Scientist</profession>\n",
    "      <telephone>+1 323 863 5571</telephone>\n",
    "    </details>\n",
    "    <lucky-numbers>\n",
    "      <item>12</item>\n",
    "      <item>42</item>\n",
    "      <item>55</item>\n",
    "      <item>87</item>\n",
    "    </lucky-numbers>\n",
    "  </user>\n",
    "  <user> ... </user>\n",
    "</users>\n",
    "```"
   ]
  },
  {
   "cell_type": "markdown",
   "metadata": {
    "editable": true,
    "slideshow": {
     "slide_type": "notes"
    },
    "tags": []
   },
   "source": [
    "Let's look at this user record as an XML document.\n",
    "\n",
    "In XML, we have an under-determined decision whether to put a given datum within an element body or within an attribute. The example shows both. For example, within `<details>` element, the `<profession>` tag has `employer` as an attribute, but the profession's name as a body.\n",
    "\n",
    "The two styles of data representation within an XML document is something you need to keep in mind.  There is no fundamental difference to us, as data scientists, whether data lives in an XML attribute or is the body of an element/tag.  \n",
    "\n",
    "Some language should be clarified: a *tag* is the actual word inside angle brackets (e.g. `<item>`), while an *element* is everything occuring between an opening tag and corresponding closing tag (e.g. `<item>55</item>`). Both elements and attributes can equally be useful for us.  However, in most APIs, they are accessed differently."
   ]
  },
  {
   "cell_type": "code",
   "execution_count": 2,
   "metadata": {
    "editable": true,
    "slideshow": {
     "slide_type": "slide"
    },
    "tags": []
   },
   "outputs": [
    {
     "name": "stdout",
     "output_type": "stream",
     "text": [
      "Body (title): Data Scientist\n",
      "Attributes:   {'employer': 'KDM', 'duration': '76', 'units': 'months'}\n"
     ]
    }
   ],
   "source": [
    "import xml.etree.ElementTree as ET\n",
    "tree = ET.parse('data/users.xml')\n",
    "\n",
    "# Let us first find the attributes and text of a profession\n",
    "prof = tree.find('user').find('details').find('profession')\n",
    "print(\"Body (title):\", prof.text.strip())\n",
    "print(\"Attributes:  \", prof.attrib)"
   ]
  },
  {
   "attachments": {},
   "cell_type": "markdown",
   "metadata": {
    "editable": true,
    "slideshow": {
     "slide_type": "notes"
    },
    "tags": []
   },
   "source": [
    "The Python standard library module `ElementTree`.  Other APIs exist, even within the Python standard library, and various other programming languages have a variety of libraries and APIs available for working with XML. `ElementTree` makes a reasonable compromise between feeling like Python and feeling like XML.\n",
    "\n",
    "Within attributes we have a perfectly regular native Python dictionary that we can extract field values from.  Notice that all keys and values are simply strings.  If we wished, for example, to treat \"duration\" as an integer, we could cast it within our code.  As well, we often wish to loop through elements at the same level of the document hierarchy to treat them similarly.  Elements might be ragged, and contain different children, even if they share the same parent tag."
   ]
  },
  {
   "cell_type": "code",
   "execution_count": 3,
   "metadata": {
    "editable": true,
    "slideshow": {
     "slide_type": ""
    },
    "tags": []
   },
   "outputs": [
    {
     "data": {
      "text/plain": [
       "[12, 42, 55, 87]"
      ]
     },
     "execution_count": 3,
     "metadata": {},
     "output_type": "execute_result"
    }
   ],
   "source": [
    "items = tree.find('user').find('lucky-numbers').findall('item')\n",
    "lucky_numbers = [int(item.text) for item in items]\n",
    "lucky_numbers"
   ]
  },
  {
   "cell_type": "markdown",
   "metadata": {
    "editable": true,
    "slideshow": {
     "slide_type": "notes"
    },
    "tags": []
   },
   "source": [
    "We find the bodies of all the `<item>` elements that are children of `<lucky-numbers>` and cast them to integers. Nested or recursive traversal, for example by calling `.findall()` at various levels of the hierarchy, is a common approach to walking an XML document."
   ]
  },
  {
   "cell_type": "code",
   "execution_count": 4,
   "metadata": {
    "editable": true,
    "slideshow": {
     "slide_type": "slide"
    },
    "tags": []
   },
   "outputs": [
    {
     "data": {
      "text/plain": [
       "[12, 42, 55, 87]"
      ]
     },
     "execution_count": 4,
     "metadata": {},
     "output_type": "execute_result"
    }
   ],
   "source": [
    "[int(el.text) for el in tree.iter() if el.tag == \"item\"]"
   ]
  },
  {
   "cell_type": "markdown",
   "metadata": {
    "editable": true,
    "slideshow": {
     "slide_type": "notes"
    },
    "tags": []
   },
   "source": [
    "It is also possible to search at an indefinite depth for elements in a lazy way with the `.iter()` method.  When dealing very large XML documents, this approach can be much more memory efficient because it does not require keeping an entire document in memory at once.\n",
    "\n",
    "When XML documents are large, an incremental approach, such as is available in `ElementTree` can pull out only those data items of current interest. "
   ]
  },
  {
   "attachments": {},
   "cell_type": "markdown",
   "metadata": {
    "editable": true,
    "slideshow": {
     "slide_type": "notes"
    },
    "tags": []
   },
   "source": [
    "## JSON\n",
    "\n",
    "* JSON is a syntax not a semantics\n",
    "* REST queries and responses\n",
    "* Command-line tool `jq`\n",
    "* Safe JSON readers\n",
    "* NaNs, Infinities, and overflows\n",
    "* Aggregating JSON records\n",
    "* Working with large, deeply nested, JSON\n",
    "* Extracting tabular summary of JSON data\n",
    "* Validating structure with JSON Schema"
   ]
  },
  {
   "attachments": {},
   "cell_type": "markdown",
   "metadata": {
    "editable": true,
    "slideshow": {
     "slide_type": "notes"
    },
    "tags": []
   },
   "source": [
    "JavaScript Object Notation (JSON) is a widely used data exchange format. As the name suggests, it is a format derived from JavaScript, but it is strictly language neutral. JSON is currently specified by Internet Engineering Task Force (IETF) RFC 8259.  \n",
    "\n",
    "While JSON can be and is used for many purposes, it is especially prevalent as a way for computer services to communicate among each other.  Hence, a large share of JSON data consists of transient messages that do not necessarily ever live on permanent storage such as as files on disk or values in a database.  Of course, sometimes those messages are logged or somehow stored, and become fruitful for data science purposes.\n",
    "\n",
    "JSON is supported by a great many programming languages, in their standard library, as built-ins, or with widely available libraries for those languages. In syntax, JSON is very similar to, but neither exactly a superset nor subset of, native data structures in JavaScript, and to a large extent to those in Python.  An important thing to understand about JSON is that it specifies a syntax, but not a semantics.  Each language has to make decisions about how to process a text conforming with JSON grammar."
   ]
  },
  {
   "cell_type": "markdown",
   "metadata": {
    "editable": true,
    "slideshow": {
     "slide_type": "notes"
    },
    "tags": []
   },
   "source": [
    "There are exactly four value types defined in JSON, and three literal values.  Whitespace is ignored throughout JSON."
   ]
  },
  {
   "attachments": {},
   "cell_type": "markdown",
   "metadata": {
    "editable": true,
    "slideshow": {
     "slide_type": "slide"
    },
    "tags": []
   },
   "source": [
    "* `false`, `true`, and `null` are literal values\n",
    "\n",
    "* An *object* is a grammatical structure that is enclosed in curly braces: `{` and `}`, with strings for keys, separated by a colon from values of any syntactic type. Multiple key/value pairs are separated by commas.\n",
    "\n",
    "* An *array* is a grammatical structure that is enclosed in square brackets: `[` and `]`, with any syntactic values separated by commas.\n",
    "\n",
    "* A *number* optionally starts with a minus sign, followed by a sequence of digits, optionally followed by a fractional part after a decimal portion, optionally followed by an exponent.  This is mostly the same as the spelling of numbers in languages like Python, R, JavaScript, Julia, C, etc., but slightly more restrictive.\n",
    "\n",
    "* A *string* is a grammatical structure enclosed by double quotes (the code point U+0022) that may contain almost any characters.  Unicode code points may be indicated as e.g. `\\u0022`, and a few special characters must be escaped with a backslash."
   ]
  },
  {
   "cell_type": "markdown",
   "metadata": {
    "editable": true,
    "slideshow": {
     "slide_type": "slide"
    },
    "tags": []
   },
   "source": [
    "For example, this fragment utilizes all four value types.  The example contains an object with a string key, whose value is an array containing one each of the literal values, and two numbers.\n",
    "\n",
    "```json\n",
    "{\"key\": [true, false, null, 15, 55.66]}\n",
    "```"
   ]
  },
  {
   "cell_type": "code",
   "execution_count": 5,
   "metadata": {
    "editable": true,
    "slideshow": {
     "slide_type": "slide"
    },
    "tags": []
   },
   "outputs": [
    {
     "name": "stdout",
     "output_type": "stream",
     "text": [
      "200 application/json; charset=utf-8\n"
     ]
    },
    {
     "data": {
      "text/plain": [
       "'{\"1\":{\"name\":\"Guido van Rossum\",\"password\":\"unladenswallow\",\"details\":{\"profession\":\"ex-BDFL\"}},\"2\":{\"name\":\"Brendan Eich\",\"password\":\"nontransitiveequality\",\"details\":{\"profession\":\"Mozillan\"}},\"3\":{\"name\":\"Ken Thompson\",\"password\":\"p/q2-q4!\",\"details\":{\"profession\":\"Unix Creator\"}}}'"
      ]
     },
     "execution_count": 5,
     "metadata": {},
     "output_type": "execute_result"
    }
   ],
   "source": [
    "# A response to an HTTP request\n",
    "response = requests.get('http://example.com/users') \n",
    "\n",
    "# Show status code, content-type, and JSON body\n",
    "print(response.status_code, response.headers['Content-Type'])\n",
    "response.text"
   ]
  },
  {
   "cell_type": "markdown",
   "metadata": {
    "editable": true,
    "slideshow": {
     "slide_type": "notes"
    },
    "tags": []
   },
   "source": [
    "JSON is frequently used to interactively communicate messages among computer systems.  A request to a REST endpoint might produce the response shown (when using the Python `requests` library). \n",
    "\n",
    "REST, that is \"representational state transfer\", is an interface in which clients may send JSON messages and will receive other JSON messages back.  The short document shown is fairly typical of such uses."
   ]
  },
  {
   "cell_type": "code",
   "execution_count": 6,
   "metadata": {
    "editable": true,
    "slideshow": {
     "slide_type": "slide"
    },
    "tags": []
   },
   "outputs": [
    {
     "name": "stdout",
     "output_type": "stream",
     "text": [
      "{\n",
      "  \"1\": {\n",
      "    \"name\": \"Guido van Rossum\",\n",
      "    \"password\": \"unladenswallow\",\n",
      "    \"details\": {\n",
      "      \"profession\": \"ex-BDFL\"\n",
      "    }\n",
      "  },\n",
      "  \"2\": {\n",
      "    \"name\": \"Brendan Eich\",\n",
      "    \"password\": \"nontransitiveequality\",\n",
      "    \"details\": {\n",
      "      \"profession\": \"Mozillan\"\n",
      "    }\n",
      "  },\n",
      "  \"3\": {\n",
      "    \"name\": \"Ken Thompson\",\n",
      "    \"password\": \"p/q2-q4!\",\n",
      "    \"details\": {\n",
      "      \"profession\": \"Unix Creator\"\n",
      "    }\n",
      "  }\n",
      "}\n"
     ]
    }
   ],
   "source": [
    "pprint_json(response.text)"
   ]
  },
  {
   "cell_type": "markdown",
   "metadata": {
    "editable": true,
    "slideshow": {
     "slide_type": "notes"
    },
    "tags": []
   },
   "source": [
    "Whitespace is not significant in JSON, but judicious use can make it much more readable."
   ]
  },
  {
   "cell_type": "code",
   "execution_count": 7,
   "metadata": {
    "editable": true,
    "slideshow": {
     "slide_type": "slide"
    },
    "tags": []
   },
   "outputs": [
    {
     "data": {
      "text/plain": [
       "{'1': {'name': 'Guido van Rossum',\n",
       "  'password': 'unladenswallow',\n",
       "  'details': {'profession': 'ex-BDFL'}},\n",
       " '2': {'name': 'Brendan Eich',\n",
       "  'password': 'nontransitiveequality',\n",
       "  'details': {'profession': 'Mozillan'}},\n",
       " '3': {'name': 'Ken Thompson',\n",
       "  'password': 'p/q2-q4!',\n",
       "  'details': {'profession': 'Unix Creator'}}}"
      ]
     },
     "execution_count": 7,
     "metadata": {},
     "output_type": "execute_result"
    }
   ],
   "source": [
    "with open('data/users.json') as fh:\n",
    "    # Could also call `json.load(fh)` to read file\n",
    "    raw = fh.read()\n",
    "    users = json.loads(raw)\n",
    "users"
   ]
  },
  {
   "cell_type": "markdown",
   "metadata": {
    "editable": true,
    "slideshow": {
     "slide_type": "notes"
    },
    "tags": []
   },
   "source": [
    "Despite its close similarity to native spelling of data structures in Python and JavaScript (and other languages), you must use a read/parse function to convert JSON to native data."
   ]
  },
  {
   "cell_type": "code",
   "execution_count": 8,
   "metadata": {
    "editable": true,
    "slideshow": {
     "slide_type": "notes"
    },
    "tags": []
   },
   "outputs": [],
   "source": [
    "with open(\"data/users.json\", \"w\") as fh:\n",
    "    fh.write(response.text)"
   ]
  },
  {
   "cell_type": "markdown",
   "metadata": {
    "editable": true,
    "slideshow": {
     "slide_type": "slide"
    },
    "tags": []
   },
   "source": [
    "<img src=\"img/jq-screenshot.png\" alt=\"jq screenshot\"/>"
   ]
  },
  {
   "attachments": {},
   "cell_type": "markdown",
   "metadata": {
    "editable": true,
    "slideshow": {
     "slide_type": "notes"
    },
    "tags": []
   },
   "source": [
    "A command-line tool called **jq** is very useful for working with JSON data, either streamed or on disk.  A data scientist or developer who frequently works with JSON should consider learning the slightly arcane, but compact, query language `jq` provides. The home page for the tool contains a very nice blurb for it:\n",
    "\n",
    "> jq is like `sed` for JSON data - you can use it to slice and filter and map and transform structured data with the same ease that `sed`, `awk`, `grep` and friends let you play with text."
   ]
  },
  {
   "cell_type": "markdown",
   "metadata": {
    "editable": true,
    "slideshow": {
     "slide_type": "slide"
    },
    "tags": []
   },
   "source": [
    "<img src=\"img/jq-select.png\" alt=\"jq select\"/>"
   ]
  },
  {
   "cell_type": "markdown",
   "metadata": {
    "editable": true,
    "slideshow": {
     "slide_type": "notes"
    },
    "tags": []
   },
   "source": [
    "One very simple task `jq` can accomplish is pretty printing (indentation, line breaks, colorization, etc.).  But it can also perform complex filtering and rearrangement of data.  Identifying and printing just the nested password fields is a simple example for this data."
   ]
  },
  {
   "attachments": {},
   "cell_type": "markdown",
   "metadata": {
    "editable": true,
    "slideshow": {
     "slide_type": "slide"
    },
    "tags": []
   },
   "source": [
    "### NaN Handling and Data Types\n",
    "\n",
    "The semi-formal description of the grammar of JSON highlighted things *missing* from it. \n",
    "\n",
    "There is a single syntactic type named \"number\", but there are no distinctions among integers, floating-point, decimals, complex numbers, fractions/rationals, or the bit-length of represented numbers.\n",
    "\n",
    "There are also no IEEE-754 NaNs or infinities."
   ]
  },
  {
   "cell_type": "markdown",
   "metadata": {
    "editable": true,
    "slideshow": {
     "slide_type": "notes"
    },
    "tags": []
   },
   "source": [
    "The decision of how to interpret numeric values is strictly left to libraries, or to individual users.\n",
    "\n",
    "Floating-point \"numbers\" include the special values NaN (Not-a-Number) and Infinity/-Infinity.  To be pedantic, the binary standard represents a great many distinct bit patterns as meaning \"NaN\", although just one each for +Infinity and -Infinity (negative zero is another oddball number, but is less important).  \n",
    "\n",
    "JSON cannot represent those values, even though many or most programming languages have a way of spelling those value.  Among the languages with an explicit NaN is JavaScript, on which JSON is based. In programming languages, typically NaN has a single spelling, such as `NaN` rather than millions of them for all the bit patterns.\n",
    "\n",
    "In Python, the standard library and other common JSON parsers make a heuristic assumption that numbers which contain either a decimal point or an exponent are intended to represent floating-point, and numbers without them are meant to represent integers."
   ]
  },
  {
   "cell_type": "code",
   "execution_count": 9,
   "metadata": {
    "editable": true,
    "slideshow": {
     "slide_type": "slide"
    },
    "tags": []
   },
   "outputs": [
    {
     "data": {
      "text/plain": [
       "[1e+308, inf, 1.2345678901234567]"
      ]
     },
     "execution_count": 9,
     "metadata": {},
     "output_type": "execute_result"
    }
   ],
   "source": [
    "# An interpreted float, an overflow, and a truncation\n",
    "json_str = \"[1e308, 1e309, 1.2345678901234567890]\"\n",
    "json.loads(json_str)"
   ]
  },
  {
   "attachments": {},
   "cell_type": "markdown",
   "metadata": {
    "editable": true,
    "slideshow": {
     "slide_type": "notes"
    },
    "tags": []
   },
   "source": [
    "There are edge cases where Python's typing assumptions can fail.  Numbers like `1e309` that would fit perfectly well and exactly into Python's unbounded integers are treated as floats, and fail as such. The same numbers *could* be spelled with hundreds of trailing zeros and no decimal point, hence being interpreted as integers.\n",
    "\n",
    "By treating JSON numbers as floats, their precision is limited to the native floating point type.  In 64-bits, this works out to 17 decimal digits; in 32-bits it is only 9 digits.  Readers normally simply loose this potential precision.\n",
    "\n",
    "The simple example shows some of these overflow or truncation issues. The string shown is completely valid JSON, but it cannot be represented in Python "
   ]
  },
  {
   "cell_type": "code",
   "execution_count": 10,
   "metadata": {
    "editable": true,
    "slideshow": {
     "slide_type": "slide"
    },
    "tags": []
   },
   "outputs": [
    {
     "data": {
      "text/plain": [
       "[Decimal('1E+308'), Decimal('1E+309'), Decimal('1.2345678901234567890')]"
      ]
     },
     "execution_count": 10,
     "metadata": {},
     "output_type": "execute_result"
    }
   ],
   "source": [
    "simplejson.loads(json_str, use_decimal=True)"
   ]
  },
  {
   "attachments": {},
   "cell_type": "markdown",
   "metadata": {
    "editable": true,
    "slideshow": {
     "slide_type": "notes"
    },
    "tags": []
   },
   "source": [
    "You might think that this issue is no more than inherent in the nature of floating point rounding.  After all, the floating-point value that is approximately $10^{308}$ is only approximate.  However, Python provides a natural alternative that more closely matches the JSON number syntax in the `decimal` module.\n",
    "\n",
    "Unfortunately, producing values of the type `Decimal` in the standard library is cumbersome (but possible).  Fortunately, the third-party module `simplejson` makes this easy.\n",
    "\n",
    "Other languages, such as JavaScript and R lack a standard decimal or unlimited precision data type, and will simply lose precision in representing some syntactically valid JSON numbers."
   ]
  },
  {
   "cell_type": "code",
   "execution_count": 11,
   "metadata": {
    "editable": true,
    "slideshow": {
     "slide_type": "slide"
    },
    "tags": []
   },
   "outputs": [
    {
     "data": {
      "text/plain": [
       "[nan, inf, -inf]"
      ]
     },
     "execution_count": 11,
     "metadata": {},
     "output_type": "execute_result"
    }
   ],
   "source": [
    "specials = \"[NaN, Infinity, -Infinity]\"\n",
    "vals = json.loads(specials)\n",
    "vals"
   ]
  },
  {
   "attachments": {},
   "cell_type": "markdown",
   "metadata": {
    "editable": true,
    "slideshow": {
     "slide_type": "notes"
    },
    "tags": []
   },
   "source": [
    "A wrinkle in this story is that the default \"JSON\" libraries in languages like Python do not *actually* read and write JSON by default.  They read a superset of JSON that includes the additional literals `NaN`, `Infinity`, and `-Infinity`.  The *JSON5* proposal includes these extensions and a few others, but is not an official standard currently. \n",
    "\n",
    "The Python standard library does not support literals of `nan`, `Nan` `inf`, `+Infinity`, or other spellings that might seem reasonable, however.  Some other languages support these other spellings."
   ]
  },
  {
   "cell_type": "code",
   "execution_count": 12,
   "metadata": {
    "editable": true,
    "slideshow": {
     "slide_type": "slide"
    },
    "tags": []
   },
   "outputs": [
    {
     "name": "stderr",
     "output_type": "stream",
     "text": [
      "undefined:1\n",
      "[NaN, Infinity, -Infinity]\n",
      " ^\n",
      "\n",
      "SyntaxError: Unexpected token 'N', \"[NaN, Infin\"... is not valid JSON\n",
      "    at JSON.parse (<anonymous>)\n",
      "    at [stdin]:1:6\n",
      "\u001b[90m    at runScriptInThisContext (node:internal/vm:209:10)\u001b[39m\n",
      "\u001b[90m    at node:internal/process/execution:118:14\u001b[39m\n",
      "    at [stdin]-wrapper:6:24\n",
      "\u001b[90m    at runScript (node:internal/process/execution:101:62)\u001b[39m\n",
      "\u001b[90m    at evalScript (node:internal/process/execution:136:3)\u001b[39m\n",
      "\u001b[90m    at node:internal/main/eval_stdin:32:5\u001b[39m\n",
      "\u001b[90m    at Socket.<anonymous> (node:internal/process/execution:237:5)\u001b[39m\n",
      "\u001b[90m    at Socket.emit (node:events:519:35)\u001b[39m\n",
      "\n",
      "Node.js v23.1.0\n"
     ]
    }
   ],
   "source": [
    "%%bash\n",
    "js=\"JSON.parse('[NaN, Infinity, -Infinity]');\"\n",
    "echo $js | node | cat"
   ]
  },
  {
   "cell_type": "markdown",
   "metadata": {
    "editable": true,
    "slideshow": {
     "slide_type": "notes"
    },
    "tags": []
   },
   "source": [
    "We can see strict JSON-compliant behavior using the JavaScript JSON parser."
   ]
  },
  {
   "cell_type": "code",
   "execution_count": 13,
   "metadata": {
    "editable": true,
    "slideshow": {
     "slide_type": "slide"
    },
    "tags": []
   },
   "outputs": [
    {
     "data": {
      "text/plain": [
       "['INVALID', 'INVALID', 'INVALID']"
      ]
     },
     "execution_count": 13,
     "metadata": {},
     "output_type": "execute_result"
    }
   ],
   "source": [
    "json.loads(\"[NaN, Infinity, -Infinity]\", \n",
    "           parse_constant=lambda _: \"INVALID\")"
   ]
  },
  {
   "cell_type": "markdown",
   "metadata": {
    "editable": true,
    "slideshow": {
     "slide_type": ""
    },
    "tags": []
   },
   "source": [
    "We can also use a slightly misnamed, and cumbersome, parameter (`parse_constant`) to enforce strict mode in the Python standard library.  This catches only those specific values of special floating-point numbers spelled in the manner shown below."
   ]
  },
  {
   "cell_type": "code",
   "execution_count": 14,
   "metadata": {
    "editable": true,
    "slideshow": {
     "slide_type": "slide"
    },
    "tags": []
   },
   "outputs": [
    {
     "name": "stdout",
     "output_type": "stream",
     "text": [
      "JSONDecodeError\n",
      "Expecting value: line 1 column 2 (char 1)\n"
     ]
    }
   ],
   "source": [
    "try:\n",
    "    json.loads(\"[nan, +Inf, Foobar]\", \n",
    "               parse_constant=lambda _: \"INVALID\")\n",
    "except Exception as err:\n",
    "    print_err(err)"
   ]
  },
  {
   "cell_type": "markdown",
   "metadata": {
    "editable": true,
    "slideshow": {
     "slide_type": "notes"
    },
    "tags": []
   },
   "source": [
    "However, not just any hypothetical literal outside these particular spellings will be handed to the `parse_constant` function."
   ]
  },
  {
   "cell_type": "code",
   "execution_count": 15,
   "metadata": {
    "editable": true,
    "slideshow": {
     "slide_type": "slide"
    },
    "tags": []
   },
   "outputs": [
    {
     "name": "stdout",
     "output_type": "stream",
     "text": [
      "[\n",
      "  null,\n",
      "  1.7976931348623157e+308,\n",
      "  -1.7976931348623157e+308\n",
      "]\n"
     ]
    }
   ],
   "source": [
    "%%bash\n",
    "echo \"[NaN, inf, -Infinity]\" | jq ."
   ]
  },
  {
   "cell_type": "markdown",
   "metadata": {
    "editable": true,
    "slideshow": {
     "slide_type": "notes"
    },
    "tags": []
   },
   "source": [
    "The tool `jq` has an odd \"semi-strict\" behavior.  Infinity is recognized, under several spellings, but not treated as the actual IEEE-754 value \"infinity.\"  None of these choices are per se right or wrong, but incompatibilities are dangers to stay alert for."
   ]
  },
  {
   "attachments": {},
   "cell_type": "markdown",
   "metadata": {
    "editable": true,
    "slideshow": {
     "slide_type": "slide"
    },
    "tags": []
   },
   "source": [
    "### JSON Lines\n",
    "\n",
    "Large aggregates of \"small bundles of data\" is in log files. The entries in log files are generally similar, and arranged one object per line. \n",
    "\n",
    "Frequently different lines are required to hold different fields.  This tends to require a lot of conditional logic when parsing a log file."
   ]
  },
  {
   "cell_type": "markdown",
   "metadata": {
    "editable": true,
    "slideshow": {
     "slide_type": "notes"
    },
    "tags": []
   },
   "source": [
    "*JSON streaming* is a very useful and widely used approach to reducing this burden.  Since whitespace is ignored in JSON, every document can be contained in a single line (perhaps with encoded or escaped newlines within strings), and any structure and field names can be expressed with JSON syntactic structures.  \n",
    "\n",
    "Using JSON streaming does not remove *all* conditional logic since the disposition of a particular entry will still often depend on the data inside it, but at least it removes the concern from the parsing step itself."
   ]
  },
  {
   "cell_type": "markdown",
   "metadata": {
    "editable": true,
    "slideshow": {
     "slide_type": "slide"
    },
    "tags": []
   },
   "source": [
    "* Record separator-delimited: The Unicode character INFORMATION SEPARATOR TWO (U+001E) used as a delimiter (RFC 7464).  I.e. newlines may occur inside JSON document entries.\n",
    "* Concatenated JSON: No delimiters used, and each JSON entry is an object or array.  This allows a streaming parser to recognize the matching `}` or `]` that will terminate the top-level structure.  Every JSON Lines stream is automatically also a Concatenated JSON stream.\n",
    "* Length-prefixed JSON: Each entry consists of an integer indicating the number of bytes in the remainder of the entry, followed by a JSON object or array (in principle, a string would work too).  This has an advantage over plain concatenation in that the reader does not need to test on each character read whether a structure is completed."
   ]
  },
  {
   "cell_type": "markdown",
   "metadata": {
    "editable": true,
    "slideshow": {
     "slide_type": "notes"
    },
    "tags": []
   },
   "source": [
    "To be precise, the syntax called \"ndjson\" (Newline Delimited JSON) or \"JSON Lines\" is one of several approaches to aggregating (small) JSON documents.  Newline delimitation is the most widely used style, and is easiest to work with using command-line text processing tools which are usually line oriented.  However, you may encounter several other styles occasionally:"
   ]
  },
  {
   "cell_type": "code",
   "execution_count": 16,
   "metadata": {
    "editable": true,
    "slideshow": {
     "slide_type": "notes"
    },
    "tags": []
   },
   "outputs": [
    {
     "name": "stdout",
     "output_type": "stream",
     "text": [
      "{\"ts\":\"2020-06-18T10:44:13\", \"logged_in\":{\"username\":\"foo\"}, \"connection\":{\"addr\":\"1.2.3.4\",\"port\":5678}}\n",
      "{\"ts\":\"2020-06-18T10:44:15\", \"registered\":{\"username\":\"bar\",\"email\":\"bar@example.com\"}, \"connection\":{\"addr\":\"2.3.4.5\",\"port\":6789}}\n",
      "{\"ts\":\"2020-06-18T10:44:16\", \"logged_out\":{\"username\":\"foo\"}, \"connection\":{\"addr\":\"1.2.3.4\",\"port\":5678}}\n",
      "{\"ts\":\"2020-06-18T10:47:22\", \"registered\":{\"username\":\"baz\",\"email\":\"baz@example.net\"}, \"connection\":{\"addr\":\"3.4.5.6\",\"port\":7890}}\n"
     ]
    }
   ],
   "source": [
    "%cat data/jsonlines.log"
   ]
  },
  {
   "attachments": {},
   "cell_type": "markdown",
   "metadata": {
    "editable": true,
    "slideshow": {
     "slide_type": "notes"
    },
    "tags": []
   },
   "source": [
    "Let us consider a JSON Lines example.\n",
    "\n",
    "The three JSON documents, one per line, contain somewhat different fields.  All share the fields `\"ts\"` and `\"connection\"` to mark when they occurred and from what client address.  Different kinds of events, however, require different additional fields.  This can allow command-line processing.  For example, using generic text processing tools we might list (as a JSON document) the username and email of all newly registered users. "
   ]
  },
  {
   "cell_type": "code",
   "execution_count": 17,
   "metadata": {
    "editable": true,
    "slideshow": {
     "slide_type": "slide"
    },
    "tags": []
   },
   "outputs": [
    {
     "name": "stdout",
     "output_type": "stream",
     "text": [
      "{\"username\":\"bar\",\"email\":\"bar@example.com\"}\n",
      "{\"username\":\"baz\",\"email\":\"baz@example.net\"}\n"
     ]
    }
   ],
   "source": [
    "%%bash\n",
    "# Extract registrations\n",
    "grep \"registered\" data/jsonlines.log |\n",
    "    sed 's/^.*registered\"://' |\n",
    "    sed 's/}.*/}/'"
   ]
  },
  {
   "cell_type": "markdown",
   "metadata": {
    "editable": true,
    "slideshow": {
     "slide_type": "notes"
    },
    "tags": []
   },
   "source": [
    "You probably notice already that the above command line could have gone wrong (because we did not choose the best tool).  If a registration object contained nested objects (that is, more closing braces `}`) we would not match the \"registered\" event that what we actually wanted. For that matter, if some `\"username\"` field were the string \"registered\" we would go awry as well. To do this correctly, we need actually to parse the JSON."
   ]
  },
  {
   "cell_type": "code",
   "execution_count": 18,
   "metadata": {
    "editable": true,
    "slideshow": {
     "slide_type": "slide"
    },
    "tags": []
   },
   "outputs": [
    {
     "name": "stdout",
     "output_type": "stream",
     "text": [
      "{\n",
      "  \"username\": \"bar\",\n",
      "  \"email\": \"bar@example.com\"\n",
      "}\n",
      "{\n",
      "  \"username\": \"baz\",\n",
      "  \"email\": \"baz@example.net\"\n",
      "}\n"
     ]
    }
   ],
   "source": [
    "%%bash\n",
    "jq '.registered | select(.username != null)' data/jsonlines.log"
   ]
  },
  {
   "attachments": {},
   "cell_type": "markdown",
   "metadata": {
    "editable": true,
    "slideshow": {
     "slide_type": "notes"
    },
    "tags": []
   },
   "source": [
    "Here again, from the command line, `jq` is a useful tool.\n",
    "\n",
    "Most likely, following initial exploration of a data set, for which these command-line tools are useful, we would like to perform these kinds of tasks in a general purpose programming language.  A third-party Python module `jsonlines` exists, but simply using the standard library is more than sufficient."
   ]
  },
  {
   "cell_type": "code",
   "execution_count": 19,
   "metadata": {
    "editable": true,
    "slideshow": {
     "slide_type": "slide"
    },
    "tags": []
   },
   "outputs": [
    {
     "name": "stdout",
     "output_type": "stream",
     "text": [
      "{'username': 'bar', 'email': 'bar@example.com'}\n",
      "{'username': 'baz', 'email': 'baz@example.net'}\n"
     ]
    }
   ],
   "source": [
    "with open('data/jsonlines.log') as log:\n",
    "    for line in log:\n",
    "        record = json.loads(line)\n",
    "        if 'registered' in record:\n",
    "            user = record['registered']\n",
    "            if 'username' in user:\n",
    "                print(user)"
   ]
  },
  {
   "cell_type": "markdown",
   "metadata": {
    "editable": true,
    "slideshow": {
     "slide_type": "notes"
    },
    "tags": []
   },
   "source": [
    "In a more fleshed out version, of course, we would do something beyond just printing out the registrant information.  If one of the other variants for JSON streaming were used rather than JSON lines, the code would be somewhat more difficult, but still reasonable to program manually."
   ]
  },
  {
   "attachments": {},
   "cell_type": "markdown",
   "metadata": {
    "editable": true,
    "slideshow": {
     "slide_type": "slide"
    },
    "tags": []
   },
   "source": [
    "### JSON Schema\n",
    "\n",
    "One approach to enforcing assumptions about JSON documents is to use a JSON Schema to validate documents prior to passing them to data extraction functions.\n",
    "\n",
    "Enforcing a schema is a good step towards assuring data integrity. Even if you, as a data scientist, need to reverse engineer one, that is often worthwhile for document types that are repeatedly processecd."
   ]
  },
  {
   "attachments": {},
   "cell_type": "markdown",
   "metadata": {
    "editable": true,
    "slideshow": {
     "slide_type": "notes"
    },
    "tags": []
   },
   "source": [
    "A JSON Schema is itself a JSON document following certain specifications.  At the simplest, it needs to specify a type for the JSON being validated. Within that, it can indicate what keys might occur inside objects, which are required, the cardinality of arrays, and a number of other elements, including recursive structures.  An approach of \"validate, then process\" is often useful; here validation merely describes the *structure* of a JSON document, it is not intended to make any claims about it containing *good data*, such as is discussed in chapter 4 (*Anomaly Detection*) and chapter 5 (*Data Quality*).\n",
    "\n",
    "The examples below use the Python third-party module **jsonschema**, but wrap its API in a slightly different function `not_valid()`.  This function will return a `False` if everything is fine, but return a descriptive error message if a problem was encountered.  "
   ]
  },
  {
   "cell_type": "code",
   "execution_count": 20,
   "metadata": {
    "editable": true,
    "slideshow": {
     "slide_type": "slide"
    },
    "tags": []
   },
   "outputs": [],
   "source": [
    "user_schema = json.loads(\"\"\"{\n",
    "  \"$schema\": \"http://json-schema.org/draft-07/schema#\",\n",
    "  \"$id\": \"http://kdm.training/user-schema.json\",\n",
    "  \"title\": \"User\",\n",
    "  \"description\": \"A User of Our Computer System\",\n",
    "  \"type\" : \"object\",\n",
    "  \"required\": [\"name\", \"password\"],\n",
    "  \"properties\" : {\n",
    "     \"name\" : {\"type\" : \"string\"},\n",
    "     \"password\": {\n",
    "         \"description\": \"Use special characters and mixed case\",\n",
    "         \"type\": \"string\"},\n",
    "     \"lucky_numbers\": {\n",
    "         \"description\": \"Up to 6 favorite numbers 1-100\",\n",
    "         \"type\": \"array\",\n",
    "         \"items\": {\n",
    "           \"type\": \"number\",\n",
    "           \"minimum\": 1,\n",
    "           \"maximum\": 100\n",
    "         },\n",
    "         \"uniqueItems\": true,\n",
    "         \"minItems\": 0,\n",
    "         \"maxItems\": 6\n",
    "    }}}\"\"\")"
   ]
  },
  {
   "attachments": {},
   "cell_type": "markdown",
   "metadata": {
    "editable": true,
    "slideshow": {
     "slide_type": "notes"
    },
    "tags": []
   },
   "source": [
    "On this slice is a schema for files like the `user.json` file we looked at earlier.  The \"user database\" web server that was queried above sends user records that are expected to follow a certain format.  But the format—as software development occurs in the real world—might only be informally specified in email threads and telephone conversations between developers.  \n",
    "\n",
    "Before running scripts to process these user records, it is useful to identify users or potential user documents that will violate the assumptions embedded in our code logic.  Let us see what information we can obtain from our example schema.\n",
    "\n",
    "This simple \"User\" schema does not exercise *all* the capabilities in JSON Schema, but it is a good representation.  Some metadata is contained in the keys `\"$schema\"`, `\"$id\"`, `\"title\"`, and `\"description\"`. \n",
    "\n",
    "All of those keys are optional in the JSON Schema specification, but their names are standard, if used.  The only key that is strictly required is `\"type\"` which must be one of the four JSON data types.  Within an object, keys may be required or optional.\n",
    "\n",
    "JSON Schema has no mechanism to *exclude* other keys that are not described.  The schema merely states that *if* a key is present, it must have values of a certain sort.\n",
    "\n",
    "The keys `\"name\"` and `\"password\"` are required, and are both strings.  \n",
    "\n",
    "The optional `\"description\"` of password in the schema indicates a desire for passwords to be _good_ in following password rules that many computer systems enforce. \n",
    "\n",
    "JSON Schema does not itself have a mechanism to check programmatic rules of that sort.\n",
    "\n",
    "The key `\"lucky_numbers\"` describes quite a bit; not only must it have an array as a value, but that array must consist of numbers between 1 and 100, and have no more than 6 of them.  Let us look at a document that passes validation."
   ]
  },
  {
   "cell_type": "code",
   "execution_count": 21,
   "metadata": {
    "editable": true,
    "slideshow": {
     "slide_type": "slide"
    },
    "tags": []
   },
   "outputs": [],
   "source": [
    "david = json.loads(\"\"\"\n",
    "{\n",
    "  \"name\": \"David Mertz\",\n",
    "  \"password\": \"badpassword\",\n",
    "  \"details\": {\n",
    "    \"profession\": \"Data Scientist\",\n",
    "    \"employer\": \"KDM\"\n",
    "  },\n",
    "  \"lucky_numbers\": [12, 42, 55, 87]\n",
    "}\n",
    "\"\"\")\n",
    "\n",
    "if msg := not_valid(david, user_schema):\n",
    "    print(msg)"
   ]
  },
  {
   "cell_type": "markdown",
   "metadata": {
    "editable": true,
    "slideshow": {
     "slide_type": "notes"
    },
    "tags": []
   },
   "source": [
    "The top-level key `\"details\"` is not mentioned in the schema, and hence may contain anything whatsoever.  That is, anything which is valid JSON.  This document validates successfully, so perhaps we would want to process it downstream.  Let us consider a few documents that fail as users."
   ]
  },
  {
   "cell_type": "code",
   "execution_count": 22,
   "metadata": {
    "editable": true,
    "slideshow": {
     "slide_type": "slide"
    },
    "tags": []
   },
   "outputs": [
    {
     "name": "stdout",
     "output_type": "stream",
     "text": [
      "99 is not of type 'string'\n",
      "\n",
      "Failed validating 'type' in schema['properties']['name']:\n",
      "    {'type': 'string'}\n",
      "\n",
      "On instance['name']:\n",
      "    99\n"
     ]
    }
   ],
   "source": [
    "barbara_feldon = json.loads(\"\"\"\n",
    "{\n",
    "  \"name\": 99, \n",
    "  \"password\": \"1ibydieZ!S@8\"\n",
    "}\n",
    "\"\"\")\n",
    "\n",
    "if msg := not_valid(barbara_feldon, user_schema):\n",
    "    print(msg)"
   ]
  },
  {
   "cell_type": "markdown",
   "metadata": {
    "editable": true,
    "slideshow": {
     "slide_type": "notes"
    },
    "tags": []
   },
   "source": [
    "The diagnosis of the failure provides information relevant to remediation.  Another example fails in a somewhat different manner, and with a more verbose description of the problem:"
   ]
  },
  {
   "cell_type": "code",
   "execution_count": 23,
   "metadata": {
    "editable": true,
    "slideshow": {
     "slide_type": "slide"
    },
    "tags": []
   },
   "outputs": [],
   "source": [
    "intruder = json.loads(\"\"\"\n",
    "{\"password\": \"P4cC!^*8chWz8\", \"profession\": \"Hacker\"}\"\"\")\n",
    "msg = not_valid(intruder, user_schema)\n",
    "msg_lines = msg.splitlines()"
   ]
  },
  {
   "cell_type": "code",
   "execution_count": 24,
   "metadata": {
    "editable": true,
    "slideshow": {
     "slide_type": "subslide"
    },
    "tags": []
   },
   "outputs": [
    {
     "name": "stdout",
     "output_type": "stream",
     "text": [
      "'name' is a required property\n",
      "\n",
      "Failed validating 'required' in schema:\n",
      "{'$schema': 'http://json-schema.org/draft-07/schema#',\n",
      "'$id': 'http://kdm.training/user-schema.json',\n",
      "'title': 'User',\n",
      "'description': 'A User of Our Computer System',\n",
      "'type': 'object',\n",
      "'required': ['name', 'password'],\n",
      "'properties': {'name': {'type': 'string'},\n",
      "'password': {'description': 'Use special characters '\n",
      "'and mixed case',\n",
      "'type': 'string'},\n",
      "'lucky_numbers': {'description': 'Up to 6 favorite '\n",
      "'numbers 1-100',\n",
      "'type': 'array',\n",
      "'items': {'type': 'number',\n",
      "'minimum': 1,\n",
      "'maximum': 100},\n",
      "'uniqueItems': True,\n",
      "'minItems': 0,\n",
      "'maxItems': 6}}}\n",
      "\n",
      "On instance:\n",
      "{'password': 'P4cC!^*8chWz8', 'profession': 'Hacker'}\n"
     ]
    }
   ],
   "source": [
    "print(\"\\n\".join(l.strip() for l in msg_lines))"
   ]
  },
  {
   "cell_type": "markdown",
   "metadata": {
    "editable": true,
    "slideshow": {
     "slide_type": "notes"
    },
    "tags": []
   },
   "source": [
    "Let us look through a few more failure messages."
   ]
  },
  {
   "cell_type": "code",
   "execution_count": 25,
   "metadata": {
    "editable": true,
    "slideshow": {
     "slide_type": "slide"
    },
    "tags": []
   },
   "outputs": [
    {
     "name": "stdout",
     "output_type": "stream",
     "text": [
      "'three' is not of type 'number'\n",
      "\n",
      "Failed validating 'type' in schema['properties']['lucky_numbers']['items']:\n",
      "    {'type': 'number', 'minimum': 1, 'maximum': 100}\n",
      "\n",
      "On instance['lucky_numbers'][2]:\n",
      "    'three' \n",
      "--------------------\n"
     ]
    }
   ],
   "source": [
    "the_count = json.loads(\"\"\"\n",
    "{\n",
    "  \"name\": \"Count von Count\",\n",
    "  \"password\": \"fourbananas\",\n",
    "  \"lucky_numbers\": [\"one\", \"two\", \"three\"]\n",
    "}\n",
    "\"\"\")\n",
    "\n",
    "if msg := not_valid(the_count, user_schema):\n",
    "    print(msg, \"\\n--------------------\")"
   ]
  },
  {
   "cell_type": "markdown",
   "metadata": {
    "editable": true,
    "slideshow": {
     "slide_type": "notes"
    },
    "tags": []
   },
   "source": [
    "\"The count\" uses spelled out words rather than JSON numbers. The failure here is that the \"lucky numbers\" provided are not numbers as required, but instead strings.  Data typing is provided within the limited type system of JSON."
   ]
  },
  {
   "cell_type": "code",
   "execution_count": 26,
   "metadata": {
    "editable": true,
    "slideshow": {
     "slide_type": "slide"
    },
    "tags": []
   },
   "outputs": [
    {
     "name": "stdout",
     "output_type": "stream",
     "text": [
      "[1, 2, 3, 4, 5, 6, 7, 8] is too long\n",
      "\n",
      "Failed validating 'maxItems' in schema['properties']['lucky_numbers']:\n",
      "    {'description': 'Up to 6 favorite numbers 1-100',\n",
      "     'type': 'array',\n",
      "     'items': {'type': 'number', 'minimum': 1, 'maximum': 100},\n",
      "     'uniqueItems': True,\n",
      "     'minItems': 0,\n",
      "     'maxItems': 6}\n",
      "\n",
      "On instance['lucky_numbers']:\n",
      "    [1, 2, 3, 4, 5, 6, 7, 8]\n"
     ]
    }
   ],
   "source": [
    "georg = json.loads(\"\"\"\n",
    "{\n",
    "  \"name\": \"Georg Cantor\",\n",
    "  \"password\": \"omega_aleph\",\n",
    "  \"lucky_numbers\": [1, 2, 3, 4, 5, 6, 7, 8]\n",
    "}\n",
    "\"\"\")\n",
    "\n",
    "if msg := not_valid(georg, user_schema):\n",
    "    print(msg)"
   ]
  },
  {
   "cell_type": "markdown",
   "metadata": {
    "editable": true,
    "slideshow": {
     "slide_type": "notes"
    },
    "tags": []
   },
   "source": [
    "Georg Cantor's example is interesting.  The cardinality of the \"lucky numbers\" are checked as well."
   ]
  },
  {
   "cell_type": "code",
   "execution_count": 27,
   "metadata": {
    "editable": true,
    "slideshow": {
     "slide_type": "slide"
    },
    "tags": []
   },
   "outputs": [
    {
     "name": "stdout",
     "output_type": "stream",
     "text": [
      "[9, 9, 9] has non-unique elements\n",
      "\n",
      "Failed validating 'uniqueItems' in schema['properties']['lucky_numbers']:\n",
      "    {'description': 'Up to 6 favorite numbers 1-100',\n",
      "     'type': 'array',\n",
      "     'items': {'type': 'number', 'minimum': 1, 'maximum': 100},\n",
      "     'uniqueItems': True,\n",
      "     'minItems': 0,\n",
      "     'maxItems': 6}\n",
      "\n",
      "On instance['lucky_numbers']:\n",
      "    [9, 9, 9]\n"
     ]
    }
   ],
   "source": [
    "revolution_9 = json.loads(\"\"\"\n",
    "{\n",
    "  \"name\": \"Yoko Ono\",\n",
    "  \"password\": \"grapefruit\",\n",
    "  \"lucky_numbers\": [9, 9, 9]\n",
    "}\n",
    "\"\"\")\n",
    "\n",
    "if msg := not_valid(revolution_9, user_schema):\n",
    "    print(msg)"
   ]
  },
  {
   "cell_type": "markdown",
   "metadata": {
    "editable": true,
    "slideshow": {
     "slide_type": "notes"
    },
    "tags": []
   },
   "source": [
    "In Yoko Ono's example we see that uniqueness can be validated in an array.  This provides a way of distinguishing a set from a sequence, even though JSON itself does not distinguish those data types."
   ]
  },
  {
   "attachments": {},
   "cell_type": "markdown",
   "metadata": {
    "editable": true,
    "slideshow": {
     "slide_type": "slide"
    },
    "tags": []
   },
   "source": [
    "## NoSQL Databases\n",
    "\n",
    "* Graph databases\n",
    "* Document-oriented databases\n",
    "  * Missing fields in ragged documents\n",
    "  * Denormalization and data integrity\n",
    "* Key/value stores\n",
    "  * Informal hierarchies"
   ]
  },
  {
   "cell_type": "markdown",
   "metadata": {
    "editable": true,
    "slideshow": {
     "slide_type": "notes"
    },
    "tags": []
   },
   "source": [
    "A number of database systems avoid the relational model, usually with the goal of better performance within a particular domain.  As well, many RDBMs now include JSON and XML data types. \n",
    "\n",
    "In overview, these systems break down into documented-oriented databases, graph databases, and key/value stores.  Specific server software may combine elements of these—or indeed elements of relational databases—and the specific performance characteristics, design philosophy, and general limitations, vary among each project.\n",
    "\n",
    "Beyond mentioning here that they exist, I will not discus in this lesson anything specific about data cleanliness issues that are characteristic of graph databases.  The types of data analyses performed on graphs are typically somewhat specialized, but you may encounter data in these formats.  \n",
    "\n",
    "We will look in more detail at document-oriented databases and key/value stores, both of which you are likely to find yourself working with."
   ]
  },
  {
   "cell_type": "markdown",
   "metadata": {
    "editable": true,
    "slideshow": {
     "slide_type": "slide"
    },
    "tags": []
   },
   "source": [
    "<img src=\"img/GraphDatabase_PropertyGraph.png\" alt=\"Graph Database Illustration\" width=\"500px\"/>"
   ]
  },
  {
   "cell_type": "markdown",
   "metadata": {
    "editable": true,
    "slideshow": {
     "slide_type": "notes"
    },
    "tags": []
   },
   "source": [
    "In broad concept, graph databases consist of nodes, and edges that connect nodes; both nodes and edges can usually hold attributes or properties, either free form per object, or defined by a schema.  For example, the node representing me might contain my name (\"David\"), my occupation (\"Data Scientist\"), and my current home state (\"Maine\").  \n",
    "\n",
    "In turn, I have a \"social graph\" that inclues my connection/edge labeled \"Friend\" (that perhaps contains other properties) to the node \"Brad.\"  I also have a connection labeled \"Company\" to the node \"Erudio.\"  A complete social graph may consist of millions of nodes and edges, with various attributes attached to each."
   ]
  },
  {
   "attachments": {},
   "cell_type": "markdown",
   "metadata": {
    "editable": true,
    "slideshow": {
     "slide_type": "slide"
    },
    "tags": []
   },
   "source": [
    "### Document-Oriented Databases\n",
    "\n",
    "Document-oriented databases typically store and communicate their data using XML, YAML, JSON, or BSON (Binary JSON).  In a sense, you can think of these databases simply as single giant files in one of these formats, which just happen to have mechanisms to index and optimize queries into them. "
   ]
  },
  {
   "cell_type": "markdown",
   "metadata": {
    "editable": true,
    "slideshow": {
     "slide_type": "notes"
    },
    "tags": []
   },
   "source": [
    "In actual implementation, this will not be true, but as a conceptual model it does not go far astray.  The key thing to understand in document-oriented databases is that their data is hierarchically organized.  This can make some access patterns very efficient, but it comes with all the same pitfalls as other hierarchical formats.\n",
    "\n",
    "Popular open source document-oriented databases include **MongoDB**, **CouchDB**, **CrateDB**, **Elasticsearch**, and **Solr**.  This software space is well occupied, and a large number of other tools, both open source and proprietary, are not included in my list.  In broad concept, especially in terms of data cleanliness concerns, these different projects are similar.\n",
    "\n",
    "The main pitfall in hierarchical data is simply that it is ragged.  Particular fields at particular levels of nesting might be missing.  "
   ]
  },
  {
   "cell_type": "code",
   "execution_count": 28,
   "metadata": {
    "editable": true,
    "slideshow": {
     "slide_type": "slide"
    },
    "tags": []
   },
   "outputs": [],
   "source": [
    "# Assume that MongoDB is running on local system\n",
    "from pymongo import MongoClient\n",
    "client = MongoClient('mongodb://localhost:27017')"
   ]
  },
  {
   "cell_type": "markdown",
   "metadata": {
    "editable": true,
    "slideshow": {
     "slide_type": "notes"
    },
    "tags": []
   },
   "source": [
    "Let us illustrate with an example inspired by a MongoDB blog post about restaurants with reviews.  MongoDB is based around JSON.  The same concepts I describe would apply to any document-oriented database.  Security configuration and login credentials will be part of normal usage, but are not addressed here. \n",
    "\n",
    "We can check what databases exist on this server.  Other than \"business\", the others are administrative in nature, and simply exist by default on every MongoDB installation."
   ]
  },
  {
   "cell_type": "code",
   "execution_count": 29,
   "metadata": {
    "editable": true,
    "slideshow": {
     "slide_type": "slide"
    },
    "tags": []
   },
   "outputs": [
    {
     "data": {
      "text/plain": [
       "['admin', 'business', 'config', 'local']"
      ]
     },
     "execution_count": 29,
     "metadata": {},
     "output_type": "execute_result"
    }
   ],
   "source": [
    "# What databases exist on the local server?\n",
    "client.list_database_names()"
   ]
  },
  {
   "attachments": {},
   "cell_type": "markdown",
   "metadata": {
    "editable": true,
    "slideshow": {
     "slide_type": "slide"
    },
    "tags": []
   },
   "source": [
    "A document-oriented database is typically organized as in a hierarchy:\n",
    "\n",
    "server → database → collection → document. \n",
    "\n",
    "A relational database is organized as:\n",
    "\n",
    "server → database → table → row. "
   ]
  },
  {
   "cell_type": "code",
   "execution_count": 30,
   "metadata": {
    "editable": true,
    "slideshow": {
     "slide_type": "slide"
    },
    "tags": []
   },
   "outputs": [
    {
     "name": "stdout",
     "output_type": "stream",
     "text": [
      "Collections: ['info', 'reviews']\n",
      "Number of restaurants: 50\n",
      "Example:\n",
      "{'_id': ObjectId('67735c62e2becd6a79188b8d'),\n",
      " 'cuisine': 'Mexican',\n",
      " 'name': 'Kitchen Tasty Inc.',\n",
      " 'phone': '+1 524 555 9265'}\n"
     ]
    }
   ],
   "source": [
    "db_biz = client.business\n",
    "print(\"Collections:\", \n",
    "      [c['name'] for c in db_biz.list_collections()])\n",
    "print(\"Number of restaurants:\",\n",
    "      db_biz.info.estimated_document_count())\n",
    "print(\"Example:\")\n",
    "pprint(db_biz.info.find_one())"
   ]
  },
  {
   "attachments": {},
   "cell_type": "markdown",
   "metadata": {
    "editable": true,
    "slideshow": {
     "slide_type": "notes"
    },
    "tags": []
   },
   "source": [
    "The \"business\" database has two branches at its top level.  One for reviews, another for info.  Within the `info`, we have a number of similar objects, each describing a restaurant.  As a convenience, MongoDB lets you use dot notation to access nested elements where names are valid Python identifiers."
   ]
  },
  {
   "cell_type": "code",
   "execution_count": 31,
   "metadata": {
    "editable": true,
    "slideshow": {
     "slide_type": "slide"
    },
    "tags": []
   },
   "outputs": [
    {
     "name": "stdout",
     "output_type": "stream",
     "text": [
      "Reviews: 5000\n",
      "{'_id': ObjectId('67735c62e2becd6a79188bbf'),\n",
      " 'name': 'Goat Salty Take-Out',\n",
      " 'price': 'expensive',\n",
      " 'rating': 5}\n",
      "{'_id': ObjectId('67735c62e2becd6a79188bc0'),\n",
      " 'name': 'Big City Restaurant',\n",
      " 'price': 'expensive',\n",
      " 'rating': 2}\n",
      "{'_id': ObjectId('67735c62e2becd6a79188bc1'),\n",
      " 'name': 'Sweet Tasty Take-Out',\n",
      " 'price': 'reasonable',\n",
      " 'rating': 1}\n"
     ]
    }
   ],
   "source": [
    "print(\"Reviews:\", db_biz.reviews.estimated_document_count())\n",
    "\n",
    "for review in db_biz.reviews.find(limit=3):\n",
    "    pprint(review)"
   ]
  },
  {
   "cell_type": "markdown",
   "metadata": {
    "editable": true,
    "slideshow": {
     "slide_type": "notes"
    },
    "tags": []
   },
   "source": [
    "Similarly, here are the first few reviews.  Each review pertains to one of the listed restaurants in the \"info\" branch."
   ]
  },
  {
   "cell_type": "code",
   "execution_count": 32,
   "metadata": {
    "editable": true,
    "slideshow": {
     "slide_type": "slide"
    },
    "tags": []
   },
   "outputs": [
    {
     "name": "stdout",
     "output_type": "stream",
     "text": [
      "{'_id': ObjectId('67735c62e2becd6a79188be4'),\n",
      " 'name': 'Big City Restaurant',\n",
      " 'phone': '+1 869 555 6412',\n",
      " 'price': 'reasonable',\n",
      " 'rating': 4}\n",
      "{'_id': ObjectId('67735c62e2becd6a79188c18'),\n",
      " 'name': 'Big City Restaurant',\n",
      " 'price': 'reasonable',\n",
      " 'rating': 7}\n",
      "{'_id': ObjectId('67735c62e2becd6a79188c1c'),\n",
      " 'name': 'Big City Restaurant',\n",
      " 'price': 'reasonable',\n",
      " 'rating': 7}\n"
     ]
    }
   ],
   "source": [
    "query = {'price': 'reasonable', 'name': 'Big City Restaurant'}\n",
    "for review in db_biz.reviews.find(filter=query, limit=3):\n",
    "    pprint(review)"
   ]
  },
  {
   "cell_type": "markdown",
   "metadata": {
    "editable": true,
    "slideshow": {
     "slide_type": "notes"
    },
    "tags": []
   },
   "source": [
    "We might make a more specific inquiry.  For example, perhaps we are interested in those reviews of \"Big City Restaurant\" which consider the price \"reasonable\".  We can see that different diners who evaluated the price the same rated the restaurant differently.  \n",
    "\n",
    "In principle, other data might be attached to each of these documents. MongoDB's query language is itself expressed as JSON (or as Python dictionaries from the Python interface)."
   ]
  },
  {
   "cell_type": "markdown",
   "metadata": {
    "editable": true,
    "slideshow": {
     "slide_type": "notes"
    },
    "tags": []
   },
   "source": [
    "#### Missing Fields"
   ]
  },
  {
   "cell_type": "code",
   "execution_count": 33,
   "metadata": {
    "editable": true,
    "slideshow": {
     "slide_type": "slide"
    },
    "tags": []
   },
   "outputs": [],
   "source": [
    "no_rating = []\n",
    "ratings = []\n",
    "query = {'name': 'Big City Restaurant'}\n",
    "for review in db_biz.reviews.find(filter=query):\n",
    "    try:\n",
    "        ratings.append(review['rating'])\n",
    "    except KeyError:\n",
    "        no_rating.append(f\"{review['_id']}\")"
   ]
  },
  {
   "cell_type": "markdown",
   "metadata": {
    "editable": true,
    "slideshow": {
     "slide_type": "notes"
    },
    "tags": []
   },
   "source": [
    "Having gathered the information, let's visualize it."
   ]
  },
  {
   "cell_type": "code",
   "execution_count": 34,
   "metadata": {
    "editable": true,
    "slideshow": {
     "slide_type": "slide"
    },
    "tags": []
   },
   "outputs": [
    {
     "name": "stdout",
     "output_type": "stream",
     "text": [
      "Missing rating:\n",
      " 67735c62e2becd6a79188e76 67735c63e2becd6a791896aa 67735c63e2becd6a79189a2e\n"
     ]
    },
    {
     "data": {
      "image/png": "[encoded data removed]",
      "text/plain": [
       "<Figure size 640x480 with 1 Axes>"
      ]
     },
     "metadata": {},
     "output_type": "display_data"
    }
   ],
   "source": [
    "n = len(ratings)\n",
    "pd.Series(ratings).plot(kind=\"hist\", title=f\"{n} ratings\")\n",
    "print(\"Missing rating:\\n\", \" \".join(no_rating))"
   ]
  },
  {
   "cell_type": "markdown",
   "metadata": {
    "editable": true,
    "slideshow": {
     "slide_type": "notes"
    },
    "tags": []
   },
   "source": [
    "At our first cursory look at the \"business\" database, the objects seemed uniform in structure. However, not all reviews actually contain a rating.\n",
    "\n",
    "We can generate a histogram of the ratings given to \"Big City Restaurant\"  But we need to pay attention to those reviews that do not *have* ratings. This is a typical example of missing data, as is addressed in a number of lessons in this course."
   ]
  },
  {
   "cell_type": "code",
   "execution_count": 35,
   "metadata": {
    "editable": true,
    "slideshow": {
     "slide_type": "slide"
    },
    "tags": []
   },
   "outputs": [
    {
     "data": {
      "text/plain": [
       "[{'_id': ObjectId('67735c62e2becd6a79188e76'),\n",
       "  'name': 'Big City Restaurant',\n",
       "  'price': 'reasonable'},\n",
       " {'_id': ObjectId('67735c63e2becd6a791896aa'),\n",
       "  'name': 'Big City Restaurant',\n",
       "  'price': 'expensive'},\n",
       " {'_id': ObjectId('67735c63e2becd6a79189a2e'),\n",
       "  'name': 'Big City Restaurant',\n",
       "  'price': 'reasonable'}]"
      ]
     },
     "execution_count": 35,
     "metadata": {},
     "output_type": "execute_result"
    }
   ],
   "source": [
    "list(db_biz.reviews.find(\n",
    "    filter={'name': 'Big City Restaurant', 'rating': None}))"
   ]
  },
  {
   "attachments": {},
   "cell_type": "markdown",
   "metadata": {
    "editable": true,
    "slideshow": {
     "slide_type": "notes"
    },
    "tags": []
   },
   "source": [
    "MongoDB and other hierarchical databases will let you match documents based on missing fields.  In this small example, there is not that much other data in each document to consider, but in real world cases there might be many and diverse fields in similar documents. \n",
    "\n",
    "Whether or not you need to worry about these three reviews with missing ratings is problem and domain driven.  You might want to ignore them.  You might want to perform techniques to impute values, as discussed later in this course..  In any event, you should be conscious of the fact that your data is incomplete."
   ]
  },
  {
   "attachments": {},
   "cell_type": "markdown",
   "metadata": {
    "editable": true,
    "slideshow": {
     "slide_type": ""
    },
    "tags": []
   },
   "source": [
    "#### Denormalization and Its Discontents\n",
    "\n",
    "For performance reasons that are analogous to those in relational databases, sometimes data is denormalized in document-oriented databases.  Querying within one branch will be faster, and querying just one document will be much faster again.  Hence, administrators of document-oriented databases will commonly duplicate information into a location \"closer\" to where it is typically accessed."
   ]
  },
  {
   "cell_type": "markdown",
   "metadata": {
    "editable": true,
    "slideshow": {
     "slide_type": "notes"
    },
    "tags": []
   },
   "source": [
    "In querying a document-oriented database, we might use code similar to this:"
   ]
  },
  {
   "cell_type": "code",
   "execution_count": 36,
   "metadata": {
    "editable": true,
    "slideshow": {
     "slide_type": "slide"
    },
    "tags": []
   },
   "outputs": [],
   "source": [
    "def has_best_review(name, db=db_biz):\n",
    "    \"Return phone if restaurant has at least one 10 rating\"\n",
    "    query = {'name': name, 'rating': 10}\n",
    "    review = None\n",
    "    \n",
    "    # Fast path has phone in local results\n",
    "    for review in db.reviews.find(query):\n",
    "        phone = review.get('phone')\n",
    "        if phone:\n",
    "            return f\"Call {name} at {phone}! (FAST query)\"\n",
    "\n",
    "    # If there were no ratings of 10, we don't like it!\n",
    "    if not review:\n",
    "        return f\"Do not bother with {name}!\"\n",
    "\n",
    "    # MUCH SLOWER path is second query\n",
    "    info = db.info.find_one({'name': name})\n",
    "    return f\"Call {name} at {info['phone']}! (SLOW query)\""
   ]
  },
  {
   "cell_type": "markdown",
   "metadata": {
    "editable": true,
    "slideshow": {
     "slide_type": "notes"
    },
    "tags": []
   },
   "source": [
    "Perhaps when a review is consulted numerous times (for example, if it had an actual description field), the database administrator may cache the phone number that is usually wanted within the actual review document.  Let us see how several inquiries behave."
   ]
  },
  {
   "cell_type": "code",
   "execution_count": 37,
   "metadata": {
    "editable": true,
    "slideshow": {
     "slide_type": "slide"
    },
    "tags": []
   },
   "outputs": [
    {
     "data": {
      "text/plain": [
       "'Call Kitchen Tasty Inc. at +1 524 555 9265! (FAST query)'"
      ]
     },
     "execution_count": 37,
     "metadata": {},
     "output_type": "execute_result"
    }
   ],
   "source": [
    "has_best_review('Kitchen Tasty Inc.')"
   ]
  },
  {
   "cell_type": "code",
   "execution_count": 38,
   "metadata": {
    "editable": true,
    "slideshow": {
     "slide_type": ""
    },
    "tags": []
   },
   "outputs": [
    {
     "data": {
      "text/plain": [
       "'Do not bother with City Kitchen Inc.!'"
      ]
     },
     "execution_count": 38,
     "metadata": {},
     "output_type": "execute_result"
    }
   ],
   "source": [
    "has_best_review('City Kitchen Inc.')"
   ]
  },
  {
   "cell_type": "code",
   "execution_count": 39,
   "metadata": {
    "editable": true,
    "slideshow": {
     "slide_type": ""
    },
    "tags": []
   },
   "outputs": [
    {
     "data": {
      "text/plain": [
       "'Call Sweet Tasty Take-Out at +1 759 555 0158! (SLOW query)'"
      ]
     },
     "execution_count": 39,
     "metadata": {},
     "output_type": "execute_result"
    }
   ],
   "source": [
    "has_best_review('Sweet Tasty Take-Out')"
   ]
  },
  {
   "attachments": {},
   "cell_type": "markdown",
   "metadata": {
    "editable": true,
    "slideshow": {
     "slide_type": "notes"
    },
    "tags": []
   },
   "source": [
    "On its face, this all seems like reasonable performance optimization.  The problem is that *duplicated* information is information that *might be* inconsistent.  \n",
    "\n",
    "If the phone number stored in the review is not the same as the phone number stored with the restaurant record itself, we are faced with a data integrity problem.  Presumably, at *some point* the telephone number was copied into the review document.  \n",
    "\n",
    "It is *plausible* that the phone number was copied from the \"info\" branch to the \"reviews\" branch at the time the review was created, which would suggest that the \"info\" branch is more current.  However, if we need to do the extra lookup, the whole point of denormalization is defeated.\n",
    "\n",
    "It is also *possible* that the phone number was entered with the review itself as an option.  Determining the cause of the data integrity problem, unfortunately, depends on understanding not only the code that might have run in the past, but also even the human or automated entry processes that might have occurred."
   ]
  },
  {
   "attachments": {},
   "cell_type": "markdown",
   "metadata": {
    "editable": true,
    "slideshow": {
     "slide_type": "slide"
    },
    "tags": []
   },
   "source": [
    "### Key/Value Stores\n",
    "\n",
    "The simplest possible database system is a key/value store.  These systems do nothing more than map some key (usually a string) to a value (sometimes a string, sometimes compound types).  "
   ]
  },
  {
   "attachments": {},
   "cell_type": "markdown",
   "metadata": {
    "editable": true,
    "slideshow": {
     "slide_type": "notes"
    },
    "tags": []
   },
   "source": [
    "Often these systems are used as in-memory data stores to allow the fastest possible access, often as a form of caching.  However, most of the systems that usually operate in-memory—including among distributed servers—also have some persistence mechanism such as virtual memory or snapshotting.  Other variations of key/value stores are primarily on-disk formats, but they might in turn reside primarily in cache memory, hence achieving similar speed.\n",
    "\n",
    "**Redis** (Remote Dictionary Server) and **Memcached** are popular in-memory systems (with persistence mechanisms on the side).  Memcached, as its name suggests, is most commonly used as a cache, and is hence much less commonly a \"source of knowledge.\"  That is, a cache frequently sits between a client and a server and simply records the previous result from a client.  If an identical request occurs again (possibly limited to some \"staleness\" period) then the complex database query, or difficult computation, or access to additional resources external to the server, can be skipped and the cached result is returned instead.  Redis is sometimes used this way, but is also often used as a definitive or sole source of knowledge for some element of the data needed by a server."
   ]
  },
  {
   "cell_type": "markdown",
   "metadata": {
    "editable": true,
    "slideshow": {
     "slide_type": "slide"
    },
    "tags": []
   },
   "source": [
    "To illustrate this caching in pseudo-code, a server proxy might contain code similar to this:\n",
    "\n",
    "```python\n",
    "request = get_client_request()\n",
    "key = hash(request)   # Collision resistant hash\n",
    "\n",
    "# See if FAST PATH is available\n",
    "if result := check_for_cache(key):\n",
    "    send_to_client(result)\n",
    "    \n",
    "# SLOW PATH as fallback\n",
    "else:\n",
    "    result = expensive_operation(request)\n",
    "    send_to_client(result)\n",
    "    store_to_cache(key, result, expiration=duration)\n",
    "```"
   ]
  },
  {
   "attachments": {},
   "cell_type": "markdown",
   "metadata": {
    "editable": true,
    "slideshow": {
     "slide_type": "notes"
    },
    "tags": []
   },
   "source": [
    "Other key/value stores are derived from the early Unix DBM (Database Manager) system.  These include **LDBM** (Lightning Memory-Mapped Database), **GDBM** (GNU dbm), and **Berkeley DB**.  All of these simply map byte strings to other byte strings, without addressing more complex data structures.  In contrast, for example, Redis allows for values to have a rich collection of data types, including collections allowing nesting.  In practice, however, bytes are sufficient to hold any kind of data; it is just a matter of those bytes representing some serialization format, such as JSON texts, or Python pickles (the Python `shelve` module, for example, is basically just DBM coupled with pickles).\n",
    "\n",
    "Being primarily single files on disk that store key/value pairs, DBM-family libraries occupy a similar application space with SQLite single-file databases.  Both are a way to encapsulate related data into a format that can be read universally, and depends only on a single file to be shared.  Obviously, the manner of use is different between relational and key/value stores, but the same information can easily be represented in either, and both provide their own kind of querying and updating interfaces.\n",
    "\n",
    "In a sense, key/value stores are simple enough that they do not lend themselves to data integrity problems.  Obviously, it is always possible to store values that are simply *wrong* no matter what format is used.  But there is nothing in the structure of a mapping itself which adds special concerns. Or so it would seem."
   ]
  },
  {
   "cell_type": "code",
   "execution_count": 40,
   "metadata": {
    "editable": true,
    "slideshow": {
     "slide_type": "slide"
    },
    "tags": []
   },
   "outputs": [
    {
     "data": {
      "text/plain": [
       "[b'Big Sweet Take-Out::info::phone',\n",
       " b'Big Sweet Inc.::ratings',\n",
       " b'Goat Sweet Inc.::info::phone',\n",
       " b'Fish City Restaurant//ratings',\n",
       " b'Delight Goat Inc.::ratings',\n",
       " b'DESCRIPTION',\n",
       " b'Salty Delight Take-Out::ratings',\n",
       " b'Sweet Tasty Restaurant::info::phone',\n",
       " b'Delight Salty Restaurant::info::phone',\n",
       " b'Tasty Fish Inc.::info::cuisine']"
      ]
     },
     "execution_count": 40,
     "metadata": {},
     "output_type": "execute_result"
    }
   ],
   "source": [
    "biz = dbm.open('data/keyval.db')\n",
    "seed(6)\n",
    "# Keys are bytes; could convert to strings if desired\n",
    "sample(list(biz.keys()), 10)"
   ]
  },
  {
   "cell_type": "markdown",
   "metadata": {
    "editable": true,
    "slideshow": {
     "slide_type": "notes"
    },
    "tags": []
   },
   "source": [
    "Problems arise in practice because users actually *want* hierarchy in their data.  Most keys are not useful as completely flat names.   Developers commonly invent ad hoc hierarchies in the keys used within key/value stores; this is not a necessarily a bad habit, it usually reflects a genuine requirement of the problem space.  However, these hierarchies can be especially fragile."
   ]
  },
  {
   "cell_type": "code",
   "execution_count": 41,
   "metadata": {
    "editable": true,
    "slideshow": {
     "slide_type": "slide"
    },
    "tags": []
   },
   "outputs": [
    {
     "name": "stdout",
     "output_type": "stream",
     "text": [
      "Overview: b'Restaurant information'\n",
      "Cuisine:  b'Mexican'\n",
      "Ratings:  b'2;1;1;10;5;7;1;4;8;10;7;7;6;8;' ...\n"
     ]
    }
   ],
   "source": [
    "name = b\"Tasty Fish Inc.\"\n",
    "print(\"Overview:\", biz[b\"DESCRIPTION\"])\n",
    "print(\"Cuisine: \", biz[name + b\"::info::cuisine\"] )\n",
    "print(\"Ratings: \", biz[name + b\"::ratings\"][:30], \"...\")"
   ]
  },
  {
   "cell_type": "markdown",
   "metadata": {
    "editable": true,
    "slideshow": {
     "slide_type": "notes"
    },
    "tags": []
   },
   "source": [
    "For example, I created a DBM file that contains similar information to the restaurant database discussed above in its MongoDB format.  The hierarchy of branches is represented here using namespacing of the keys with delimiters.  This approach is quite commonplace among creators of key/value store systems. "
   ]
  },
  {
   "cell_type": "code",
   "execution_count": 42,
   "metadata": {
    "editable": true,
    "slideshow": {
     "slide_type": "slide"
    },
    "tags": []
   },
   "outputs": [
    {
     "name": "stdout",
     "output_type": "stream",
     "text": [
      "Tasty Fish Inc.::ratings \t 2;1;1;10;5;7;1;4;8;10;7;7;6;8;\n",
      "Tasty Fish Inc.::info::phone \t +1 935 555 8029\n",
      "Tasty Fish Inc.::info::cuisine \t Mexican\n"
     ]
    }
   ],
   "source": [
    "for key, val in biz.items():\n",
    "    if key.startswith(b'Tasty Fish Inc.::'):\n",
    "        print(key.decode(), '\\t', val[:30].decode())"
   ]
  },
  {
   "attachments": {},
   "cell_type": "markdown",
   "metadata": {
    "editable": true,
    "slideshow": {
     "slide_type": "notes"
    },
    "tags": []
   },
   "source": [
    "We can query on various informally hierarchical keys.\n",
    "\n",
    "As is common, I created an informal sequence in the \"ratings\" value by using delimeters.  Consumers of the data will simply have to be aware that a particular value is formatted that way.  We might even use a small amount of code to pull related keys out from the _ad hoc_ hierarchy."
   ]
  },
  {
   "cell_type": "code",
   "execution_count": 43,
   "metadata": {
    "editable": true,
    "slideshow": {
     "slide_type": "slide"
    },
    "tags": []
   },
   "outputs": [
    {
     "name": "stdout",
     "output_type": "stream",
     "text": [
      "b'Fish City Restaurant::ratings' b'6;10;4;3;10;5;1;4;7;8;5;2;1;5;'\n",
      "b'Fish City Restaurant//ratings' b'9'\n",
      "b'Fish City Restaurant::info::phone' b'+1 851 555 1082'\n",
      "b'Fish City Restaurant::info::cuisine' b'American'\n"
     ]
    }
   ],
   "source": [
    "for key, val in biz.items():\n",
    "    if key.startswith(b'Fish City Restaurant'):\n",
    "        print(key, val[:30])"
   ]
  },
  {
   "attachments": {},
   "cell_type": "markdown",
   "metadata": {
    "editable": true,
    "slideshow": {
     "slide_type": "notes"
    },
    "tags": []
   },
   "source": [
    "The problem that arises here is that over the course of using the database, an  inconsistent convention for hierarchical keys was used.  This is a general concern, and occurs frequently in real data; it is probably especially prominent in multi-user, multi-consumer systems like Redis that are likely to communicate with tools written by many people, in many languages, over time.  Data integrity failures just tend to seep in.  For example:\n",
    "\n",
    "Although the intent of the differently delimited hierarchical keys is easy to discern as human readers, detecting such inconsistencies can be laborious, and you risk missing information with inadequate remediation.  For these types of key/value stores, if you need to utilize their data source, a good first examination is to analyze the structure of keys themselves.  They will not always utilize an ad hoc hierarchy, but doing so is frequent.  Even if there are millions of keys rather than the hundreds in my example, that initial approach can at least assure that consistent path components exist using consistent delimiters (or other formatting of keys)."
   ]
  },
  {
   "attachments": {},
   "cell_type": "markdown",
   "metadata": {
    "editable": true,
    "slideshow": {
     "slide_type": "slide"
    },
    "tags": []
   },
   "source": [
    "## Denouement\n",
    "\n",
    "> Simple is better than complex.<br/>\n",
    "> Complex is better than complicated.<br/>\n",
    "> Flat is better than nested.<br/>\n",
    "> Sparse is better than dense.<br/>\n",
    "> Readability counts.<br/>–Tim Peters (The Zen of Python)"
   ]
  },
  {
   "attachments": {},
   "cell_type": "markdown",
   "metadata": {
    "editable": true,
    "slideshow": {
     "slide_type": "notes"
    },
    "tags": []
   },
   "source": [
    "Hierarchical data often provides a much better representation of *entities* that have attributes and relationships to each other than does flat data.  In object-oriented programming, but also simply in ordinary taxonomies and ontologies, the relationships \"Is-A\" and \"Has-A\" are frequently fundamental, and neither of those is whatsoever tabular.  Or at best, even the attributes captured by *has-a* relationships are ragged and sparse, and definitely not tidy.  Moreover, *is-a* relationships are hierarchical at their core.\n",
    "\n",
    "There is often—even usually—an impedance mismatch between hierarchical data and data science.  Many of these issues comes down to *access patterns*.  For many software applications, what interests us are particular entities that carry with them heterogeneous bundles of data, each bundle pertaining to the kind of thing the entity is an instance of.  In utilizing such applications, we only care about one *thing* (or a handful of things) at a given time.  When that is the case, hierarchical data structures can often be both more efficient and conceptually closer to the underlying ideas the data represents.\n",
    "\n",
    "When we do data science, whether it is general statistics, data visualization, or machine learning models, we are concerned with collections of records or samples that are homogeneous in regard to our purpose or goal.  Yes, there may be missing data concerns such as those addressed in lessons on *Anomaly Detection* and *Data Quality*, but those do not dominate our analysis.  Data science is about summarization and aggregation.  It is almost never about individual entities in themselves.\n",
    "\n",
    "Therefore, when provided with hiearchical data as data scientists, we need to articulate what a tree respresents that can be expressed in terms of homogeneous samples.  What fields or features abstract from the hierarchical structure and express something in common among numerous entities.  Those entities need not be leaves of the trees (although that is common), it might also be properties that can be extracted or extrapolated from different branches, which are useful and meaningful to summarize, model, and aggregate.\n",
    "\n",
    "In the next lesson we look at a number of additional data formats, including web data, PDFs, images and custom text and binary formats."
   ]
  }
 ],
 "metadata": {
  "kernelspec": {
   "display_name": "Python 3 (ipykernel)",
   "language": "python",
   "name": "python3"
  },
  "language_info": {
   "codemirror_mode": {
    "name": "ipython",
    "version": 3
   },
   "file_extension": ".py",
   "mimetype": "text/x-python",
   "name": "python",
   "nbconvert_exporter": "python",
   "pygments_lexer": "ipython3",
   "version": "3.13.0"
  },
  "widgets": {
   "application/vnd.jupyter.widget-state+json": {
    "state": {},
    "version_major": 2,
    "version_minor": 0
   }
  }
 },
 "nbformat": 4,
 "nbformat_minor": 4
}
