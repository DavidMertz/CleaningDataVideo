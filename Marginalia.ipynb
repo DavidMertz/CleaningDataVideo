{
 "cells": [
  {
   "cell_type": "markdown",
   "id": "6eb29644-a8c0-47fb-be94-5e0035706b18",
   "metadata": {},
   "source": [
    "# Overall Introduction\n",
    "\n",
    "My name is David Mertz, and I've been a data scientist, writer of technical books and articles, and computer science trainer, for a great many years.\n",
    "\n",
    "Although my doctorate was in political philosophy, a topic which you may see hints of in a few allusions and references in this course, over the last 25 years I've created a number of programming and data science training programs. \n",
    "\n",
    "These programs have been used by companies such as IBM, Anaconda, and INE.  I've recorded and written courses and books for Addison Wesley, Pearson, O'Reilly, Manning, and other publishers.\n",
    "\n",
    "There are a great many excellent and wonderful books and course about machine learning, or about data analysis, or about scientific computing, or other topics in or adjacent to data science.  \n",
    "\n",
    "What almost all of these works have in common is that they quickly mention the centrality of arriving at clean (enough) data as a prerequisite to the analysis or presentation they actually wish to discuss.  Sometimes a preface, appendix, or short chapter says a few words about the topic of cleaning data.\n",
    "\n",
    "Almost nowhere else can you find a full course or book about this essential prerequisite.  This notwithstanding that all such works acknowledge that the cleaning steps make up the majority of the actual work done by data scientists.\n",
    "\n",
    "I've divided this course into six lessons.\n",
    "\n",
    "In a first short lesson, I provide a conceptual overview of the language and techniques use in data science, and generally how to understand the _shape_ and _feel_ of data sets.\n",
    "\n",
    "The next three longer lessons look at ingestion of data from various families of formats.  That is, data might arrive in tabular formats. You might receive data with hierarchical structures. And very often, data is something you need _extract_ in some manner from objects whose primary purpose is not to serve as data per se.\n",
    "\n",
    "The particular obstacles and attitudes you will find or adopt varies not only with the overall structure of the data sets, but also very often with the specific representations used.  Relational database management systems using SQL have different pitfalls and virtues than do PDF documents, and both are distinct from JSON data.  Ultimately, however, the kinds of analyses we wish to arrive at are largely similar.\n",
    "\n",
    "Once you have put data into somewhat normalized representations, three of the main steps you will perform before final analysis make up the final three lessons.  In rough outline, you will usually perform these steps in approximately the order these lessons are arranged in.\n",
    "\n",
    "Detecting anomolies within data is almost always necessary.  Data always arrive *dirty*.  _Et in Arcadia, Inclutus Est_.  Finding those data points that do not belong is essential to preparing the data for successful uses.\n",
    "\n",
    "However, while individual data points are often problematic, so too are general patterns within the data.  Very broadly, these patterns are called _bias_. The lesson on Data Quality addresses bias and several related whole data set distortions. We look at both how to identify these concerns and how to remediate them.\n",
    "\n",
    "The final lesson covers Value Imputation.  While you may have ruled out certain data points by techniques discussed in earlier lessons, often it is necessary to attribute, i.e. _impute_, plausible values to take their place.\n",
    "\n",
    "I thank you for choosing this course, and a very much hope and believe you will find it useful to your practices in working with data.  Let's get started with the lessons."
   ]
  },
  {
   "cell_type": "markdown",
   "id": "3b6d9870-fce7-4864-9fb1-f841590732f9",
   "metadata": {},
   "source": [
    "# Introduction to Introduction"
   ]
  },
  {
   "cell_type": "markdown",
   "id": "bbf00167-7f5a-4b2b-b2ed-e5a2203a51da",
   "metadata": {},
   "source": [
    "# Introduction to Data Ingestion - Tabular Formats"
   ]
  },
  {
   "cell_type": "markdown",
   "id": "9a5c3241-7a85-426f-8099-e16485897059",
   "metadata": {},
   "source": [
    "# Introduction to Data Ingestion - Hierarchical Formats"
   ]
  },
  {
   "cell_type": "markdown",
   "id": "99f208d5-e72e-4947-8e05-7916f3afe8b8",
   "metadata": {},
   "source": [
    "# Introduction to Data Ingestion - Repurposing Data Sources"
   ]
  },
  {
   "cell_type": "markdown",
   "id": "a9495153-51c2-4943-a130-8aff2290bb53",
   "metadata": {},
   "source": [
    "# Introduction to Anomoly Detection"
   ]
  },
  {
   "cell_type": "markdown",
   "id": "426f520f-cdfb-43c4-831d-df18850b6052",
   "metadata": {},
   "source": [
    "# Introduction to Data Quality"
   ]
  },
  {
   "cell_type": "markdown",
   "id": "6e5dceac-d98b-44e4-af3f-a695a438b585",
   "metadata": {},
   "source": [
    "# Introduction to Value Imputation"
   ]
  },
  {
   "cell_type": "markdown",
   "id": "d2de5bed-89bb-424d-adff-d3bddc284dfe",
   "metadata": {},
   "source": [
    "# Summary"
   ]
  },
  {
   "cell_type": "code",
   "execution_count": null,
   "id": "16e6ebb5-7c5e-4089-b5cd-4b6fc1421e02",
   "metadata": {},
   "outputs": [],
   "source": []
  }
 ],
 "metadata": {
  "kernelspec": {
   "display_name": "Python 3 (ipykernel)",
   "language": "python",
   "name": "python3"
  },
  "language_info": {
   "codemirror_mode": {
    "name": "ipython",
    "version": 3
   },
   "file_extension": ".py",
   "mimetype": "text/x-python",
   "name": "python",
   "nbconvert_exporter": "python",
   "pygments_lexer": "ipython3",
   "version": "3.13.0"
  }
 },
 "nbformat": 4,
 "nbformat_minor": 5
}
