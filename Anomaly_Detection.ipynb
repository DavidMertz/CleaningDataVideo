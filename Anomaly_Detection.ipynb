{
 "cells": [
  {
   "cell_type": "code",
   "execution_count": 1,
   "metadata": {
    "editable": true,
    "slideshow": {
     "slide_type": "notes"
    },
    "tags": []
   },
   "outputs": [],
   "source": [
    "from src.setup import *"
   ]
  },
  {
   "attachments": {},
   "cell_type": "markdown",
   "metadata": {
    "editable": true,
    "slideshow": {
     "slide_type": "slide"
    },
    "tags": []
   },
   "source": [
    "# Anomaly Detection\n",
    "\n",
    "_The map is not the territory and data is not the world observed. \n",
    "Data is messy, inconsistent, and unreliable. The world is messier, \n",
    "less consistent, and less reliable._\n",
    "\n",
    "–c.f. Alfred Korzybski."
   ]
  },
  {
   "attachments": {},
   "cell_type": "markdown",
   "metadata": {
    "editable": true,
    "slideshow": {
     "slide_type": "notes"
    },
    "tags": []
   },
   "source": [
    "When we think about anomaly detection, there are two distinct, and mostly independent, concepts that go by the name.  The topic of this lesson is perhaps the less exciting of the two.  \n",
    "\n",
    "Security and cryptography researchers, importantly, look for anomalies that can represent fraud, forgery, and system intrusion attempts.  By the intention of perpetrators, these outliers in the normal patterns of data are subtle and hard to detect, and a conflict exists between those wishing to falsify data and those wishing to detect that falsification.\n",
    "\n",
    "The concept of interest to us in this lesson is more quotidian.  We wish to detect those cases where data goes bad in the ordinary course of its collection, collation, transmission, and transcription.  Perhaps an instrument gives a bad reading some or all of the time.  Perhaps some values are systematically altered in the course of reencoding to a different data format.  Perhaps the wrong units of measure were used for a subset of the data.  \n",
    "\n",
    "By accident, these broader checks may occasionally identify changes that reflect actual malice, but more often they will simply detect errors.  They can *perhaps* detect bias, but less often since bias still usually consists of *plausible* values.\n",
    "\n",
    "Anomalies are related to data quality. However, anomalies are more about individual data values that can be identified as probably wrong, whereas data quality more broadly looks at *patterns* of a data set that can present or identify problems.  \n",
    "\n",
    "When anomalies *are* detected it sometimes makes sense to impute more likely values rather than discard those observations altogether.  This lessons focuses on identifying anomalies and marking them as \"missing.\" The later lesson on value imputation will pick up with filling in plausible replacement values."
   ]
  },
  {
   "attachments": {},
   "cell_type": "markdown",
   "metadata": {
    "editable": true,
    "slideshow": {
     "slide_type": "slide"
    },
    "tags": []
   },
   "source": [
    "## Missing Data\n",
    "\n",
    "* Sentinels versus explicit absence\n",
    "* Semantics of NULL, NaN, and N/A\n",
    "* Nullable columns in SQL\n",
    "* Absence in hierarchies\n",
    "* Pitfalls of sentinels"
   ]
  },
  {
   "attachments": {},
   "cell_type": "markdown",
   "metadata": {
    "editable": true,
    "slideshow": {
     "slide_type": "notes"
    },
    "tags": []
   },
   "source": [
    "Some data formats explicitly support missing data while other formats use a special values, known as sentinels to indicate missingness.  Non-tabular formats may indicate missing data simply by not including any value in a position where it might otherwise occur.  However, sentinel values are sometimes ambiguous, unfortunately.\n",
    "\n",
    "In particular, within many data formats, and within some data frame libraries, missing numeric values are represented by the special IEEE-754 floating-point value NaN (Not-a-Number).   As a small digression, let us look at coaxing a NaN to arise in an \"ordinary\" computation."
   ]
  },
  {
   "cell_type": "code",
   "execution_count": 2,
   "metadata": {
    "editable": true,
    "slideshow": {
     "slide_type": "slide"
    },
    "tags": []
   },
   "outputs": [
    {
     "name": "stdout",
     "output_type": "stream",
     "text": [
      "n=7:\n",
      "  method1: 1.109\n",
      "  method2: 1.109\n",
      "n=8:\n",
      "  method1: 1.229\n",
      "  method2: 1.229\n",
      "n=9:\n",
      "  method1: nan\n",
      "  method2: 1.510\n"
     ]
    }
   ],
   "source": [
    "for n in range(7, 10):\n",
    "    exp = 2**n\n",
    "    a = (22/7) ** exp \n",
    "    b = π ** exp\n",
    "    # Compute answer in two \"equivalent\" ways\n",
    "    res1 = (a * a) / (b * b)\n",
    "    res2 = (a / b) * (a / b)\n",
    "    print(f\"n={n}:\\n  \"\n",
    "          f\"method1: {res1:.3f}\\n  \"\n",
    "          f\"method2: {res2:.3f}\")"
   ]
  },
  {
   "cell_type": "markdown",
   "metadata": {
    "editable": true,
    "slideshow": {
     "slide_type": "notes"
    },
    "tags": []
   },
   "source": [
    "The rational number 22/7 is famously close to the irrational number pi.  The simple code above takes each number to a large exponent, then figures out the ratio of the two results.  The answers we get are of quite ordinary size, each a bit larger than one, but less than two.\n",
    "\n",
    "In pure artithmetic, multiplying `a` times `a`, then dividing by `b` times `b`, is identical to doing the two separate divisions then multiplying them together.  However, actual floating point numbers experience overflows, which happens under one method but not the other.\n",
    "\n",
    "The NaN in our toy code arises as the result of a computation that is not _obviously unreasonable_.  While such an unrepresentable value is indeed *unavailable*, it is semantically different from data that was simply never collected in the first place."
   ]
  },
  {
   "cell_type": "markdown",
   "metadata": {
    "editable": true,
    "slideshow": {
     "slide_type": "slide"
    },
    "tags": []
   },
   "source": [
    "### Personal name data\n",
    "\n",
    "```\n",
    "| FirstName     | MiddleName    | LastName\n",
    "|---------------|---------------|---------------\n",
    "| Polly         | Jean          | Harvey\n",
    "| Dick          |               | Dale\n",
    "| Joey          | Santiago      | Alberto\n",
    "| Chris         | \"\"            | Knox\n",
    "| Gibby         | N/A           | Haynes\n",
    "```"
   ]
  },
  {
   "cell_type": "markdown",
   "metadata": {
    "editable": true,
    "slideshow": {
     "slide_type": "notes"
    },
    "tags": []
   },
   "source": [
    "Parallel to the pitfall of missing floats being represented as NaNs, missing strings are almost always represented as *strings*.  Generally, one or more reserved values such as 'N/A' or the empty string are used when a string value is missing.  However, those sentinels do not clearly distinguish between \"not applicable\" and \"not available\" which are subtly different.  \n",
    "\n",
    "For example, we might have collected names of people, including \"middle name.\"  Having a sentinel value for middle name would not distinguish between survey subjects who have no middle name and those who merely had not provided it.\n",
    "\n",
    "Perhaps we wish to find the correlation between certain middle names and demographic characteristics.  In the United States, for example, the middle name \"Santiago\" would be strongly associated with Hispanic family origin; a survey subject who _provided_ no middle name might nonetheless have that middle name.  In principle, a string field could contain different sentinels for \"No middle name\" versus \"No response\" but data sets are *very rarely* careful in those distinctions."
   ]
  },
  {
   "attachments": {},
   "cell_type": "markdown",
   "metadata": {
    "editable": true,
    "slideshow": {
     "slide_type": "slide"
    },
    "tags": []
   },
   "source": [
    "## SQL\n",
    "\n",
    "In SQL databases, an explicit NULL is available for all column type, but only if a column has been declared as \"nullable.\"  This allows a distinction in principle between an explicit NaN for a numeric field and a NULL for missing values.  "
   ]
  },
  {
   "attachments": {},
   "cell_type": "markdown",
   "metadata": {
    "editable": true,
    "slideshow": {
     "slide_type": "notes"
    },
    "tags": []
   },
   "source": [
    "Unfortunately, many or most real-world database tables fail to utilize available distinctions.  In practice, you are likely to see many combinations of empty strings, NaNs, actual NULLs, or other sentinels, even within SQL databases. This is not because any widely used RDBMS fails to support these different values and types, it is rather that in the history of various clients putting data into them, using various codebases, non-optimal choices were made."
   ]
  },
  {
   "cell_type": "markdown",
   "metadata": {
    "editable": true,
    "slideshow": {
     "slide_type": "slide"
    },
    "tags": []
   },
   "source": [
    "```\n",
    "sqlite> .header on\n",
    "sqlite> .mode column\n",
    "sqlite> .nullvalue NULL\n",
    "sqlite> SELECT ROW_NUMBER() OVER (ORDER BY '') \"#\", amount, description FROM sentinels;\n",
    "#  amount  description\n",
    "-  ------  -----------\n",
    "1  NaN     Not number\n",
    "2  1.23    A number\n",
    "3  NULL    A null\n",
    "4  3.45    Santiago\n",
    "5  6.78\n",
    "6  9.01    NULL\n",
    "```"
   ]
  },
  {
   "cell_type": "markdown",
   "metadata": {
    "editable": true,
    "slideshow": {
     "slide_type": "notes"
    },
    "tags": []
   },
   "source": [
    "A small table is shown from the `sqlite3` shell, where the column `amount` is REAL and `description` is STRING.  This illustrates varying sentinels we commonly see.  We might treat NULL as \"not available\" and a NaN or empty string as \"not applicable.\""
   ]
  },
  {
   "cell_type": "markdown",
   "metadata": {
    "editable": true,
    "slideshow": {
     "slide_type": "slide"
    },
    "tags": []
   },
   "source": [
    "* Row 1 contains a NaN and a string description;\n",
    "* Row 2 contains a float value and a string;\n",
    "* Row 3 contains an SQL NULL and a string;\n",
    "* Row 4 contains a float value and a string;\n",
    "* Row 5 contains a float value and an empty string;\n",
    "* Row 6 contains a float value and a NULL."
   ]
  },
  {
   "cell_type": "markdown",
   "metadata": {
    "editable": true,
    "slideshow": {
     "slide_type": "notes"
    },
    "tags": []
   },
   "source": [
    "Different libraries vary in their nuance in distinguishing sentinels.  \n",
    "\n",
    "The R Tidyverse—which we do not utilize in this course—is pretty good in distinguishing both NaN and a special `NA` value; but it also provides an even more special pseudo-value `NULL` which explicitly means \"missing.\"\n",
    "\n",
    "The Pandas library has technically introduced a special `pd.NA` value that would, in concept, allow more nuanced distinctions, but in practice almost every Pandas method uses NaN whenever it is unsure about the status of a value.  This has the additional negative consequence of frequently casting non-float values to floats because NaN is strictly only a floating-point value.\n",
    "\n",
    "Polars is cleaner than Pandas in using a true `null` for all data types, and treating NaN as simply a special floating-point value (much like infinity or -infinity are)."
   ]
  },
  {
   "cell_type": "markdown",
   "metadata": {
    "editable": true,
    "slideshow": {
     "slide_type": "slide"
    },
    "tags": []
   },
   "source": [
    "## Hierarchical Formats\n",
    "\n",
    "In formats like JSON that nest data flexibly, there is an obvious way of representing missing data: by not representing it at all.  If you perform hierarchical processing, you will need to check for the presence or absence of a given dictionary key at a given level."
   ]
  },
  {
   "cell_type": "markdown",
   "metadata": {
    "editable": true,
    "slideshow": {
     "slide_type": "notes"
    },
    "tags": []
   },
   "source": [
    "The JSON specification itself does not address NaN values, which means that some systems producing data may choose to use the Javascript `null` value in its place, producing the ambiguity we have discussed above.  However, many specific libraries extend the definition to recognize NaN (and sometimes `inf`, which is also a floating-point number) as a value."
   ]
  },
  {
   "cell_type": "code",
   "execution_count": 3,
   "metadata": {
    "editable": true,
    "slideshow": {
     "slide_type": "slide"
    },
    "tags": []
   },
   "outputs": [
    {
     "data": {
      "text/plain": [
       "[nan, None, inf]"
      ]
     },
     "execution_count": 3,
     "metadata": {},
     "output_type": "execute_result"
    }
   ],
   "source": [
    "json.loads('[NaN, null, Infinity]')  # null becomes Python None"
   ]
  },
  {
   "cell_type": "code",
   "execution_count": 4,
   "metadata": {
    "editable": true,
    "slideshow": {
     "slide_type": ""
    },
    "tags": []
   },
   "outputs": [],
   "source": [
    "json_data = '''\n",
    "{\"amount\": {\"1\": NaN, \"2\": 1.23, \"4\": 3.45, \"5\": 6.78, \"6\": 9.01},\n",
    " \"description\": {\"1\": \"Not number\", \"2\": \"A number\", \"3\": \"A null\",\n",
    "       \"4\": \"Santiago\", \"5\": \"\"}\n",
    "}'''"
   ]
  },
  {
   "cell_type": "markdown",
   "metadata": {
    "editable": true,
    "slideshow": {
     "slide_type": "notes"
    },
    "tags": []
   },
   "source": [
    "The variable `json_data` variable contains the same information as the SQL table illustrated above.  Since the Python `json` library treats NaN as a recognized value, we *could* explicitly represent all missing keys and match them with `null` as needed.  Obviously, we data scientists do not usually generate the data we need to consume; so the format we get is the one we need to process."
   ]
  },
  {
   "cell_type": "code",
   "execution_count": 5,
   "metadata": {
    "editable": true,
    "slideshow": {
     "slide_type": "slide"
    },
    "tags": []
   },
   "outputs": [
    {
     "name": "stdout",
     "output_type": "stream",
     "text": [
      "   amount description\n",
      "1     NaN  Not number\n",
      "2    1.23    A number\n",
      "3     NaN      A null\n",
      "4    3.45    Santiago\n",
      "5    6.78            \n",
      "6    9.01         NaN\n"
     ]
    }
   ],
   "source": [
    "print(pd.read_json(json_data).sort_index())"
   ]
  },
  {
   "cell_type": "markdown",
   "metadata": {
    "editable": true,
    "slideshow": {
     "slide_type": "notes"
    },
    "tags": []
   },
   "source": [
    "We can read this data into a Pandas DataFrame. Since a data frame imposes a tabular format, the missing row/column positions must be filled with some value, in this case with a NaN as sentinel."
   ]
  },
  {
   "cell_type": "code",
   "execution_count": 6,
   "metadata": {
    "editable": true,
    "slideshow": {
     "slide_type": "slide"
    },
    "tags": []
   },
   "outputs": [
    {
     "name": "stdout",
     "output_type": "stream",
     "text": [
      "Row 1, Col amount: Not a Number\n",
      "Row 3, Col amount: Missing\n",
      "Row 5, Col description: Empty value ''\n",
      "Row 6, Col description: Missing\n"
     ]
    }
   ],
   "source": [
    "data = json.loads(json_data)\n",
    "rows = {row for dct in data.values() \n",
    "            for row in dct.keys()}\n",
    "\n",
    "for row in sorted(rows):\n",
    "    for col in data.keys():\n",
    "        val = data[col].get(row)\n",
    "        if val is None:\n",
    "            print(f\"Row {row}, Col {col}: Missing\")\n",
    "        elif isinstance(val, float) and math.isnan(val):\n",
    "            print(f\"Row {row}, Col {col}: Not a Number\")\n",
    "        elif not val:\n",
    "            print(f\"Row {row}, Col {col}: Empty value {repr(val)}\")"
   ]
  },
  {
   "cell_type": "markdown",
   "metadata": {
    "editable": true,
    "slideshow": {
     "slide_type": "notes"
    },
    "tags": []
   },
   "source": [
    "We can also process this JSON data in a more hierarchical and procedural way for illustration, classifying special/missing values as we encounter them.  For the example, we assume that the top level is a dictionary of dictionaries, but obviously we could walk other structures as well if needed."
   ]
  },
  {
   "cell_type": "markdown",
   "metadata": {
    "editable": true,
    "slideshow": {
     "slide_type": "slide"
    },
    "tags": []
   },
   "source": [
    "## Sentinel Diversity\n",
    "\n",
    "```python\n",
    "class BadValue(metaclass=Pretty):\n",
    "    String = \"�\"\n",
    "    StringFromNull = \"��\"\n",
    "    EmptyString = \"\"\n",
    "    Date = pd.NaT\n",
    "    # Earliest date in numpy.datetime64\n",
    "    DateFromNull = pd.to_datetime(\"1677-09-22\")\n",
    "    Float = float(\"nan\")\n",
    "    FloatFromNull = -999.99\n",
    "    Int = -sys.maxsize // 2\n",
    "    IntFromNull = -sys.maxsize // 4\n",
    "    Bool = False\n",
    "```"
   ]
  },
  {
   "cell_type": "markdown",
   "metadata": {
    "editable": true,
    "slideshow": {
     "slide_type": "notes"
    },
    "tags": []
   },
   "source": [
    "For my current employer and project, I've had to invent a moderately byzantine system of sentinels, in part to account for the particular limitations of Pandas and of Parquet, but mostly because there are many ways for data to be \"missing.\"\n",
    "\n",
    "For each different data type, we wish to distinguish truly missing from malformed values. As well, strings that are empty but not actually NULL need to be treated in a special manner.  It is with a minor sense of guilt and dread that I have picked out some arbitrary \"unlikely\" values from some data types to represent these numerous species of missing data."
   ]
  },
  {
   "cell_type": "markdown",
   "metadata": {
    "editable": true,
    "slideshow": {
     "slide_type": "slide"
    },
    "tags": []
   },
   "source": [
    "## Sentinels in the Wild"
   ]
  },
  {
   "cell_type": "markdown",
   "metadata": {
    "editable": true,
    "slideshow": {
     "slide_type": ""
    },
    "tags": []
   },
   "source": [
    "In textual data formats, mainly delimited and fixed width files, missing data is indicated either by absence or by a sentinel.  Both delimited and fixed width formats are able to omit a certain field in a row—albeit, in fixed width, this does not distinguish among an empty string, a string of spaces, and a missing value.  Two commas next to each other in CSV should be unambiguous for \"no value.\" Ideally, this absence should be used to indicate missingness, and potentially allow some other sentinel to indicate \"Not Applicable\", \"Not Calculable\", \"No Middle Name\", or other specific markers for known values that fall outside the domain of a variable.  In practice, however, the \"best practice\" I recommend here is often not what is used in the data sets you will actually need to work with."
   ]
  },
  {
   "cell_type": "markdown",
   "metadata": {},
   "source": [
    "Use of sentinels is not limited to text formats.  Often in SQL, for example, TEXT or CHAR columns that could, in principle, be made nullable and use NULL to indicate mising values instead use sentinels (and not always single sentinels; in practice they often acquire multiple markers over multiple generations of software changes).  Sometimes formats such as JSON that can hold text values likewise use sentinels rather than omitting keys.  Even in formats like HDF5 that enforce data typing, sometimes sentinel numeric values are used to indicate missing values rather than relying on NaN as a special marker (which has its own problems, discussed above)."
   ]
  },
  {
   "cell_type": "markdown",
   "metadata": {},
   "source": [
    "In Pandas, in particular, as of version 1.0, the following sentinel values are recognized by default as meaning \"missing\" when reading delimited or fixed width files: '', '#N/A', '#N/A N/A', '#NA', '-1.#IND', '-1.#QNAN', '-NaN', '-nan', '1.#IND', '1.#QNAN', '<NA>', 'N/A', 'NA', 'NULL', 'NaN', 'n/a', 'nan', 'null'. Some of these must arise in domains or from tools I am personally unfamiliar with, but many I have seen.  However, I have also encountered numerous sentinels not in that list.  You will need to consider sentinels for your specific data set, and such defaults are only some first guesses the tool provides.  Other tools will have different defaults."
   ]
  },
  {
   "cell_type": "markdown",
   "metadata": {
    "editable": true,
    "slideshow": {
     "slide_type": ""
    },
    "tags": []
   },
   "source": [
    "Libraries for working with data sets, often as data frames, will have mechanisms to specify the particular values to treat as sentinels for missing data.  Let us look at an example that is closely based on real-world data obtained from the United States National Oceanic and Atmospheric Administration (NOAA).  This data was, in fact, provided as CSV files;  a more descriptive filename is used here, and many of the columns are omitted.  But only one data value is changed in the example.  In other words, this is a data set I actually had to work with outside of writing this book, and the issues discussed were not ones I knew about in advance of doing that."
   ]
  },
  {
   "cell_type": "markdown",
   "metadata": {},
   "source": [
    "The data set we read below concerns weather measurements at a particular weather station.  The station at Sorstokken, Norway, is chosen here more-or-less at random from thousands available. Others stations employ the same encoding, which is nowhere obviously documented.  Unfortunately, undocumented or underdocumented field contraints are the rule in published data, not the exception.  The column names are somewhat abbreviated, but not too hard to guess the meaning of: temperature (℉), maximum wind gust speed (mph), etc."
   ]
  },
  {
   "cell_type": "code",
   "execution_count": 7,
   "metadata": {},
   "outputs": [
    {
     "data": {
      "text/html": [
       "<div>\n",
       "<style scoped>\n",
       "    .dataframe tbody tr th:only-of-type {\n",
       "        vertical-align: middle;\n",
       "    }\n",
       "\n",
       "    .dataframe tbody tr th {\n",
       "        vertical-align: top;\n",
       "    }\n",
       "\n",
       "    .dataframe thead th {\n",
       "        text-align: right;\n",
       "    }\n",
       "</style>\n",
       "<table border=\"1\" class=\"dataframe\">\n",
       "  <thead>\n",
       "    <tr style=\"text-align: right;\">\n",
       "      <th></th>\n",
       "      <th>STATION</th>\n",
       "      <th>DATE</th>\n",
       "      <th>TEMP</th>\n",
       "      <th>VISIB</th>\n",
       "      <th>GUST</th>\n",
       "      <th>DEWP</th>\n",
       "    </tr>\n",
       "  </thead>\n",
       "  <tbody>\n",
       "    <tr>\n",
       "      <th>0</th>\n",
       "      <td>1001499999</td>\n",
       "      <td>2019-01-01</td>\n",
       "      <td>39.7</td>\n",
       "      <td>6.2</td>\n",
       "      <td>52.1</td>\n",
       "      <td>30.4</td>\n",
       "    </tr>\n",
       "    <tr>\n",
       "      <th>1</th>\n",
       "      <td>1001499999</td>\n",
       "      <td>2019-01-02</td>\n",
       "      <td>36.4</td>\n",
       "      <td>6.2</td>\n",
       "      <td>999.9</td>\n",
       "      <td>29.8</td>\n",
       "    </tr>\n",
       "    <tr>\n",
       "      <th>2</th>\n",
       "      <td>1001499999</td>\n",
       "      <td>2019-01-03</td>\n",
       "      <td>36.5</td>\n",
       "      <td>3.3</td>\n",
       "      <td>999.9</td>\n",
       "      <td>35.6</td>\n",
       "    </tr>\n",
       "    <tr>\n",
       "      <th>3</th>\n",
       "      <td>1001499999</td>\n",
       "      <td>UNKNOWN</td>\n",
       "      <td>45.6</td>\n",
       "      <td>2.2</td>\n",
       "      <td>22.0</td>\n",
       "      <td>44.8</td>\n",
       "    </tr>\n",
       "    <tr>\n",
       "      <th>4</th>\n",
       "      <td>1001499999</td>\n",
       "      <td>2019-01-06</td>\n",
       "      <td>42.5</td>\n",
       "      <td>1.9</td>\n",
       "      <td>999.9</td>\n",
       "      <td>42.5</td>\n",
       "    </tr>\n",
       "    <tr>\n",
       "      <th>...</th>\n",
       "      <td>...</td>\n",
       "      <td>...</td>\n",
       "      <td>...</td>\n",
       "      <td>...</td>\n",
       "      <td>...</td>\n",
       "      <td>...</td>\n",
       "    </tr>\n",
       "    <tr>\n",
       "      <th>294</th>\n",
       "      <td>1001499999</td>\n",
       "      <td>2019-12-16</td>\n",
       "      <td>39.1</td>\n",
       "      <td>6.2</td>\n",
       "      <td>999.9</td>\n",
       "      <td>36.8</td>\n",
       "    </tr>\n",
       "    <tr>\n",
       "      <th>295</th>\n",
       "      <td>1001499999</td>\n",
       "      <td>2019-12-17</td>\n",
       "      <td>40.5</td>\n",
       "      <td>6.2</td>\n",
       "      <td>999.9</td>\n",
       "      <td>39.2</td>\n",
       "    </tr>\n",
       "    <tr>\n",
       "      <th>296</th>\n",
       "      <td>1001499999</td>\n",
       "      <td>2019-12-18</td>\n",
       "      <td>38.8</td>\n",
       "      <td>6.2</td>\n",
       "      <td>999.9</td>\n",
       "      <td>38.2</td>\n",
       "    </tr>\n",
       "    <tr>\n",
       "      <th>297</th>\n",
       "      <td>1001499999</td>\n",
       "      <td>2019-12-19</td>\n",
       "      <td>45.5</td>\n",
       "      <td>6.1</td>\n",
       "      <td>999.9</td>\n",
       "      <td>42.7</td>\n",
       "    </tr>\n",
       "    <tr>\n",
       "      <th>298</th>\n",
       "      <td>1001499999</td>\n",
       "      <td>2019-12-20</td>\n",
       "      <td>51.8</td>\n",
       "      <td>6.2</td>\n",
       "      <td>35.0</td>\n",
       "      <td>41.2</td>\n",
       "    </tr>\n",
       "  </tbody>\n",
       "</table>\n",
       "<p>299 rows × 6 columns</p>\n",
       "</div>"
      ],
      "text/plain": [
       "        STATION        DATE  TEMP  VISIB   GUST  DEWP\n",
       "0    1001499999  2019-01-01  39.7    6.2   52.1  30.4\n",
       "1    1001499999  2019-01-02  36.4    6.2  999.9  29.8\n",
       "2    1001499999  2019-01-03  36.5    3.3  999.9  35.6\n",
       "3    1001499999     UNKNOWN  45.6    2.2   22.0  44.8\n",
       "4    1001499999  2019-01-06  42.5    1.9  999.9  42.5\n",
       "..          ...         ...   ...    ...    ...   ...\n",
       "294  1001499999  2019-12-16  39.1    6.2  999.9  36.8\n",
       "295  1001499999  2019-12-17  40.5    6.2  999.9  39.2\n",
       "296  1001499999  2019-12-18  38.8    6.2  999.9  38.2\n",
       "297  1001499999  2019-12-19  45.5    6.1  999.9  42.7\n",
       "298  1001499999  2019-12-20  51.8    6.2   35.0  41.2\n",
       "\n",
       "[299 rows x 6 columns]"
      ]
     },
     "execution_count": 7,
     "metadata": {},
     "output_type": "execute_result"
    }
   ],
   "source": [
    "sorstokken = pd.read_csv('data/sorstokken-no.csv.gz')\n",
    "sorstokken"
   ]
  },
  {
   "cell_type": "markdown",
   "metadata": {},
   "source": [
    "We notice a few things in the view of a selection of the table.  The DATE value UNKNOWN is included (by my construction).  Also, some GUST values are 999.9 (in the original data).  The use of several 9 digits as a sentinel is a common convention.  The number of 9s used varies, however, as well as does the position of a decimal point if any is used.  Another common convention is using a -1 as a sentinel for numeric values that semantically must be positive for legitimate values.  For example, the -1 convention might sensibly be used for wind gust speed, but it could not be for degrees Fahrenheit or Celsius which can perfectly well have the value -1 for ordinary Earth surface temperatures.  On the other hand, if we were using the same units to measure the temperatures inside an iron forge (melting point of iron is 2,800℉/1,538℃), -1 would be safely outside the possible operating range."
   ]
  },
  {
   "cell_type": "markdown",
   "metadata": {},
   "source": [
    "Looking at the minimum and maximum values of a given variable is often a clue about the sentinels used.  For numbers—and also for dates—a value that is *unreasonably large* or *unreasonably small* is generally used for a sentinel.  This can go wrong where legitimate measurements later exceed their initially anticipated range."
   ]
  },
  {
   "cell_type": "code",
   "execution_count": 8,
   "metadata": {},
   "outputs": [
    {
     "data": {
      "text/html": [
       "<div>\n",
       "<style scoped>\n",
       "    .dataframe tbody tr th:only-of-type {\n",
       "        vertical-align: middle;\n",
       "    }\n",
       "\n",
       "    .dataframe tbody tr th {\n",
       "        vertical-align: top;\n",
       "    }\n",
       "\n",
       "    .dataframe thead th {\n",
       "        text-align: right;\n",
       "    }\n",
       "</style>\n",
       "<table border=\"1\" class=\"dataframe\">\n",
       "  <thead>\n",
       "    <tr style=\"text-align: right;\">\n",
       "      <th></th>\n",
       "      <th>STATION</th>\n",
       "      <th>DATE</th>\n",
       "      <th>TEMP</th>\n",
       "      <th>VISIB</th>\n",
       "      <th>GUST</th>\n",
       "      <th>DEWP</th>\n",
       "    </tr>\n",
       "  </thead>\n",
       "  <tbody>\n",
       "    <tr>\n",
       "      <th>0</th>\n",
       "      <td>1001499999</td>\n",
       "      <td>2019-01-01</td>\n",
       "      <td>27.2</td>\n",
       "      <td>1.2</td>\n",
       "      <td>17.1</td>\n",
       "      <td>16.5</td>\n",
       "    </tr>\n",
       "    <tr>\n",
       "      <th>1</th>\n",
       "      <td>1001499999</td>\n",
       "      <td>UNKNOWN</td>\n",
       "      <td>88.1</td>\n",
       "      <td>999.9</td>\n",
       "      <td>999.9</td>\n",
       "      <td>63.5</td>\n",
       "    </tr>\n",
       "  </tbody>\n",
       "</table>\n",
       "</div>"
      ],
      "text/plain": [
       "      STATION        DATE  TEMP  VISIB   GUST  DEWP\n",
       "0  1001499999  2019-01-01  27.2    1.2   17.1  16.5\n",
       "1  1001499999     UNKNOWN  88.1  999.9  999.9  63.5"
      ]
     },
     "execution_count": 8,
     "metadata": {},
     "output_type": "execute_result"
    }
   ],
   "source": [
    "pd.DataFrame([sorstokken.min(), sorstokken.max()])"
   ]
  },
  {
   "cell_type": "markdown",
   "metadata": {},
   "source": [
    "Here we see that TEMP and DEWP seem always to fall within a \"reasonable\" range.  DATE alerts us to a problem value this way; it might also do so, but possibly more subtly, if the sentinel had been, e.g. 1900-01-01, which is an actual date but one from before NOAA measurements were taken.  Likewise, VISIB and GUST have unreasonably high and *special* looking values.  For string values, sentinels are quite likely to occur right in the middle of valid values.  \"No Middle Name\" is alphabetically between \"Naomi\" and \"Nykko.\"  Let us look more closely at these variables with sentinels.  Outliers and standard deviation (σ) are discussed more in a later section."
   ]
  },
  {
   "cell_type": "code",
   "execution_count": 9,
   "metadata": {},
   "outputs": [
    {
     "name": "stdout",
     "output_type": "stream",
     "text": [
      "Normal max:\n",
      "VISIB 6.8 ...standard deviation w/ & w/o sentinel: 254.4 / 0.7\n",
      "GUST 62.2 ...standard deviation w/ & w/o sentinel: 452.4 / 8.1\n"
     ]
    }
   ],
   "source": [
    "print(\"Normal max:\")\n",
    "for col in ['VISIB', 'GUST']:\n",
    "        s = sorstokken[col]\n",
    "        print(col, s[s < 999.9].max(), \n",
    "              \"...standard deviation w/ & w/o sentinel:\",\n",
    "              f\"{s.std():.1f} / {s[s < 999.9].std():.1f}\")"
   ]
  },
  {
   "cell_type": "markdown",
   "metadata": {},
   "source": [
    "I believe VISIB is measured in miles, and seeing a thousand miles is unreasonable.  GUST wind speed is in MPH, and likewise 999.9 is not something that will occur on Earth.  However, one should worry when sentinels are within three orders of magnitude of actual values, as here.  For power law distributed values, even that rule of thumb about orders of magnitude is of little help."
   ]
  },
  {
   "cell_type": "markdown",
   "metadata": {},
   "source": [
    "In Pandas and other tools, we can instruct the tool to look for specific sentinels, and substitute specific values.  Of course, we could do so after data is read into a data structure using regular data frame filtering and manipuation techniques.  If we can do so at read time, so much the better.  Here we look for sentinels on a column-specific basis:"
   ]
  },
  {
   "cell_type": "code",
   "execution_count": 10,
   "metadata": {},
   "outputs": [
    {
     "data": {
      "text/html": [
       "<div>\n",
       "<style scoped>\n",
       "    .dataframe tbody tr th:only-of-type {\n",
       "        vertical-align: middle;\n",
       "    }\n",
       "\n",
       "    .dataframe tbody tr th {\n",
       "        vertical-align: top;\n",
       "    }\n",
       "\n",
       "    .dataframe thead th {\n",
       "        text-align: right;\n",
       "    }\n",
       "</style>\n",
       "<table border=\"1\" class=\"dataframe\">\n",
       "  <thead>\n",
       "    <tr style=\"text-align: right;\">\n",
       "      <th></th>\n",
       "      <th>STATION</th>\n",
       "      <th>DATE</th>\n",
       "      <th>TEMP</th>\n",
       "      <th>VISIB</th>\n",
       "      <th>GUST</th>\n",
       "      <th>DEWP</th>\n",
       "    </tr>\n",
       "  </thead>\n",
       "  <tbody>\n",
       "    <tr>\n",
       "      <th>0</th>\n",
       "      <td>1001499999</td>\n",
       "      <td>2019-01-01</td>\n",
       "      <td>39.7</td>\n",
       "      <td>6.2</td>\n",
       "      <td>52.1</td>\n",
       "      <td>30.4</td>\n",
       "    </tr>\n",
       "    <tr>\n",
       "      <th>1</th>\n",
       "      <td>1001499999</td>\n",
       "      <td>2019-01-02</td>\n",
       "      <td>36.4</td>\n",
       "      <td>6.2</td>\n",
       "      <td>NaN</td>\n",
       "      <td>29.8</td>\n",
       "    </tr>\n",
       "    <tr>\n",
       "      <th>2</th>\n",
       "      <td>1001499999</td>\n",
       "      <td>2019-01-03</td>\n",
       "      <td>36.5</td>\n",
       "      <td>3.3</td>\n",
       "      <td>NaN</td>\n",
       "      <td>35.6</td>\n",
       "    </tr>\n",
       "    <tr>\n",
       "      <th>3</th>\n",
       "      <td>1001499999</td>\n",
       "      <td>NaT</td>\n",
       "      <td>45.6</td>\n",
       "      <td>2.2</td>\n",
       "      <td>22.0</td>\n",
       "      <td>44.8</td>\n",
       "    </tr>\n",
       "    <tr>\n",
       "      <th>4</th>\n",
       "      <td>1001499999</td>\n",
       "      <td>2019-01-06</td>\n",
       "      <td>42.5</td>\n",
       "      <td>1.9</td>\n",
       "      <td>NaN</td>\n",
       "      <td>42.5</td>\n",
       "    </tr>\n",
       "  </tbody>\n",
       "</table>\n",
       "</div>"
      ],
      "text/plain": [
       "      STATION       DATE  TEMP  VISIB  GUST  DEWP\n",
       "0  1001499999 2019-01-01  39.7    6.2  52.1  30.4\n",
       "1  1001499999 2019-01-02  36.4    6.2   NaN  29.8\n",
       "2  1001499999 2019-01-03  36.5    3.3   NaN  35.6\n",
       "3  1001499999        NaT  45.6    2.2  22.0  44.8\n",
       "4  1001499999 2019-01-06  42.5    1.9   NaN  42.5"
      ]
     },
     "execution_count": 10,
     "metadata": {},
     "output_type": "execute_result"
    }
   ],
   "source": [
    "sorstokken = pd.read_csv('data/sorstokken-no.csv.gz', \n",
    "                         na_values={'DATE': 'UNKNOWN', \n",
    "                                    'VISIB': '999.9',\n",
    "                                    'GUST': '999.9'},\n",
    "                         parse_dates=['DATE'])\n",
    "sorstokken.head()"
   ]
  },
  {
   "cell_type": "markdown",
   "metadata": {},
   "source": [
    "The topics in this section are largely driven by data formats themselves.  Let us turn to anomalies caused more often by collection processes."
   ]
  },
  {
   "cell_type": "markdown",
   "metadata": {},
   "source": [
    "## Miscoded Data"
   ]
  },
  {
   "cell_type": "markdown",
   "metadata": {},
   "source": [
    "> \"When I use a word,\" Humpty Dumpty said, in rather a scornful \n",
    "> tone, \"it means just what I choose it to mean—neither more \n",
    "> nor less.\"<br/>–Lewis Carroll"
   ]
  },
  {
   "cell_type": "markdown",
   "metadata": {},
   "source": [
    "**Concepts**:\n",
    "\n",
    "* Categorical and ordinal constraints\n",
    "* Encoded values and metadata definitions\n",
    "* Rare categories"
   ]
  },
  {
   "cell_type": "markdown",
   "metadata": {},
   "source": [
    "When I discuss miscoded data in this section, I am primarily addressing categorical data, also called \"factors\" in R (and sometimes elsewhere).  Ordinal data might be included too inasmuch as it has known bounds.  For example, if a ranking scale is specified as ranging from 1 to 10, any values outside of that numeric range—or if genuinely ordinal, any values that are not integral—must be miscoded in some manner."
   ]
  },
  {
   "cell_type": "markdown",
   "metadata": {},
   "source": [
    "Quantitative data can obviously be miscoded as well, in some sense.  A data entry intending a value of 55 might be carelessly entered as 555.  But equally, a value intended as 55 might be mis-entered as 54, which is less likely to be caught as obviously wrong.  In any event, examination of quantitative features for errors is addressed in the later sections of this chapter.  Numbers, especially real numbers (or complex numbers, integers, fractions, etc.) do not present as immediately wrong, but only in their distribution or domain constraints."
   ]
  },
  {
   "cell_type": "markdown",
   "metadata": {},
   "source": [
    "For an ordinal value, verifying its type and range should assure the validity of the coding, in most cases (ordinals with non-contiguous integers as valid values do occur sometimes, but less common).  In the [Dermatology Data Set](https://archive.ics.uci.edu/ml/datasets/Dermatology) available from the UCI Machine Learning Repository, most fields are coded as 0, 1, 2, or 3. One field is only 0 or 1, the age and target (the skin condition) are continuous and factor variables, respectively.  In this example, nothing is miscoded; note that verifying that is *not* the same as knowing all values are *correct*."
   ]
  },
  {
   "cell_type": "code",
   "execution_count": 11,
   "metadata": {},
   "outputs": [
    {
     "data": {
      "text/html": [
       "<div>\n",
       "<style scoped>\n",
       "    .dataframe tbody tr th:only-of-type {\n",
       "        vertical-align: middle;\n",
       "    }\n",
       "\n",
       "    .dataframe tbody tr th {\n",
       "        vertical-align: top;\n",
       "    }\n",
       "\n",
       "    .dataframe thead th {\n",
       "        text-align: right;\n",
       "    }\n",
       "</style>\n",
       "<table border=\"1\" class=\"dataframe\">\n",
       "  <thead>\n",
       "    <tr style=\"text-align: right;\">\n",
       "      <th></th>\n",
       "      <th>min</th>\n",
       "      <th>max</th>\n",
       "      <th>dtype</th>\n",
       "    </tr>\n",
       "  </thead>\n",
       "  <tbody>\n",
       "    <tr>\n",
       "      <th>erythema</th>\n",
       "      <td>0</td>\n",
       "      <td>3</td>\n",
       "      <td>int64</td>\n",
       "    </tr>\n",
       "    <tr>\n",
       "      <th>scaling</th>\n",
       "      <td>0</td>\n",
       "      <td>3</td>\n",
       "      <td>int64</td>\n",
       "    </tr>\n",
       "    <tr>\n",
       "      <th>definite borders</th>\n",
       "      <td>0</td>\n",
       "      <td>3</td>\n",
       "      <td>int64</td>\n",
       "    </tr>\n",
       "    <tr>\n",
       "      <th>itching</th>\n",
       "      <td>0</td>\n",
       "      <td>3</td>\n",
       "      <td>int64</td>\n",
       "    </tr>\n",
       "    <tr>\n",
       "      <th>koebner phenomenon</th>\n",
       "      <td>0</td>\n",
       "      <td>3</td>\n",
       "      <td>int64</td>\n",
       "    </tr>\n",
       "    <tr>\n",
       "      <th>polygonal papules</th>\n",
       "      <td>0</td>\n",
       "      <td>3</td>\n",
       "      <td>int64</td>\n",
       "    </tr>\n",
       "    <tr>\n",
       "      <th>follicular papules</th>\n",
       "      <td>0</td>\n",
       "      <td>3</td>\n",
       "      <td>int64</td>\n",
       "    </tr>\n",
       "    <tr>\n",
       "      <th>oral mucosal involvement</th>\n",
       "      <td>0</td>\n",
       "      <td>3</td>\n",
       "      <td>int64</td>\n",
       "    </tr>\n",
       "    <tr>\n",
       "      <th>knee and elbow involvement</th>\n",
       "      <td>0</td>\n",
       "      <td>3</td>\n",
       "      <td>int64</td>\n",
       "    </tr>\n",
       "    <tr>\n",
       "      <th>scalp involvement</th>\n",
       "      <td>0</td>\n",
       "      <td>3</td>\n",
       "      <td>int64</td>\n",
       "    </tr>\n",
       "    <tr>\n",
       "      <th>family history</th>\n",
       "      <td>0</td>\n",
       "      <td>1</td>\n",
       "      <td>int64</td>\n",
       "    </tr>\n",
       "    <tr>\n",
       "      <th>melanin incontinence</th>\n",
       "      <td>0</td>\n",
       "      <td>3</td>\n",
       "      <td>int64</td>\n",
       "    </tr>\n",
       "    <tr>\n",
       "      <th>eosinophils in the infiltrate</th>\n",
       "      <td>0</td>\n",
       "      <td>2</td>\n",
       "      <td>int64</td>\n",
       "    </tr>\n",
       "    <tr>\n",
       "      <th>PNL infiltrate</th>\n",
       "      <td>0</td>\n",
       "      <td>3</td>\n",
       "      <td>int64</td>\n",
       "    </tr>\n",
       "    <tr>\n",
       "      <th>fibrosis of the papillary dermis</th>\n",
       "      <td>0</td>\n",
       "      <td>3</td>\n",
       "      <td>int64</td>\n",
       "    </tr>\n",
       "    <tr>\n",
       "      <th>exocytosis</th>\n",
       "      <td>0</td>\n",
       "      <td>3</td>\n",
       "      <td>int64</td>\n",
       "    </tr>\n",
       "    <tr>\n",
       "      <th>acanthosis</th>\n",
       "      <td>0</td>\n",
       "      <td>3</td>\n",
       "      <td>int64</td>\n",
       "    </tr>\n",
       "    <tr>\n",
       "      <th>hyperkeratosis</th>\n",
       "      <td>0</td>\n",
       "      <td>3</td>\n",
       "      <td>int64</td>\n",
       "    </tr>\n",
       "    <tr>\n",
       "      <th>parakeratosis</th>\n",
       "      <td>0</td>\n",
       "      <td>3</td>\n",
       "      <td>int64</td>\n",
       "    </tr>\n",
       "    <tr>\n",
       "      <th>clubbing of the rete ridges</th>\n",
       "      <td>0</td>\n",
       "      <td>3</td>\n",
       "      <td>int64</td>\n",
       "    </tr>\n",
       "    <tr>\n",
       "      <th>elongation of the rete ridges</th>\n",
       "      <td>0</td>\n",
       "      <td>3</td>\n",
       "      <td>int64</td>\n",
       "    </tr>\n",
       "    <tr>\n",
       "      <th>thinning of the suprapapillary epidermis</th>\n",
       "      <td>0</td>\n",
       "      <td>3</td>\n",
       "      <td>int64</td>\n",
       "    </tr>\n",
       "    <tr>\n",
       "      <th>spongiform pustule</th>\n",
       "      <td>0</td>\n",
       "      <td>3</td>\n",
       "      <td>int64</td>\n",
       "    </tr>\n",
       "    <tr>\n",
       "      <th>munro microabcess</th>\n",
       "      <td>0</td>\n",
       "      <td>3</td>\n",
       "      <td>int64</td>\n",
       "    </tr>\n",
       "    <tr>\n",
       "      <th>focal hypergranulosis</th>\n",
       "      <td>0</td>\n",
       "      <td>3</td>\n",
       "      <td>int64</td>\n",
       "    </tr>\n",
       "    <tr>\n",
       "      <th>disappearance of the granular layer</th>\n",
       "      <td>0</td>\n",
       "      <td>3</td>\n",
       "      <td>int64</td>\n",
       "    </tr>\n",
       "    <tr>\n",
       "      <th>vacuolisation and damage of basal layer</th>\n",
       "      <td>0</td>\n",
       "      <td>3</td>\n",
       "      <td>int64</td>\n",
       "    </tr>\n",
       "    <tr>\n",
       "      <th>spongiosis</th>\n",
       "      <td>0</td>\n",
       "      <td>3</td>\n",
       "      <td>int64</td>\n",
       "    </tr>\n",
       "    <tr>\n",
       "      <th>saw-tooth appearance of retes</th>\n",
       "      <td>0</td>\n",
       "      <td>3</td>\n",
       "      <td>int64</td>\n",
       "    </tr>\n",
       "    <tr>\n",
       "      <th>follicular horn plug</th>\n",
       "      <td>0</td>\n",
       "      <td>3</td>\n",
       "      <td>int64</td>\n",
       "    </tr>\n",
       "    <tr>\n",
       "      <th>perifollicular parakeratosis</th>\n",
       "      <td>0</td>\n",
       "      <td>3</td>\n",
       "      <td>int64</td>\n",
       "    </tr>\n",
       "    <tr>\n",
       "      <th>inflammatory monoluclear inflitrate</th>\n",
       "      <td>0</td>\n",
       "      <td>3</td>\n",
       "      <td>int64</td>\n",
       "    </tr>\n",
       "    <tr>\n",
       "      <th>band-like infiltrate</th>\n",
       "      <td>0</td>\n",
       "      <td>3</td>\n",
       "      <td>int64</td>\n",
       "    </tr>\n",
       "    <tr>\n",
       "      <th>Age</th>\n",
       "      <td>0.0</td>\n",
       "      <td>75.0</td>\n",
       "      <td>float64</td>\n",
       "    </tr>\n",
       "    <tr>\n",
       "      <th>TARGET</th>\n",
       "      <td>cronic dermatitis</td>\n",
       "      <td>seboreic dermatitis</td>\n",
       "      <td>object</td>\n",
       "    </tr>\n",
       "  </tbody>\n",
       "</table>\n",
       "</div>"
      ],
      "text/plain": [
       "                                                        min  \\\n",
       "erythema                                                  0   \n",
       "scaling                                                   0   \n",
       "definite borders                                          0   \n",
       "itching                                                   0   \n",
       "koebner phenomenon                                        0   \n",
       "polygonal papules                                         0   \n",
       "follicular papules                                        0   \n",
       "oral mucosal involvement                                  0   \n",
       "knee and elbow involvement                                0   \n",
       "scalp involvement                                         0   \n",
       "family history                                            0   \n",
       "melanin incontinence                                      0   \n",
       "eosinophils in the infiltrate                             0   \n",
       "PNL infiltrate                                            0   \n",
       "fibrosis of the papillary dermis                          0   \n",
       "exocytosis                                                0   \n",
       "acanthosis                                                0   \n",
       "hyperkeratosis                                            0   \n",
       "parakeratosis                                             0   \n",
       "clubbing of the rete ridges                               0   \n",
       "elongation of the rete ridges                             0   \n",
       "thinning of the suprapapillary epidermis                  0   \n",
       "spongiform pustule                                        0   \n",
       "munro microabcess                                         0   \n",
       "focal hypergranulosis                                     0   \n",
       "disappearance of the granular layer                       0   \n",
       "vacuolisation and damage of basal layer                   0   \n",
       "spongiosis                                                0   \n",
       "saw-tooth appearance of retes                             0   \n",
       "follicular horn plug                                      0   \n",
       "perifollicular parakeratosis                              0   \n",
       "inflammatory monoluclear inflitrate                       0   \n",
       "band-like infiltrate                                      0   \n",
       "Age                                                     0.0   \n",
       "TARGET                                    cronic dermatitis   \n",
       "\n",
       "                                                          max    dtype  \n",
       "erythema                                                    3    int64  \n",
       "scaling                                                     3    int64  \n",
       "definite borders                                            3    int64  \n",
       "itching                                                     3    int64  \n",
       "koebner phenomenon                                          3    int64  \n",
       "polygonal papules                                           3    int64  \n",
       "follicular papules                                          3    int64  \n",
       "oral mucosal involvement                                    3    int64  \n",
       "knee and elbow involvement                                  3    int64  \n",
       "scalp involvement                                           3    int64  \n",
       "family history                                              1    int64  \n",
       "melanin incontinence                                        3    int64  \n",
       "eosinophils in the infiltrate                               2    int64  \n",
       "PNL infiltrate                                              3    int64  \n",
       "fibrosis of the papillary dermis                            3    int64  \n",
       "exocytosis                                                  3    int64  \n",
       "acanthosis                                                  3    int64  \n",
       "hyperkeratosis                                              3    int64  \n",
       "parakeratosis                                               3    int64  \n",
       "clubbing of the rete ridges                                 3    int64  \n",
       "elongation of the rete ridges                               3    int64  \n",
       "thinning of the suprapapillary epidermis                    3    int64  \n",
       "spongiform pustule                                          3    int64  \n",
       "munro microabcess                                           3    int64  \n",
       "focal hypergranulosis                                       3    int64  \n",
       "disappearance of the granular layer                         3    int64  \n",
       "vacuolisation and damage of basal layer                     3    int64  \n",
       "spongiosis                                                  3    int64  \n",
       "saw-tooth appearance of retes                               3    int64  \n",
       "follicular horn plug                                        3    int64  \n",
       "perifollicular parakeratosis                                3    int64  \n",
       "inflammatory monoluclear inflitrate                         3    int64  \n",
       "band-like infiltrate                                        3    int64  \n",
       "Age                                                      75.0  float64  \n",
       "TARGET                                    seboreic dermatitis   object  "
      ]
     },
     "execution_count": 11,
     "metadata": {},
     "output_type": "execute_result"
    }
   ],
   "source": [
    "from src.dermatology import *\n",
    "(pd.DataFrame(\n",
    "    [derm.min(), derm.max(), derm.dtypes])\n",
    "     .T\n",
    "     .rename(columns={0:'min', 1:'max', 2:'dtype'})\n",
    ")"
   ]
  },
  {
   "cell_type": "markdown",
   "metadata": {},
   "source": [
    "Minimum, maximum and verifying use of integer data type is sufficient to assure ordinals are not miscoded.  Categorical variables are *sometimes* encoded in an ordinal fashion, but often consist of words naming their values.  For example, the below data set is very similar to the one used in an exercise of chapter 6.  However, in this version, some errors exist that we will look at in the next several sections.  This data contains (hypothetical) height, weight, hair length, and favorite color of 25,000 suvey subjects."
   ]
  },
  {
   "cell_type": "code",
   "execution_count": 12,
   "metadata": {},
   "outputs": [
    {
     "data": {
      "text/html": [
       "<div>\n",
       "<style scoped>\n",
       "    .dataframe tbody tr th:only-of-type {\n",
       "        vertical-align: middle;\n",
       "    }\n",
       "\n",
       "    .dataframe tbody tr th {\n",
       "        vertical-align: top;\n",
       "    }\n",
       "\n",
       "    .dataframe thead th {\n",
       "        text-align: right;\n",
       "    }\n",
       "</style>\n",
       "<table border=\"1\" class=\"dataframe\">\n",
       "  <thead>\n",
       "    <tr style=\"text-align: right;\">\n",
       "      <th></th>\n",
       "      <th>Height</th>\n",
       "      <th>Weight</th>\n",
       "      <th>Hair_Length</th>\n",
       "      <th>Favorite</th>\n",
       "    </tr>\n",
       "  </thead>\n",
       "  <tbody>\n",
       "    <tr>\n",
       "      <th>21492</th>\n",
       "      <td>176.958650</td>\n",
       "      <td>72.604585</td>\n",
       "      <td>14.0</td>\n",
       "      <td>red</td>\n",
       "    </tr>\n",
       "    <tr>\n",
       "      <th>9488</th>\n",
       "      <td>169.000221</td>\n",
       "      <td>79.559843</td>\n",
       "      <td>0.0</td>\n",
       "      <td>blue</td>\n",
       "    </tr>\n",
       "    <tr>\n",
       "      <th>16933</th>\n",
       "      <td>171.104306</td>\n",
       "      <td>71.125528</td>\n",
       "      <td>5.5</td>\n",
       "      <td>red</td>\n",
       "    </tr>\n",
       "    <tr>\n",
       "      <th>12604</th>\n",
       "      <td>174.481084</td>\n",
       "      <td>79.496237</td>\n",
       "      <td>8.1</td>\n",
       "      <td>blue</td>\n",
       "    </tr>\n",
       "    <tr>\n",
       "      <th>8222</th>\n",
       "      <td>171.275578</td>\n",
       "      <td>77.094118</td>\n",
       "      <td>14.6</td>\n",
       "      <td>green</td>\n",
       "    </tr>\n",
       "  </tbody>\n",
       "</table>\n",
       "</div>"
      ],
      "text/plain": [
       "           Height     Weight  Hair_Length Favorite\n",
       "21492  176.958650  72.604585         14.0      red\n",
       "9488   169.000221  79.559843          0.0     blue\n",
       "16933  171.104306  71.125528          5.5      red\n",
       "12604  174.481084  79.496237          8.1     blue\n",
       "8222   171.275578  77.094118         14.6    green"
      ]
     },
     "execution_count": 12,
     "metadata": {},
     "output_type": "execute_result"
    }
   ],
   "source": [
    "humans = pd.read_csv('data/humans-err.csv')\n",
    "# random_state for deterministic sample\n",
    "humans.sample(5, random_state=1)  "
   ]
  },
  {
   "cell_type": "markdown",
   "metadata": {},
   "source": [
    "As one would expect semantically, `Favorite` is a categorical value, with a small number of legitimate values.  Generally the way to examine such a feature for miscoding starts with examing the unique values it takes.  Obviously, if documentation exists as to the expected values that can help us.  However, keep in mind a software developers' motto that \"documentation\" is a synonym for \"*lies*.\" It may not accurately reflect the data itself."
   ]
  },
  {
   "cell_type": "code",
   "execution_count": 13,
   "metadata": {},
   "outputs": [
    {
     "data": {
      "text/plain": [
       "array(['red', 'green', 'blue', 'Red', ' red', 'grееn', 'blüe',\n",
       "       'chartreuse'], dtype=object)"
      ]
     },
     "execution_count": 13,
     "metadata": {},
     "output_type": "execute_result"
    }
   ],
   "source": [
    "humans.Favorite.unique()"
   ]
  },
  {
   "cell_type": "markdown",
   "metadata": {},
   "source": [
    "At an initial look at unique values, we already see several likely problems.  For example, `' red'` with a space at the beginning is a common kind of data entry error, and we can most likely assume it was intended simply as `'red'`.  On the other hand, `'Red'` capitalized versus in lower case is not necessarily self-evident as to which is correct.  The string `'blüe'` looks like another misspelling of the English word.  Something strange is happening with the `'green'` still; we will return to that."
   ]
  },
  {
   "cell_type": "markdown",
   "metadata": {},
   "source": [
    "To get a sense of the intention of the data, we can check whether some variations are rare with others common.  This is often a strong hint."
   ]
  },
  {
   "cell_type": "code",
   "execution_count": 14,
   "metadata": {},
   "outputs": [
    {
     "data": {
      "text/plain": [
       "Favorite\n",
       "red           9576\n",
       "blue          7961\n",
       "green         7458\n",
       "Red              1\n",
       " red             1\n",
       "grееn            1\n",
       "blüe             1\n",
       "chartreuse       1\n",
       "Name: count, dtype: int64"
      ]
     },
     "execution_count": 14,
     "metadata": {},
     "output_type": "execute_result"
    }
   ],
   "source": [
    "humans.Favorite.value_counts()"
   ]
  },
  {
   "cell_type": "markdown",
   "metadata": {},
   "source": [
    "These counts tell us a lot.  The color `'chartreuse'` is a perfectly good color name, albeit a less commonly used word. It *could* be a legitimate value, but most likely its rarity indicates some sort of improper entry, given that only three colors (modulo some spelling issues we are working on) seem to be otherwise available.  Most likely, we will want to mark this value as missing for later processing.  But *only* most likely; there may be domain knowledge that indicates that despite its rarity, it is a value we wish to consider.  If documentation exists describing it, that lends weight to the option of simply keeping it."
   ]
  },
  {
   "cell_type": "markdown",
   "metadata": {},
   "source": [
    "The rare occurrence of `' red'` with a leading space and `'Red'` capitalized give us strong support for the assumption that they are simply miscoded version of 'red'.  However, if we were roughly evenly split on capitalized and lowercase versions, or even if neither was *rare*, the correct action is less clear.  Nonetheless, in many cases, canonicalization or normalization to one particular case (case folding) would be good practice, and data frame tools make this easy to vectorize on large data sets.  However, sometimes capitalization represent intended differences, for example in otherwise identical last names that have distinct capitalization among different families.  Likewise, in many scientific fields, short names or formulae can be case-sensitive and should not be case-folded.  Having a sense of the content domain remains important."
   ]
  },
  {
   "cell_type": "markdown",
   "metadata": {},
   "source": [
    "We are left with the curious case of the two greens.  They look identical; likewise, for example a trailing space in the above categorical values would not be visible on screen.  Manually looking closer at those values is needed here."
   ]
  },
  {
   "cell_type": "code",
   "execution_count": 15,
   "metadata": {},
   "outputs": [
    {
     "name": "stdout",
     "output_type": "stream",
     "text": [
      "       red [32, 114, 101, 100]\n",
      "       Red [82, 101, 100]\n",
      "      blue [98, 108, 117, 101]\n",
      "      blüe [98, 108, 252, 101]\n",
      "chartreuse [99, 104, 97, 114, 116, 114, 101, 117, 115, 101]\n",
      "     green [103, 114, 101, 101, 110]\n",
      "     grееn [103, 114, 1077, 1077, 110]\n",
      "       red [114, 101, 100]\n"
     ]
    }
   ],
   "source": [
    "for color in sorted(humans.Favorite.unique()):\n",
    "    print(f\"{color:>10s}\", [ord(c) for c in color])"
   ]
  },
  {
   "cell_type": "markdown",
   "metadata": {},
   "source": [
    "What we find here from the Unicode code points is that one of our greens in fact has two Cyrillic 'ye' characters rather than Roman 'e's.  This substitution of near-identical glyphs is often—as in this instance of a sneaky book author—a result of malice or deception.  However, in the large world of human languages, it genuinely can occur that a particular string of characters innocently resembles some other string it is not.  Other than perhaps making it more difficult to type some strings at the particular keyboard with which you are familiar, this visual similarity is not per se a data integrity issue.  However, here, with the one mixed-language version also being rare, clearly it is something to correct to the regular English word in Roman letters."
   ]
  },
  {
   "cell_type": "markdown",
   "metadata": {},
   "source": [
    "Once we have made decisions about the remediations desired—in a manner sensitive to domain knowledge—we can translate troublesome values.  For example:"
   ]
  },
  {
   "cell_type": "code",
   "execution_count": 16,
   "metadata": {},
   "outputs": [
    {
     "data": {
      "text/plain": [
       "Favorite\n",
       "red      9578\n",
       "blue     7962\n",
       "green    7459\n",
       "Name: count, dtype: int64"
      ]
     },
     "execution_count": 16,
     "metadata": {},
     "output_type": "execute_result"
    }
   ],
   "source": [
    "humans.loc[humans.Favorite.isin(['Red', ' red']), 'Favorite'] = 'red'\n",
    "humans.loc[humans.Favorite == 'chartreuse', 'Favorite'] = None\n",
    "humans.loc[humans.Favorite == 'blüe', 'Favorite'] = 'blue'\n",
    "humans.loc[humans.Favorite == 'grееn', 'Favorite'] = 'green'\n",
    "humans.Favorite.value_counts()"
   ]
  },
  {
   "cell_type": "markdown",
   "metadata": {},
   "source": [
    "Let us turn to areas where domain knowledge can inform anomaly detection."
   ]
  },
  {
   "attachments": {},
   "cell_type": "markdown",
   "metadata": {
    "editable": true,
    "slideshow": {
     "slide_type": "slide"
    },
    "tags": []
   },
   "source": [
    "## Fixed Bounds\n",
    "\n",
    "* Domain versus measurement limits\n",
    "* Imputation and clipping\n",
    "* Improbability versus impossibility\n",
    "* Exploring hypotheses for data errors"
   ]
  },
  {
   "cell_type": "markdown",
   "metadata": {
    "editable": true,
    "slideshow": {
     "slide_type": ""
    },
    "tags": []
   },
   "source": [
    "Based on our domain knowledge of the problem and data set at hand, we may know of fixed bounds for particular variables.  For example, we might know that the tallest human who has lived was Robert Pershing Wadlow at 271㎝ ; and that the shortest adult was Chandra Bahadur Dangi at 55㎝ .  Values outside this range are probably unreasonable to allow in our data set.  In fact, we may perhaps wish to assume much stricter bounds; as an example, let us choose between 92㎝ and 213㎝ (which will include the *vast* majority of all adult humans).  Let us check whether our humans data set conforms with these bounds."
   ]
  },
  {
   "cell_type": "code",
   "execution_count": 39,
   "metadata": {
    "editable": true,
    "slideshow": {
     "slide_type": ""
    },
    "tags": []
   },
   "outputs": [
    {
     "data": {
      "text/plain": [
       "False"
      ]
     },
     "execution_count": 39,
     "metadata": {},
     "output_type": "execute_result"
    }
   ],
   "source": [
    "((humans.Height < 92) | (humans.Height > 213)).any()"
   ]
  },
  {
   "cell_type": "markdown",
   "metadata": {
    "editable": true,
    "slideshow": {
     "slide_type": ""
    },
    "tags": []
   },
   "source": [
    "For height, then, our domain specific fixed bounds are not exceeded in the data set.  What about the variable `Hair_Length`?  From the actual physical meaning of the measurement, hair cannot be negative length.  However, let us stipulate as well that the measuring tape used for our observations was 120㎝ (i.e. hypothetical domain knowledge), and that, therefore, a length more than that cannot be completely legitimate (such a length is rare, but not impossible among humans).  First, let us look at the hair lengths that exceed the measuring instrument."
   ]
  },
  {
   "cell_type": "code",
   "execution_count": 40,
   "metadata": {
    "editable": true,
    "slideshow": {
     "slide_type": ""
    },
    "tags": []
   },
   "outputs": [
    {
     "data": {
      "text/html": [
       "<div>\n",
       "<style scoped>\n",
       "    .dataframe tbody tr th:only-of-type {\n",
       "        vertical-align: middle;\n",
       "    }\n",
       "\n",
       "    .dataframe tbody tr th {\n",
       "        vertical-align: top;\n",
       "    }\n",
       "\n",
       "    .dataframe thead th {\n",
       "        text-align: right;\n",
       "    }\n",
       "</style>\n",
       "<table border=\"1\" class=\"dataframe\">\n",
       "  <thead>\n",
       "    <tr style=\"text-align: right;\">\n",
       "      <th></th>\n",
       "      <th>Height</th>\n",
       "      <th>Weight</th>\n",
       "      <th>Hair_Length</th>\n",
       "      <th>Favorite</th>\n",
       "    </tr>\n",
       "  </thead>\n",
       "  <tbody>\n",
       "    <tr>\n",
       "      <th>1984</th>\n",
       "      <td>165.634695</td>\n",
       "      <td>62.979993</td>\n",
       "      <td>127.0</td>\n",
       "      <td>red</td>\n",
       "    </tr>\n",
       "    <tr>\n",
       "      <th>8929</th>\n",
       "      <td>175.186061</td>\n",
       "      <td>73.899992</td>\n",
       "      <td>120.6</td>\n",
       "      <td>blue</td>\n",
       "    </tr>\n",
       "    <tr>\n",
       "      <th>14673</th>\n",
       "      <td>174.948037</td>\n",
       "      <td>77.644434</td>\n",
       "      <td>130.1</td>\n",
       "      <td>blue</td>\n",
       "    </tr>\n",
       "    <tr>\n",
       "      <th>14735</th>\n",
       "      <td>176.385525</td>\n",
       "      <td>68.735397</td>\n",
       "      <td>121.7</td>\n",
       "      <td>green</td>\n",
       "    </tr>\n",
       "    <tr>\n",
       "      <th>16672</th>\n",
       "      <td>173.172298</td>\n",
       "      <td>71.814699</td>\n",
       "      <td>121.4</td>\n",
       "      <td>red</td>\n",
       "    </tr>\n",
       "    <tr>\n",
       "      <th>17093</th>\n",
       "      <td>169.771111</td>\n",
       "      <td>77.958278</td>\n",
       "      <td>133.2</td>\n",
       "      <td>blue</td>\n",
       "    </tr>\n",
       "  </tbody>\n",
       "</table>\n",
       "</div>"
      ],
      "text/plain": [
       "           Height     Weight  Hair_Length Favorite\n",
       "1984   165.634695  62.979993        127.0      red\n",
       "8929   175.186061  73.899992        120.6     blue\n",
       "14673  174.948037  77.644434        130.1     blue\n",
       "14735  176.385525  68.735397        121.7    green\n",
       "16672  173.172298  71.814699        121.4      red\n",
       "17093  169.771111  77.958278        133.2     blue"
      ]
     },
     "execution_count": 40,
     "metadata": {},
     "output_type": "execute_result"
    }
   ],
   "source": [
    "humans.query('Hair_Length > 120')"
   ]
  },
  {
   "cell_type": "markdown",
   "metadata": {
    "editable": true,
    "slideshow": {
     "slide_type": ""
    },
    "tags": []
   },
   "source": [
    "There are just a few samples with a hair length longer than a possible measurement.  However, all of these numbers are only modestly longer than the measuring instrument or scale.  Without more information on the collection procedure, it is not possible to be confident of the source of the error.  Perhaps some subjects made their own estimates of their very long hair length rather than use the instrument.  Perhaps one data collection site actually had a longer measuring tape that was not documented in our metadata or data description.  Or perhaps there is a transcription error, such as adding a decimal point; e.g. maybe the 124.1㎝ hair was 24.1㎝ in reality. Or perhaps the unit was confused, and millimeters were actually measured rather than centimeters (as is standard in hair clippers and other barbering equipment)."
   ]
  },
  {
   "cell_type": "markdown",
   "metadata": {},
   "source": [
    "In any case, this problem affects only 6 of the 25,000 observations.  Dropping those rows would not lose a large amount of data, so that is a possibility.  Imputing values would perhaps be reasonable (for example, stipulating these 6 subjects had average hair length).  Value imputation is the subject of chapter 6, and options are discussed there in more detail; at this stage, the first pass might be marking those values as missing."
   ]
  },
  {
   "cell_type": "markdown",
   "metadata": {},
   "source": [
    "However, for these out-of-range values that cluster relatively close to legitimate values, clipping the values to the documented maximum might also be a reasonable approach.  The operation \"clip\" is also sometimes called \"clamp,\" \"crop,\" or \"trim\" depending on the library you are working with.  The general idea is simply that a value outside of a certain bound is treated as if it is that bound itself.  We can version our data as we modify it."
   ]
  },
  {
   "cell_type": "code",
   "execution_count": 19,
   "metadata": {},
   "outputs": [
    {
     "data": {
      "text/html": [
       "<div>\n",
       "<style scoped>\n",
       "    .dataframe tbody tr th:only-of-type {\n",
       "        vertical-align: middle;\n",
       "    }\n",
       "\n",
       "    .dataframe tbody tr th {\n",
       "        vertical-align: top;\n",
       "    }\n",
       "\n",
       "    .dataframe thead th {\n",
       "        text-align: right;\n",
       "    }\n",
       "</style>\n",
       "<table border=\"1\" class=\"dataframe\">\n",
       "  <thead>\n",
       "    <tr style=\"text-align: right;\">\n",
       "      <th></th>\n",
       "      <th>Height</th>\n",
       "      <th>Weight</th>\n",
       "      <th>Hair_Length</th>\n",
       "      <th>Favorite</th>\n",
       "    </tr>\n",
       "  </thead>\n",
       "  <tbody>\n",
       "    <tr>\n",
       "      <th>1984</th>\n",
       "      <td>165.634695</td>\n",
       "      <td>62.979993</td>\n",
       "      <td>120.0</td>\n",
       "      <td>red</td>\n",
       "    </tr>\n",
       "    <tr>\n",
       "      <th>4146</th>\n",
       "      <td>173.930107</td>\n",
       "      <td>72.701456</td>\n",
       "      <td>119.6</td>\n",
       "      <td>red</td>\n",
       "    </tr>\n",
       "    <tr>\n",
       "      <th>8929</th>\n",
       "      <td>175.186061</td>\n",
       "      <td>73.899992</td>\n",
       "      <td>120.0</td>\n",
       "      <td>blue</td>\n",
       "    </tr>\n",
       "    <tr>\n",
       "      <th>9259</th>\n",
       "      <td>179.215974</td>\n",
       "      <td>82.538890</td>\n",
       "      <td>119.4</td>\n",
       "      <td>green</td>\n",
       "    </tr>\n",
       "    <tr>\n",
       "      <th>14673</th>\n",
       "      <td>174.948037</td>\n",
       "      <td>77.644434</td>\n",
       "      <td>120.0</td>\n",
       "      <td>blue</td>\n",
       "    </tr>\n",
       "    <tr>\n",
       "      <th>14735</th>\n",
       "      <td>176.385525</td>\n",
       "      <td>68.735397</td>\n",
       "      <td>120.0</td>\n",
       "      <td>green</td>\n",
       "    </tr>\n",
       "    <tr>\n",
       "      <th>16672</th>\n",
       "      <td>173.172298</td>\n",
       "      <td>71.814699</td>\n",
       "      <td>120.0</td>\n",
       "      <td>red</td>\n",
       "    </tr>\n",
       "    <tr>\n",
       "      <th>17093</th>\n",
       "      <td>169.771111</td>\n",
       "      <td>77.958278</td>\n",
       "      <td>120.0</td>\n",
       "      <td>blue</td>\n",
       "    </tr>\n",
       "  </tbody>\n",
       "</table>\n",
       "</div>"
      ],
      "text/plain": [
       "           Height     Weight  Hair_Length Favorite\n",
       "1984   165.634695  62.979993        120.0      red\n",
       "4146   173.930107  72.701456        119.6      red\n",
       "8929   175.186061  73.899992        120.0     blue\n",
       "9259   179.215974  82.538890        119.4    green\n",
       "14673  174.948037  77.644434        120.0     blue\n",
       "14735  176.385525  68.735397        120.0    green\n",
       "16672  173.172298  71.814699        120.0      red\n",
       "17093  169.771111  77.958278        120.0     blue"
      ]
     },
     "execution_count": 19,
     "metadata": {},
     "output_type": "execute_result"
    }
   ],
   "source": [
    "humans2 = humans.copy()  # Retain prior versions of data set\n",
    "humans2['Hair_Length'] = humans2.Hair_Length.clip(upper=120)\n",
    "humans2[humans2.Hair_Length > 119]"
   ]
  },
  {
   "cell_type": "markdown",
   "metadata": {},
   "source": [
    "A slightly lower threshold for a filter shows that 119.6 was left unchanged, but the values over 120.0 were all set to 120 exactly."
   ]
  },
  {
   "cell_type": "markdown",
   "metadata": {},
   "source": [
    "The too big values were not difficult to massage.  Let us look at the physical lower bound of zero next. A value of exactly zero is perfectly reasonable.  Many people shave their head or are otherwise bald.  This is invented data, pulled from a distribution that feels vaguely reasonable to this author, so do not put too much weight in the exact distributions of lengths.  Just note that zero length is a relatively common occurrence in actual humans."
   ]
  },
  {
   "cell_type": "code",
   "execution_count": 20,
   "metadata": {},
   "outputs": [
    {
     "data": {
      "text/html": [
       "<div>\n",
       "<style scoped>\n",
       "    .dataframe tbody tr th:only-of-type {\n",
       "        vertical-align: middle;\n",
       "    }\n",
       "\n",
       "    .dataframe tbody tr th {\n",
       "        vertical-align: top;\n",
       "    }\n",
       "\n",
       "    .dataframe thead th {\n",
       "        text-align: right;\n",
       "    }\n",
       "</style>\n",
       "<table border=\"1\" class=\"dataframe\">\n",
       "  <thead>\n",
       "    <tr style=\"text-align: right;\">\n",
       "      <th></th>\n",
       "      <th>Height</th>\n",
       "      <th>Weight</th>\n",
       "      <th>Hair_Length</th>\n",
       "      <th>Favorite</th>\n",
       "    </tr>\n",
       "  </thead>\n",
       "  <tbody>\n",
       "    <tr>\n",
       "      <th>6</th>\n",
       "      <td>177.297182</td>\n",
       "      <td>81.153493</td>\n",
       "      <td>0.0</td>\n",
       "      <td>blue</td>\n",
       "    </tr>\n",
       "    <tr>\n",
       "      <th>217</th>\n",
       "      <td>171.893967</td>\n",
       "      <td>68.553526</td>\n",
       "      <td>0.0</td>\n",
       "      <td>blue</td>\n",
       "    </tr>\n",
       "    <tr>\n",
       "      <th>240</th>\n",
       "      <td>161.862237</td>\n",
       "      <td>76.914599</td>\n",
       "      <td>0.0</td>\n",
       "      <td>blue</td>\n",
       "    </tr>\n",
       "    <tr>\n",
       "      <th>354</th>\n",
       "      <td>172.972247</td>\n",
       "      <td>73.175032</td>\n",
       "      <td>0.0</td>\n",
       "      <td>red</td>\n",
       "    </tr>\n",
       "    <tr>\n",
       "      <th>371</th>\n",
       "      <td>179.866011</td>\n",
       "      <td>80.418554</td>\n",
       "      <td>0.0</td>\n",
       "      <td>red</td>\n",
       "    </tr>\n",
       "    <tr>\n",
       "      <th>...</th>\n",
       "      <td>...</td>\n",
       "      <td>...</td>\n",
       "      <td>...</td>\n",
       "      <td>...</td>\n",
       "    </tr>\n",
       "    <tr>\n",
       "      <th>24818</th>\n",
       "      <td>171.537554</td>\n",
       "      <td>72.619095</td>\n",
       "      <td>0.0</td>\n",
       "      <td>green</td>\n",
       "    </tr>\n",
       "    <tr>\n",
       "      <th>24834</th>\n",
       "      <td>170.991301</td>\n",
       "      <td>67.652660</td>\n",
       "      <td>0.0</td>\n",
       "      <td>green</td>\n",
       "    </tr>\n",
       "    <tr>\n",
       "      <th>24892</th>\n",
       "      <td>177.002643</td>\n",
       "      <td>77.286141</td>\n",
       "      <td>0.0</td>\n",
       "      <td>green</td>\n",
       "    </tr>\n",
       "    <tr>\n",
       "      <th>24919</th>\n",
       "      <td>169.012286</td>\n",
       "      <td>74.593809</td>\n",
       "      <td>0.0</td>\n",
       "      <td>blue</td>\n",
       "    </tr>\n",
       "    <tr>\n",
       "      <th>24967</th>\n",
       "      <td>169.061308</td>\n",
       "      <td>65.985481</td>\n",
       "      <td>0.0</td>\n",
       "      <td>green</td>\n",
       "    </tr>\n",
       "  </tbody>\n",
       "</table>\n",
       "<p>517 rows × 4 columns</p>\n",
       "</div>"
      ],
      "text/plain": [
       "           Height     Weight  Hair_Length Favorite\n",
       "6      177.297182  81.153493          0.0     blue\n",
       "217    171.893967  68.553526          0.0     blue\n",
       "240    161.862237  76.914599          0.0     blue\n",
       "354    172.972247  73.175032          0.0      red\n",
       "371    179.866011  80.418554          0.0      red\n",
       "...           ...        ...          ...      ...\n",
       "24818  171.537554  72.619095          0.0    green\n",
       "24834  170.991301  67.652660          0.0    green\n",
       "24892  177.002643  77.286141          0.0    green\n",
       "24919  169.012286  74.593809          0.0     blue\n",
       "24967  169.061308  65.985481          0.0    green\n",
       "\n",
       "[517 rows x 4 columns]"
      ]
     },
     "execution_count": 20,
     "metadata": {},
     "output_type": "execute_result"
    }
   ],
   "source": [
    "humans2[humans2.Hair_Length == 0]"
   ]
  },
  {
   "cell_type": "markdown",
   "metadata": {},
   "source": [
    "However, what about the impossible negative lengths?  We can easily create a filter to look at those also."
   ]
  },
  {
   "cell_type": "code",
   "execution_count": 21,
   "metadata": {},
   "outputs": [
    {
     "data": {
      "text/html": [
       "<div>\n",
       "<style scoped>\n",
       "    .dataframe tbody tr th:only-of-type {\n",
       "        vertical-align: middle;\n",
       "    }\n",
       "\n",
       "    .dataframe tbody tr th {\n",
       "        vertical-align: top;\n",
       "    }\n",
       "\n",
       "    .dataframe thead th {\n",
       "        text-align: right;\n",
       "    }\n",
       "</style>\n",
       "<table border=\"1\" class=\"dataframe\">\n",
       "  <thead>\n",
       "    <tr style=\"text-align: right;\">\n",
       "      <th></th>\n",
       "      <th>Height</th>\n",
       "      <th>Weight</th>\n",
       "      <th>Hair_Length</th>\n",
       "      <th>Favorite</th>\n",
       "    </tr>\n",
       "  </thead>\n",
       "  <tbody>\n",
       "    <tr>\n",
       "      <th>493</th>\n",
       "      <td>167.703398</td>\n",
       "      <td>72.567763</td>\n",
       "      <td>-1.0</td>\n",
       "      <td>blue</td>\n",
       "    </tr>\n",
       "    <tr>\n",
       "      <th>528</th>\n",
       "      <td>167.355393</td>\n",
       "      <td>60.276190</td>\n",
       "      <td>-20.7</td>\n",
       "      <td>green</td>\n",
       "    </tr>\n",
       "    <tr>\n",
       "      <th>562</th>\n",
       "      <td>172.416114</td>\n",
       "      <td>60.867457</td>\n",
       "      <td>-68.1</td>\n",
       "      <td>green</td>\n",
       "    </tr>\n",
       "    <tr>\n",
       "      <th>569</th>\n",
       "      <td>177.644146</td>\n",
       "      <td>74.027147</td>\n",
       "      <td>-5.9</td>\n",
       "      <td>green</td>\n",
       "    </tr>\n",
       "    <tr>\n",
       "      <th>738</th>\n",
       "      <td>178.094818</td>\n",
       "      <td>76.963924</td>\n",
       "      <td>-57.2</td>\n",
       "      <td>blue</td>\n",
       "    </tr>\n",
       "    <tr>\n",
       "      <th>...</th>\n",
       "      <td>...</td>\n",
       "      <td>...</td>\n",
       "      <td>...</td>\n",
       "      <td>...</td>\n",
       "    </tr>\n",
       "    <tr>\n",
       "      <th>24042</th>\n",
       "      <td>174.608922</td>\n",
       "      <td>64.846422</td>\n",
       "      <td>-22.7</td>\n",
       "      <td>green</td>\n",
       "    </tr>\n",
       "    <tr>\n",
       "      <th>24055</th>\n",
       "      <td>172.831608</td>\n",
       "      <td>74.096660</td>\n",
       "      <td>-13.3</td>\n",
       "      <td>red</td>\n",
       "    </tr>\n",
       "    <tr>\n",
       "      <th>24063</th>\n",
       "      <td>172.687488</td>\n",
       "      <td>69.466838</td>\n",
       "      <td>-14.2</td>\n",
       "      <td>green</td>\n",
       "    </tr>\n",
       "    <tr>\n",
       "      <th>24386</th>\n",
       "      <td>176.668430</td>\n",
       "      <td>62.984811</td>\n",
       "      <td>-1.0</td>\n",
       "      <td>green</td>\n",
       "    </tr>\n",
       "    <tr>\n",
       "      <th>24944</th>\n",
       "      <td>172.300925</td>\n",
       "      <td>72.067862</td>\n",
       "      <td>-24.4</td>\n",
       "      <td>red</td>\n",
       "    </tr>\n",
       "  </tbody>\n",
       "</table>\n",
       "<p>118 rows × 4 columns</p>\n",
       "</div>"
      ],
      "text/plain": [
       "           Height     Weight  Hair_Length Favorite\n",
       "493    167.703398  72.567763         -1.0     blue\n",
       "528    167.355393  60.276190        -20.7    green\n",
       "562    172.416114  60.867457        -68.1    green\n",
       "569    177.644146  74.027147         -5.9    green\n",
       "738    178.094818  76.963924        -57.2     blue\n",
       "...           ...        ...          ...      ...\n",
       "24042  174.608922  64.846422        -22.7    green\n",
       "24055  172.831608  74.096660        -13.3      red\n",
       "24063  172.687488  69.466838        -14.2    green\n",
       "24386  176.668430  62.984811         -1.0    green\n",
       "24944  172.300925  72.067862        -24.4      red\n",
       "\n",
       "[118 rows x 4 columns]"
      ]
     },
     "execution_count": 21,
     "metadata": {},
     "output_type": "execute_result"
    }
   ],
   "source": [
    "neg_hair = humans2[humans2.Hair_Length < 0]\n",
    "neg_hair"
   ]
  },
  {
   "cell_type": "markdown",
   "metadata": {},
   "source": [
    "There are a moderate number of these obviously miscoded rows.  As elsewhere, simply dropping the problem rows is often a reasonable approach.  However, a quick glance at the tabular data, as well as some slight forensics, suggest that quite likely a negative sign snuck into many reasonable values.  It is at least *plausible* that these quantities are right, but simply with inverted sign.  Let us look at some statstics of the problem values.  Just for fun, we will look at very similar summaries using both R and Pandas."
   ]
  },
  {
   "cell_type": "code",
   "execution_count": 22,
   "metadata": {
    "editable": true,
    "slideshow": {
     "slide_type": ""
    },
    "tags": []
   },
   "outputs": [
    {
     "data": {
      "text/plain": [
       "count    118.000000\n",
       "mean     -24.348305\n",
       "std       22.484691\n",
       "min      -95.700000\n",
       "25%      -38.075000\n",
       "50%      -20.650000\n",
       "75%       -5.600000\n",
       "max       -0.700000\n",
       "Name: Hair_Length, dtype: float64"
      ]
     },
     "execution_count": 22,
     "metadata": {},
     "output_type": "execute_result"
    }
   ],
   "source": [
    "neg_hair.Hair_Length.describe()"
   ]
  },
  {
   "cell_type": "markdown",
   "metadata": {
    "editable": true,
    "slideshow": {
     "slide_type": ""
    },
    "tags": []
   },
   "source": [
    "The general statistics do not contradict this sign-inversion hypothesis.  However, before we draw a conclusion, let us continue to look at these bad values more closely for this exercise.  There might be additional patterns."
   ]
  },
  {
   "cell_type": "code",
   "execution_count": 23,
   "metadata": {},
   "outputs": [
    {
     "data": {
      "image/png": "[encoded data removed]",
      "text/plain": [
       "<Figure size 640x480 with 1 Axes>"
      ]
     },
     "metadata": {},
     "output_type": "display_data"
    }
   ],
   "source": [
    "plt.hist(neg_hair.Hair_Length, bins=30)\n",
    "plt.title(\"Distribution of invalid negative hair length\")\n",
    "plt.savefig(\"img/(Ch04)Distribution of invalid negative hair length.png\")"
   ]
  },
  {
   "cell_type": "markdown",
   "metadata": {},
   "source": [
    "This distribution of negative values roughly matches the distribution of positive ones.  There are a larger number of people with short hair of varying short lengths, and a tail of fewer people at longer lengths.  However, at a glance, the region close to zero seems to be a bit *too much* of a peak.  For the one hundred or so rows of data in the example, you could eyeball them all manually, but for larger data sets, or larger bounds-violation sets, honing in on nuances programmatically is more general."
   ]
  },
  {
   "cell_type": "code",
   "execution_count": 24,
   "metadata": {},
   "outputs": [
    {
     "data": {
      "text/plain": [
       "Hair_Length\n",
       "-1.0     19\n",
       "-8.5      2\n",
       "-30.1     2\n",
       "-6.8      2\n",
       "-10.9     2\n",
       "         ..\n",
       "-30.5     1\n",
       "-67.5     1\n",
       "-40.6     1\n",
       "-7.0      1\n",
       "-39.3     1\n",
       "Name: count, Length: 93, dtype: int64"
      ]
     },
     "execution_count": 24,
     "metadata": {},
     "output_type": "execute_result"
    }
   ],
   "source": [
    "neg_hair.Hair_Length.value_counts()"
   ]
  },
  {
   "cell_type": "markdown",
   "metadata": {},
   "source": [
    "Indeed there is a pattern here.  There are 19 values of *exactly* -1, and only 1 or two occurrences of each other invalid negative value.  It seems very likely that something different is happening between the -1 error and the other negative value errors.  Perhaps -1 was used as a sentinel, for example.  Of course, it is also possible that -1 could result from the stipulated sign-inversion error; we cannot entirely separate those two possibilities."
   ]
  },
  {
   "cell_type": "markdown",
   "metadata": {},
   "source": [
    "The working hypothesis I would probably use to handle this problem in the data set (if not simply drop everything questionable outright) would be to mark the -1 values as *missing* but invert the sign of other negative values."
   ]
  },
  {
   "cell_type": "code",
   "execution_count": 25,
   "metadata": {},
   "outputs": [
    {
     "data": {
      "image/png": "[encoded data removed]",
      "text/plain": [
       "<Figure size 640x480 with 1 Axes>"
      ]
     },
     "metadata": {},
     "output_type": "display_data"
    }
   ],
   "source": [
    "humans3 = humans2.copy()     # Versioned changes to data\n",
    "\n",
    "# The \"sentinel\" negative value means missing\n",
    "humans3.loc[humans3.Hair_Length == -1, 'Hair_Length'] = None\n",
    "\n",
    "# All other values simply become non-negative\n",
    "humans3['Hair_Length'] = humans3.Hair_Length.abs()\n",
    "\n",
    "plt.hist(humans3.Hair_Length, bins=30)\n",
    "plt.title(\"Distribution of corrected hair lengths\")\n",
    "plt.savefig(\"img/(Ch04)Distribution of corrected hair lengths.png\")"
   ]
  },
  {
   "cell_type": "markdown",
   "metadata": {},
   "source": [
    "We have performed a typical cleaning of bounded values.  Let us turn to values without sharp bounds, but with general distribution statistics."
   ]
  },
  {
   "cell_type": "markdown",
   "metadata": {
    "editable": true,
    "slideshow": {
     "slide_type": ""
    },
    "tags": []
   },
   "source": [
    "## Outliers "
   ]
  },
  {
   "cell_type": "markdown",
   "metadata": {},
   "source": [
    "> If Congress had meant to so limit the Act, it surely would have used words \n",
    "> to that effect.<br/>–Tennessee Valley Auth. v. Hill, 437 U.S. 153 (1978)"
   ]
  },
  {
   "cell_type": "markdown",
   "metadata": {},
   "source": [
    "**Concepts**:\n",
    "\n",
    "* Z-score and unexpected values\n",
    "* Interquartile range\n",
    "* Standard deviation and frequency of occurrence"
   ]
  },
  {
   "cell_type": "markdown",
   "metadata": {},
   "source": [
    "In continuous data, values that fall within normative ranges might still be strongly uncharacteristic within those bounded expectations.  In the simplest case, this occurs when a value is very different from other values of the same variable.  The standard way to characterize the expectedness of a value is a measure called z-score.  This value is simply the distance of each point from the mean of the variable, divided by the standard deviation of the variable. \n",
    "\n",
    "$$Z = \\frac{x - \\mu}{\\sigma}$$\n",
    "\n",
    "Where $\\mu$ is sample mean, and $\\sigma$ is standard deviation."
   ]
  },
  {
   "cell_type": "markdown",
   "metadata": {},
   "source": [
    "This measure is most precise for data that follows a normal distribution, but generally it is useful for any data that is unimodal (having one peak), somewhat symmetric, and scale dependent.  In more ordinary language, we just want to look for the histogram of a data variable having one peak, and tapering off at roughly the same rate on both sides.  Completely normal distribution is unusual in real-world data."
   ]
  },
  {
   "cell_type": "markdown",
   "metadata": {},
   "source": [
    "A slightly different way of identifying outliers is often used as well.  Box and whisker plots (usually simply called boxplots) will often include outliers as separate visual elements.  While it is possible to use z-score in such a visualization, more often these plots utilize interquartile range (IQR) and a fixed multiplier to define outliers.  The different techniques will produce similar, but not identical, answers."
   ]
  },
  {
   "cell_type": "markdown",
   "metadata": {},
   "source": [
    "### Z-Score"
   ]
  },
  {
   "cell_type": "markdown",
   "metadata": {},
   "source": [
    "We can see that height and weight in our data set follow a generally normal-like distribution by visualizing them.  We have seen just above that hair length, after correction, is strictly single tailed.  However, the one-sided drop-off from a mode at 0 is close enough to one tail of a normal distribution, that z-score is still reasonable to consider."
   ]
  },
  {
   "cell_type": "code",
   "execution_count": 26,
   "metadata": {},
   "outputs": [
    {
     "data": {
      "image/png": "[encoded data removed]",
      "text/plain": [
       "<Figure size 1200x400 with 2 Axes>"
      ]
     },
     "metadata": {},
     "output_type": "display_data"
    }
   ],
   "source": [
    "fig, (ax1, ax2) = plt.subplots(1, 2, figsize=(12, 4))\n",
    "ax1.hist(humans3.Height, bins=50)\n",
    "ax2.hist(humans3.Weight, bins=50)\n",
    "ax1.set_title(\"Distribution of Height\")\n",
    "ax2.set_title(\"Distribution of Weight\")\n",
    "fig.savefig(\"img/(Ch04)Distribution of Height and Weight.png\")"
   ]
  },
  {
   "cell_type": "markdown",
   "metadata": {},
   "source": [
    "If we wish to be more precise in quantifying normality of variables, we can use statistical tests such and Anderson-Darling, Shapiro–Wilk, or Skewness-Kurtosis All.  Each of these techniques tries to reject the hypothesis that a distribution is normal.  For different p-values (probabilities), different test statistics determine a threshold for this rejection (although for large samples, even small deviations from normality will reject the hypothesis, but not matter from the point of view of z-score being useful).  In Anderson-Darling, if the test statistic is not much more than 1.0 the curve is definitely *normal enough* to measure outliers with z-score.  The inverse does not hold, however; many non-normal curves are still reasonable to use z-score with.  Essentially, we just need to avoid this measure for power law or exponential distributions, and for curves that are strongly multi-modal. Let us perform Anderson-Darling tests on our height, weight, and hair length variables.Let us perform Anderson-Darling tests on our height, weight, and hair length variables."
   ]
  },
  {
   "cell_type": "code",
   "execution_count": 27,
   "metadata": {},
   "outputs": [
    {
     "name": "stdout",
     "output_type": "stream",
     "text": [
      "Anderson-Darling statistic for Height      :   0.24\n",
      "Anderson-Darling statistic for Weight      :   0.54\n",
      "Anderson-Darling statistic for Hair_Length : 578.19\n"
     ]
    }
   ],
   "source": [
    "from scipy.stats import anderson\n",
    "\n",
    "for var in ('Height', 'Weight', 'Hair_Length'):\n",
    "    data = humans3[var][humans3[var].notnull()]\n",
    "    stat = anderson(data, 'norm').statistic\n",
    "    print(f\"Anderson-Darling statistic for {var:<12s}: {stat:6.2f}\")"
   ]
  },
  {
   "cell_type": "markdown",
   "metadata": {},
   "source": [
    "Having recognized that hair length is not normal, but that it shows a one-sided decay along a linear scale nonetheless, we can add z-scores for all of our quantitative variables to the working data frame.  As before, as good practice of keeping versions of our modifications, we copy the data to a new data frame before the next transformations.  We ignore the delta degrees of freedom parameter in our calculation of standard deviation because it is trivial with 25 thousand samples (if we had only 10 or 20 samples, it could matter).  The degrees of freedom concerns the anticipated variance within a total population based on a sample; but these only vary significantly when samples are tens of observations, not tens of thousands.The degrees of freedom concerns the anticipated variance within a total population based on a sample; but these only vary significantly when samples are tens of observations, not tens of thousands."
   ]
  },
  {
   "cell_type": "code",
   "execution_count": 28,
   "metadata": {},
   "outputs": [
    {
     "data": {
      "text/html": [
       "<div>\n",
       "<style scoped>\n",
       "    .dataframe tbody tr th:only-of-type {\n",
       "        vertical-align: middle;\n",
       "    }\n",
       "\n",
       "    .dataframe tbody tr th {\n",
       "        vertical-align: top;\n",
       "    }\n",
       "\n",
       "    .dataframe thead th {\n",
       "        text-align: right;\n",
       "    }\n",
       "</style>\n",
       "<table border=\"1\" class=\"dataframe\">\n",
       "  <thead>\n",
       "    <tr style=\"text-align: right;\">\n",
       "      <th></th>\n",
       "      <th>Height</th>\n",
       "      <th>Weight</th>\n",
       "      <th>Hair_Length</th>\n",
       "      <th>Favorite</th>\n",
       "      <th>zscore_Height</th>\n",
       "      <th>zscore_Weight</th>\n",
       "      <th>zscore_Hair_Length</th>\n",
       "    </tr>\n",
       "  </thead>\n",
       "  <tbody>\n",
       "    <tr>\n",
       "      <th>21492</th>\n",
       "      <td>176.958650</td>\n",
       "      <td>72.604585</td>\n",
       "      <td>14.0</td>\n",
       "      <td>red</td>\n",
       "      <td>0.880831</td>\n",
       "      <td>-0.042032</td>\n",
       "      <td>-0.568786</td>\n",
       "    </tr>\n",
       "    <tr>\n",
       "      <th>9488</th>\n",
       "      <td>169.000221</td>\n",
       "      <td>79.559843</td>\n",
       "      <td>0.0</td>\n",
       "      <td>blue</td>\n",
       "      <td>-0.766210</td>\n",
       "      <td>0.997585</td>\n",
       "      <td>-1.225152</td>\n",
       "    </tr>\n",
       "    <tr>\n",
       "      <th>16933</th>\n",
       "      <td>171.104306</td>\n",
       "      <td>71.125528</td>\n",
       "      <td>5.5</td>\n",
       "      <td>red</td>\n",
       "      <td>-0.330758</td>\n",
       "      <td>-0.263109</td>\n",
       "      <td>-0.967294</td>\n",
       "    </tr>\n",
       "    <tr>\n",
       "      <th>12604</th>\n",
       "      <td>174.481084</td>\n",
       "      <td>79.496237</td>\n",
       "      <td>8.1</td>\n",
       "      <td>blue</td>\n",
       "      <td>0.368085</td>\n",
       "      <td>0.988078</td>\n",
       "      <td>-0.845397</td>\n",
       "    </tr>\n",
       "    <tr>\n",
       "      <th>8222</th>\n",
       "      <td>171.275578</td>\n",
       "      <td>77.094118</td>\n",
       "      <td>14.6</td>\n",
       "      <td>green</td>\n",
       "      <td>-0.295312</td>\n",
       "      <td>0.629028</td>\n",
       "      <td>-0.540656</td>\n",
       "    </tr>\n",
       "  </tbody>\n",
       "</table>\n",
       "</div>"
      ],
      "text/plain": [
       "           Height     Weight  Hair_Length Favorite  zscore_Height  \\\n",
       "21492  176.958650  72.604585         14.0      red       0.880831   \n",
       "9488   169.000221  79.559843          0.0     blue      -0.766210   \n",
       "16933  171.104306  71.125528          5.5      red      -0.330758   \n",
       "12604  174.481084  79.496237          8.1     blue       0.368085   \n",
       "8222   171.275578  77.094118         14.6    green      -0.295312   \n",
       "\n",
       "       zscore_Weight  zscore_Hair_Length  \n",
       "21492      -0.042032           -0.568786  \n",
       "9488        0.997585           -1.225152  \n",
       "16933      -0.263109           -0.967294  \n",
       "12604       0.988078           -0.845397  \n",
       "8222        0.629028           -0.540656  "
      ]
     },
     "execution_count": 28,
     "metadata": {},
     "output_type": "execute_result"
    }
   ],
   "source": [
    "humans4 = humans3.copy()\n",
    "\n",
    "for var in ('Height', 'Weight', 'Hair_Length'):\n",
    "    zscore = (humans4[var] - humans4[var].mean()) / humans4[var].std()\n",
    "    humans4[f\"zscore_{var}\"] = zscore\n",
    "    \n",
    "humans4.sample(5, random_state=1)"
   ]
  },
  {
   "cell_type": "markdown",
   "metadata": {},
   "source": [
    "The choice of a z-score threshold is very domain and problem dependent.  A rule of thumb is often to use a z-score of absolute value more than 3 as a cut-off to define outliers.  But what is *expected* very much depends on the size of a data set.  In statistics, we sometimes recall the \"68–95–99.7 Rule\" which lists the percentage of observations that fall within one, two, or three standard deviations in a normal distribution.  At any distance from the mean, *some* observations would be expected if they are numerous enough, but the number diminishes rapidly with more standard deviations distance."
   ]
  },
  {
   "cell_type": "markdown",
   "metadata": {},
   "source": [
    "Let us look at that common z-score threshold of 3.  Remember that we are working with 25,000 samples here, so generally we expect to find roughly 75 of them outside of 3 standard deviations, under the \"68–95–99.7 rule\" discussed below.  Let us look at the table for height, but just check the number of rows outside this bound for the other variables."
   ]
  },
  {
   "cell_type": "code",
   "execution_count": 29,
   "metadata": {},
   "outputs": [
    {
     "data": {
      "text/html": [
       "<div>\n",
       "<style scoped>\n",
       "    .dataframe tbody tr th:only-of-type {\n",
       "        vertical-align: middle;\n",
       "    }\n",
       "\n",
       "    .dataframe tbody tr th {\n",
       "        vertical-align: top;\n",
       "    }\n",
       "\n",
       "    .dataframe thead th {\n",
       "        text-align: right;\n",
       "    }\n",
       "</style>\n",
       "<table border=\"1\" class=\"dataframe\">\n",
       "  <thead>\n",
       "    <tr style=\"text-align: right;\">\n",
       "      <th></th>\n",
       "      <th>Height</th>\n",
       "      <th>Weight</th>\n",
       "      <th>Hair_Length</th>\n",
       "      <th>Favorite</th>\n",
       "      <th>zscore_Height</th>\n",
       "      <th>zscore_Weight</th>\n",
       "      <th>zscore_Hair_Length</th>\n",
       "    </tr>\n",
       "  </thead>\n",
       "  <tbody>\n",
       "    <tr>\n",
       "      <th>138</th>\n",
       "      <td>187.708718</td>\n",
       "      <td>86.829633</td>\n",
       "      <td>19.3</td>\n",
       "      <td>green</td>\n",
       "      <td>3.105616</td>\n",
       "      <td>2.084216</td>\n",
       "      <td>-0.320304</td>\n",
       "    </tr>\n",
       "    <tr>\n",
       "      <th>174</th>\n",
       "      <td>187.537446</td>\n",
       "      <td>79.893761</td>\n",
       "      <td>37.5</td>\n",
       "      <td>blue</td>\n",
       "      <td>3.070170</td>\n",
       "      <td>1.047496</td>\n",
       "      <td>0.532971</td>\n",
       "    </tr>\n",
       "    <tr>\n",
       "      <th>412</th>\n",
       "      <td>157.522316</td>\n",
       "      <td>62.564977</td>\n",
       "      <td>6.8</td>\n",
       "      <td>blue</td>\n",
       "      <td>-3.141625</td>\n",
       "      <td>-1.542673</td>\n",
       "      <td>-0.906345</td>\n",
       "    </tr>\n",
       "    <tr>\n",
       "      <th>1162</th>\n",
       "      <td>188.592435</td>\n",
       "      <td>86.155948</td>\n",
       "      <td>53.1</td>\n",
       "      <td>red</td>\n",
       "      <td>3.288506</td>\n",
       "      <td>1.983518</td>\n",
       "      <td>1.264351</td>\n",
       "    </tr>\n",
       "    <tr>\n",
       "      <th>1383</th>\n",
       "      <td>188.454995</td>\n",
       "      <td>74.021469</td>\n",
       "      <td>13.6</td>\n",
       "      <td>green</td>\n",
       "      <td>3.260062</td>\n",
       "      <td>0.169753</td>\n",
       "      <td>-0.587539</td>\n",
       "    </tr>\n",
       "    <tr>\n",
       "      <th>1893</th>\n",
       "      <td>190.888112</td>\n",
       "      <td>84.293878</td>\n",
       "      <td>15.4</td>\n",
       "      <td>green</td>\n",
       "      <td>3.763609</td>\n",
       "      <td>1.705191</td>\n",
       "      <td>-0.503149</td>\n",
       "    </tr>\n",
       "    <tr>\n",
       "      <th>2395</th>\n",
       "      <td>187.948545</td>\n",
       "      <td>81.960413</td>\n",
       "      <td>19.7</td>\n",
       "      <td>green</td>\n",
       "      <td>3.155250</td>\n",
       "      <td>1.356403</td>\n",
       "      <td>-0.301551</td>\n",
       "    </tr>\n",
       "    <tr>\n",
       "      <th>2481</th>\n",
       "      <td>190.792583</td>\n",
       "      <td>88.300717</td>\n",
       "      <td>15.5</td>\n",
       "      <td>blue</td>\n",
       "      <td>3.743839</td>\n",
       "      <td>2.304102</td>\n",
       "      <td>-0.498461</td>\n",
       "    </tr>\n",
       "    <tr>\n",
       "      <th>2651</th>\n",
       "      <td>153.956131</td>\n",
       "      <td>50.498554</td>\n",
       "      <td>34.2</td>\n",
       "      <td>red</td>\n",
       "      <td>-3.879666</td>\n",
       "      <td>-3.346266</td>\n",
       "      <td>0.378257</td>\n",
       "    </tr>\n",
       "    <tr>\n",
       "      <th>3696</th>\n",
       "      <td>157.209236</td>\n",
       "      <td>54.914267</td>\n",
       "      <td>10.5</td>\n",
       "      <td>red</td>\n",
       "      <td>-3.206419</td>\n",
       "      <td>-2.686240</td>\n",
       "      <td>-0.732877</td>\n",
       "    </tr>\n",
       "    <tr>\n",
       "      <th>4191</th>\n",
       "      <td>188.055936</td>\n",
       "      <td>80.064103</td>\n",
       "      <td>0.0</td>\n",
       "      <td>red</td>\n",
       "      <td>3.177475</td>\n",
       "      <td>1.072958</td>\n",
       "      <td>-1.225152</td>\n",
       "    </tr>\n",
       "    <tr>\n",
       "      <th>4508</th>\n",
       "      <td>188.680750</td>\n",
       "      <td>84.762808</td>\n",
       "      <td>3.0</td>\n",
       "      <td>red</td>\n",
       "      <td>3.306784</td>\n",
       "      <td>1.775283</td>\n",
       "      <td>-1.084502</td>\n",
       "    </tr>\n",
       "    <tr>\n",
       "      <th>5641</th>\n",
       "      <td>154.593036</td>\n",
       "      <td>60.906917</td>\n",
       "      <td>5.6</td>\n",
       "      <td>red</td>\n",
       "      <td>-3.747855</td>\n",
       "      <td>-1.790506</td>\n",
       "      <td>-0.962605</td>\n",
       "    </tr>\n",
       "    <tr>\n",
       "      <th>6405</th>\n",
       "      <td>158.078119</td>\n",
       "      <td>54.377734</td>\n",
       "      <td>0.0</td>\n",
       "      <td>red</td>\n",
       "      <td>-3.026598</td>\n",
       "      <td>-2.766437</td>\n",
       "      <td>-1.225152</td>\n",
       "    </tr>\n",
       "    <tr>\n",
       "      <th>6481</th>\n",
       "      <td>156.438879</td>\n",
       "      <td>57.245891</td>\n",
       "      <td>50.0</td>\n",
       "      <td>red</td>\n",
       "      <td>-3.365848</td>\n",
       "      <td>-2.337728</td>\n",
       "      <td>1.119012</td>\n",
       "    </tr>\n",
       "    <tr>\n",
       "      <th>6627</th>\n",
       "      <td>187.264751</td>\n",
       "      <td>81.908450</td>\n",
       "      <td>37.1</td>\n",
       "      <td>red</td>\n",
       "      <td>3.013735</td>\n",
       "      <td>1.348636</td>\n",
       "      <td>0.514218</td>\n",
       "    </tr>\n",
       "    <tr>\n",
       "      <th>6941</th>\n",
       "      <td>155.969970</td>\n",
       "      <td>68.403888</td>\n",
       "      <td>48.3</td>\n",
       "      <td>blue</td>\n",
       "      <td>-3.462891</td>\n",
       "      <td>-0.669919</td>\n",
       "      <td>1.039311</td>\n",
       "    </tr>\n",
       "    <tr>\n",
       "      <th>7269</th>\n",
       "      <td>187.495053</td>\n",
       "      <td>80.348696</td>\n",
       "      <td>8.2</td>\n",
       "      <td>red</td>\n",
       "      <td>3.061397</td>\n",
       "      <td>1.115497</td>\n",
       "      <td>-0.840709</td>\n",
       "    </tr>\n",
       "    <tr>\n",
       "      <th>7839</th>\n",
       "      <td>187.592233</td>\n",
       "      <td>78.040294</td>\n",
       "      <td>13.8</td>\n",
       "      <td>blue</td>\n",
       "      <td>3.081509</td>\n",
       "      <td>0.770455</td>\n",
       "      <td>-0.578162</td>\n",
       "    </tr>\n",
       "    <tr>\n",
       "      <th>8472</th>\n",
       "      <td>187.843389</td>\n",
       "      <td>83.318509</td>\n",
       "      <td>33.7</td>\n",
       "      <td>red</td>\n",
       "      <td>3.133487</td>\n",
       "      <td>1.559401</td>\n",
       "      <td>0.354815</td>\n",
       "    </tr>\n",
       "    <tr>\n",
       "      <th>8828</th>\n",
       "      <td>188.652658</td>\n",
       "      <td>82.968934</td>\n",
       "      <td>16.9</td>\n",
       "      <td>red</td>\n",
       "      <td>3.300970</td>\n",
       "      <td>1.507149</td>\n",
       "      <td>-0.432824</td>\n",
       "    </tr>\n",
       "    <tr>\n",
       "      <th>9225</th>\n",
       "      <td>187.333509</td>\n",
       "      <td>87.810910</td>\n",
       "      <td>7.0</td>\n",
       "      <td>green</td>\n",
       "      <td>3.027965</td>\n",
       "      <td>2.230889</td>\n",
       "      <td>-0.896969</td>\n",
       "    </tr>\n",
       "    <tr>\n",
       "      <th>9492</th>\n",
       "      <td>188.109733</td>\n",
       "      <td>76.750106</td>\n",
       "      <td>32.7</td>\n",
       "      <td>red</td>\n",
       "      <td>3.188608</td>\n",
       "      <td>0.577608</td>\n",
       "      <td>0.307932</td>\n",
       "    </tr>\n",
       "    <tr>\n",
       "      <th>9876</th>\n",
       "      <td>155.702533</td>\n",
       "      <td>69.331137</td>\n",
       "      <td>27.6</td>\n",
       "      <td>green</td>\n",
       "      <td>-3.518239</td>\n",
       "      <td>-0.531321</td>\n",
       "      <td>0.068827</td>\n",
       "    </tr>\n",
       "    <tr>\n",
       "      <th>10240</th>\n",
       "      <td>157.306061</td>\n",
       "      <td>48.917832</td>\n",
       "      <td>39.2</td>\n",
       "      <td>blue</td>\n",
       "      <td>-3.186380</td>\n",
       "      <td>-3.582540</td>\n",
       "      <td>0.612673</td>\n",
       "    </tr>\n",
       "    <tr>\n",
       "      <th>10330</th>\n",
       "      <td>188.882731</td>\n",
       "      <td>94.442288</td>\n",
       "      <td>47.8</td>\n",
       "      <td>blue</td>\n",
       "      <td>3.348585</td>\n",
       "      <td>3.222095</td>\n",
       "      <td>1.015869</td>\n",
       "    </tr>\n",
       "    <tr>\n",
       "      <th>10635</th>\n",
       "      <td>187.669780</td>\n",
       "      <td>77.991486</td>\n",
       "      <td>37.7</td>\n",
       "      <td>green</td>\n",
       "      <td>3.097558</td>\n",
       "      <td>0.763159</td>\n",
       "      <td>0.542348</td>\n",
       "    </tr>\n",
       "    <tr>\n",
       "      <th>11173</th>\n",
       "      <td>188.386644</td>\n",
       "      <td>81.886770</td>\n",
       "      <td>2.0</td>\n",
       "      <td>green</td>\n",
       "      <td>3.245917</td>\n",
       "      <td>1.345396</td>\n",
       "      <td>-1.131385</td>\n",
       "    </tr>\n",
       "    <tr>\n",
       "      <th>12031</th>\n",
       "      <td>154.609216</td>\n",
       "      <td>62.437937</td>\n",
       "      <td>2.2</td>\n",
       "      <td>blue</td>\n",
       "      <td>-3.744507</td>\n",
       "      <td>-1.561662</td>\n",
       "      <td>-1.122008</td>\n",
       "    </tr>\n",
       "    <tr>\n",
       "      <th>13681</th>\n",
       "      <td>189.840794</td>\n",
       "      <td>89.212653</td>\n",
       "      <td>27.5</td>\n",
       "      <td>green</td>\n",
       "      <td>3.546861</td>\n",
       "      <td>2.440410</td>\n",
       "      <td>0.064139</td>\n",
       "    </tr>\n",
       "    <tr>\n",
       "      <th>13971</th>\n",
       "      <td>153.107034</td>\n",
       "      <td>63.155154</td>\n",
       "      <td>4.4</td>\n",
       "      <td>green</td>\n",
       "      <td>-4.055392</td>\n",
       "      <td>-1.454458</td>\n",
       "      <td>-1.018865</td>\n",
       "    </tr>\n",
       "    <tr>\n",
       "      <th>14063</th>\n",
       "      <td>188.082022</td>\n",
       "      <td>85.819621</td>\n",
       "      <td>39.2</td>\n",
       "      <td>red</td>\n",
       "      <td>3.182873</td>\n",
       "      <td>1.933247</td>\n",
       "      <td>0.612673</td>\n",
       "    </tr>\n",
       "    <tr>\n",
       "      <th>14106</th>\n",
       "      <td>157.244415</td>\n",
       "      <td>45.062151</td>\n",
       "      <td>70.7</td>\n",
       "      <td>red</td>\n",
       "      <td>-3.199138</td>\n",
       "      <td>-4.158856</td>\n",
       "      <td>2.089496</td>\n",
       "    </tr>\n",
       "    <tr>\n",
       "      <th>15209</th>\n",
       "      <td>189.483822</td>\n",
       "      <td>84.332363</td>\n",
       "      <td>2.8</td>\n",
       "      <td>red</td>\n",
       "      <td>3.472984</td>\n",
       "      <td>1.710944</td>\n",
       "      <td>-1.093878</td>\n",
       "    </tr>\n",
       "    <tr>\n",
       "      <th>15966</th>\n",
       "      <td>188.596753</td>\n",
       "      <td>86.064181</td>\n",
       "      <td>28.5</td>\n",
       "      <td>red</td>\n",
       "      <td>3.289400</td>\n",
       "      <td>1.969802</td>\n",
       "      <td>0.111022</td>\n",
       "    </tr>\n",
       "    <tr>\n",
       "      <th>16145</th>\n",
       "      <td>189.166932</td>\n",
       "      <td>75.082239</td>\n",
       "      <td>4.7</td>\n",
       "      <td>red</td>\n",
       "      <td>3.407401</td>\n",
       "      <td>0.328308</td>\n",
       "      <td>-1.004800</td>\n",
       "    </tr>\n",
       "    <tr>\n",
       "      <th>16385</th>\n",
       "      <td>187.663277</td>\n",
       "      <td>76.979926</td>\n",
       "      <td>8.6</td>\n",
       "      <td>red</td>\n",
       "      <td>3.096212</td>\n",
       "      <td>0.611959</td>\n",
       "      <td>-0.821955</td>\n",
       "    </tr>\n",
       "    <tr>\n",
       "      <th>16752</th>\n",
       "      <td>190.116206</td>\n",
       "      <td>70.067855</td>\n",
       "      <td>13.6</td>\n",
       "      <td>red</td>\n",
       "      <td>3.603859</td>\n",
       "      <td>-0.421202</td>\n",
       "      <td>-0.587539</td>\n",
       "    </tr>\n",
       "    <tr>\n",
       "      <th>17079</th>\n",
       "      <td>188.711078</td>\n",
       "      <td>97.816794</td>\n",
       "      <td>30.8</td>\n",
       "      <td>blue</td>\n",
       "      <td>3.313060</td>\n",
       "      <td>3.726489</td>\n",
       "      <td>0.218853</td>\n",
       "    </tr>\n",
       "    <tr>\n",
       "      <th>19005</th>\n",
       "      <td>188.009327</td>\n",
       "      <td>71.252110</td>\n",
       "      <td>13.7</td>\n",
       "      <td>green</td>\n",
       "      <td>3.167829</td>\n",
       "      <td>-0.244189</td>\n",
       "      <td>-0.582851</td>\n",
       "    </tr>\n",
       "    <tr>\n",
       "      <th>19198</th>\n",
       "      <td>157.040580</td>\n",
       "      <td>57.893056</td>\n",
       "      <td>23.1</td>\n",
       "      <td>red</td>\n",
       "      <td>-3.241323</td>\n",
       "      <td>-2.240994</td>\n",
       "      <td>-0.142148</td>\n",
       "    </tr>\n",
       "    <tr>\n",
       "      <th>19750</th>\n",
       "      <td>157.612639</td>\n",
       "      <td>69.075681</td>\n",
       "      <td>43.1</td>\n",
       "      <td>blue</td>\n",
       "      <td>-3.122932</td>\n",
       "      <td>-0.569504</td>\n",
       "      <td>0.795518</td>\n",
       "    </tr>\n",
       "    <tr>\n",
       "      <th>20608</th>\n",
       "      <td>154.447748</td>\n",
       "      <td>65.335024</td>\n",
       "      <td>52.7</td>\n",
       "      <td>blue</td>\n",
       "      <td>-3.777924</td>\n",
       "      <td>-1.128628</td>\n",
       "      <td>1.245597</td>\n",
       "    </tr>\n",
       "    <tr>\n",
       "      <th>21949</th>\n",
       "      <td>189.045698</td>\n",
       "      <td>81.295102</td>\n",
       "      <td>40.4</td>\n",
       "      <td>green</td>\n",
       "      <td>3.382311</td>\n",
       "      <td>1.256958</td>\n",
       "      <td>0.668933</td>\n",
       "    </tr>\n",
       "    <tr>\n",
       "      <th>22471</th>\n",
       "      <td>189.275314</td>\n",
       "      <td>84.303399</td>\n",
       "      <td>23.1</td>\n",
       "      <td>green</td>\n",
       "      <td>3.429832</td>\n",
       "      <td>1.706614</td>\n",
       "      <td>-0.142148</td>\n",
       "    </tr>\n",
       "    <tr>\n",
       "      <th>22507</th>\n",
       "      <td>156.406088</td>\n",
       "      <td>55.527243</td>\n",
       "      <td>0.0</td>\n",
       "      <td>red</td>\n",
       "      <td>-3.372634</td>\n",
       "      <td>-2.594618</td>\n",
       "      <td>-1.225152</td>\n",
       "    </tr>\n",
       "    <tr>\n",
       "      <th>22769</th>\n",
       "      <td>188.463987</td>\n",
       "      <td>81.222376</td>\n",
       "      <td>17.0</td>\n",
       "      <td>red</td>\n",
       "      <td>3.261923</td>\n",
       "      <td>1.246087</td>\n",
       "      <td>-0.428136</td>\n",
       "    </tr>\n",
       "    <tr>\n",
       "      <th>22945</th>\n",
       "      <td>157.293031</td>\n",
       "      <td>44.744929</td>\n",
       "      <td>18.4</td>\n",
       "      <td>red</td>\n",
       "      <td>-3.189077</td>\n",
       "      <td>-4.206272</td>\n",
       "      <td>-0.362499</td>\n",
       "    </tr>\n",
       "    <tr>\n",
       "      <th>23039</th>\n",
       "      <td>187.845548</td>\n",
       "      <td>88.554510</td>\n",
       "      <td>6.9</td>\n",
       "      <td>blue</td>\n",
       "      <td>3.133934</td>\n",
       "      <td>2.342037</td>\n",
       "      <td>-0.901657</td>\n",
       "    </tr>\n",
       "    <tr>\n",
       "      <th>24244</th>\n",
       "      <td>158.153049</td>\n",
       "      <td>59.725932</td>\n",
       "      <td>13.8</td>\n",
       "      <td>green</td>\n",
       "      <td>-3.011091</td>\n",
       "      <td>-1.967031</td>\n",
       "      <td>-0.578162</td>\n",
       "    </tr>\n",
       "    <tr>\n",
       "      <th>24801</th>\n",
       "      <td>189.310696</td>\n",
       "      <td>85.406727</td>\n",
       "      <td>2.3</td>\n",
       "      <td>green</td>\n",
       "      <td>3.437154</td>\n",
       "      <td>1.871531</td>\n",
       "      <td>-1.117320</td>\n",
       "    </tr>\n",
       "  </tbody>\n",
       "</table>\n",
       "</div>"
      ],
      "text/plain": [
       "           Height     Weight  Hair_Length Favorite  zscore_Height  \\\n",
       "138    187.708718  86.829633         19.3    green       3.105616   \n",
       "174    187.537446  79.893761         37.5     blue       3.070170   \n",
       "412    157.522316  62.564977          6.8     blue      -3.141625   \n",
       "1162   188.592435  86.155948         53.1      red       3.288506   \n",
       "1383   188.454995  74.021469         13.6    green       3.260062   \n",
       "1893   190.888112  84.293878         15.4    green       3.763609   \n",
       "2395   187.948545  81.960413         19.7    green       3.155250   \n",
       "2481   190.792583  88.300717         15.5     blue       3.743839   \n",
       "2651   153.956131  50.498554         34.2      red      -3.879666   \n",
       "3696   157.209236  54.914267         10.5      red      -3.206419   \n",
       "4191   188.055936  80.064103          0.0      red       3.177475   \n",
       "4508   188.680750  84.762808          3.0      red       3.306784   \n",
       "5641   154.593036  60.906917          5.6      red      -3.747855   \n",
       "6405   158.078119  54.377734          0.0      red      -3.026598   \n",
       "6481   156.438879  57.245891         50.0      red      -3.365848   \n",
       "6627   187.264751  81.908450         37.1      red       3.013735   \n",
       "6941   155.969970  68.403888         48.3     blue      -3.462891   \n",
       "7269   187.495053  80.348696          8.2      red       3.061397   \n",
       "7839   187.592233  78.040294         13.8     blue       3.081509   \n",
       "8472   187.843389  83.318509         33.7      red       3.133487   \n",
       "8828   188.652658  82.968934         16.9      red       3.300970   \n",
       "9225   187.333509  87.810910          7.0    green       3.027965   \n",
       "9492   188.109733  76.750106         32.7      red       3.188608   \n",
       "9876   155.702533  69.331137         27.6    green      -3.518239   \n",
       "10240  157.306061  48.917832         39.2     blue      -3.186380   \n",
       "10330  188.882731  94.442288         47.8     blue       3.348585   \n",
       "10635  187.669780  77.991486         37.7    green       3.097558   \n",
       "11173  188.386644  81.886770          2.0    green       3.245917   \n",
       "12031  154.609216  62.437937          2.2     blue      -3.744507   \n",
       "13681  189.840794  89.212653         27.5    green       3.546861   \n",
       "13971  153.107034  63.155154          4.4    green      -4.055392   \n",
       "14063  188.082022  85.819621         39.2      red       3.182873   \n",
       "14106  157.244415  45.062151         70.7      red      -3.199138   \n",
       "15209  189.483822  84.332363          2.8      red       3.472984   \n",
       "15966  188.596753  86.064181         28.5      red       3.289400   \n",
       "16145  189.166932  75.082239          4.7      red       3.407401   \n",
       "16385  187.663277  76.979926          8.6      red       3.096212   \n",
       "16752  190.116206  70.067855         13.6      red       3.603859   \n",
       "17079  188.711078  97.816794         30.8     blue       3.313060   \n",
       "19005  188.009327  71.252110         13.7    green       3.167829   \n",
       "19198  157.040580  57.893056         23.1      red      -3.241323   \n",
       "19750  157.612639  69.075681         43.1     blue      -3.122932   \n",
       "20608  154.447748  65.335024         52.7     blue      -3.777924   \n",
       "21949  189.045698  81.295102         40.4    green       3.382311   \n",
       "22471  189.275314  84.303399         23.1    green       3.429832   \n",
       "22507  156.406088  55.527243          0.0      red      -3.372634   \n",
       "22769  188.463987  81.222376         17.0      red       3.261923   \n",
       "22945  157.293031  44.744929         18.4      red      -3.189077   \n",
       "23039  187.845548  88.554510          6.9     blue       3.133934   \n",
       "24244  158.153049  59.725932         13.8    green      -3.011091   \n",
       "24801  189.310696  85.406727          2.3    green       3.437154   \n",
       "\n",
       "       zscore_Weight  zscore_Hair_Length  \n",
       "138         2.084216           -0.320304  \n",
       "174         1.047496            0.532971  \n",
       "412        -1.542673           -0.906345  \n",
       "1162        1.983518            1.264351  \n",
       "1383        0.169753           -0.587539  \n",
       "1893        1.705191           -0.503149  \n",
       "2395        1.356403           -0.301551  \n",
       "2481        2.304102           -0.498461  \n",
       "2651       -3.346266            0.378257  \n",
       "3696       -2.686240           -0.732877  \n",
       "4191        1.072958           -1.225152  \n",
       "4508        1.775283           -1.084502  \n",
       "5641       -1.790506           -0.962605  \n",
       "6405       -2.766437           -1.225152  \n",
       "6481       -2.337728            1.119012  \n",
       "6627        1.348636            0.514218  \n",
       "6941       -0.669919            1.039311  \n",
       "7269        1.115497           -0.840709  \n",
       "7839        0.770455           -0.578162  \n",
       "8472        1.559401            0.354815  \n",
       "8828        1.507149           -0.432824  \n",
       "9225        2.230889           -0.896969  \n",
       "9492        0.577608            0.307932  \n",
       "9876       -0.531321            0.068827  \n",
       "10240      -3.582540            0.612673  \n",
       "10330       3.222095            1.015869  \n",
       "10635       0.763159            0.542348  \n",
       "11173       1.345396           -1.131385  \n",
       "12031      -1.561662           -1.122008  \n",
       "13681       2.440410            0.064139  \n",
       "13971      -1.454458           -1.018865  \n",
       "14063       1.933247            0.612673  \n",
       "14106      -4.158856            2.089496  \n",
       "15209       1.710944           -1.093878  \n",
       "15966       1.969802            0.111022  \n",
       "16145       0.328308           -1.004800  \n",
       "16385       0.611959           -0.821955  \n",
       "16752      -0.421202           -0.587539  \n",
       "17079       3.726489            0.218853  \n",
       "19005      -0.244189           -0.582851  \n",
       "19198      -2.240994           -0.142148  \n",
       "19750      -0.569504            0.795518  \n",
       "20608      -1.128628            1.245597  \n",
       "21949       1.256958            0.668933  \n",
       "22471       1.706614           -0.142148  \n",
       "22507      -2.594618           -1.225152  \n",
       "22769       1.246087           -0.428136  \n",
       "22945      -4.206272           -0.362499  \n",
       "23039       2.342037           -0.901657  \n",
       "24244      -1.967031           -0.578162  \n",
       "24801       1.871531           -1.117320  "
      ]
     },
     "execution_count": 29,
     "metadata": {},
     "output_type": "execute_result"
    }
   ],
   "source": [
    "humans4[humans4.zscore_Height.abs() > 3]"
   ]
  },
  {
   "cell_type": "code",
   "execution_count": 30,
   "metadata": {},
   "outputs": [
    {
     "name": "stdout",
     "output_type": "stream",
     "text": [
      "Outlier weight: 67\n",
      "Outlier hair length: 285\n"
     ]
    }
   ],
   "source": [
    "print(\"Outlier weight:\", (humans4.zscore_Weight.abs() > 3).sum())\n",
    "print(\"Outlier hair length:\", (humans4.zscore_Hair_Length.abs() > 3).sum())"
   ]
  },
  {
   "cell_type": "markdown",
   "metadata": {},
   "source": [
    "We have already noted that hair length is single tailed, so we might expect approximately twice as many outliers.  The actual number is somewhat more than twice that many, but that is not itself an extreme divergence of values.  Height and weight actually have modestly lower kurtosis than we would expect from the normal distribution (the tails thin out slightly faster).  In any case, a z-score of 3 is probably too small to be useful for our sample size.  4 sigma is probably more relevant for our purpose of distinguishing merely unusual from probably-wrong observations, and maybe 4.5 for the one-tailed hair length."
   ]
  },
  {
   "cell_type": "markdown",
   "metadata": {},
   "source": [
    "A table of the frequency of once-a-day observations falling outside of a given standard deviation (σ) provides a helpful intuition.  A shorthand trick to remember the effect of sigma is the so-called *68–95–99.7 rule*; that is, the percentage of things falling within one, two, and three standard deviations."
   ]
  },
  {
   "cell_type": "markdown",
   "metadata": {},
   "source": [
    "| Range | Proportion of observations | Frequency for daily event \n",
    "|-------|----------------------------|:---------------------------------\n",
    "| ± 1σ  | 1 in 3                     | Twice a week\n",
    "| ± 2σ  | 1 in 22                    | Every three weeks \n",
    "| ± 3σ  | 1 in 370                   | Yearly\n",
    "| ± 4σ  | 1 in  15,787               | 43 years (twice in a lifetime)\n",
    "| ± 5σ  | 1 in  1,744,278            | 5000 years (once in recorded history)\n",
    "| ± 6σ  | 1 in  506,797,346          | 1.4 million years (twice in history of humankind)\n",
    "| ± 7σ  | 1 in  390,682,215,445      | 1 billion years (four times in history of Earth) "
   ]
  },
  {
   "cell_type": "markdown",
   "metadata": {},
   "source": [
    "Let us see the outliers given the broader z-score bounds."
   ]
  },
  {
   "cell_type": "code",
   "execution_count": 31,
   "metadata": {},
   "outputs": [
    {
     "data": {
      "text/html": [
       "<div>\n",
       "<style scoped>\n",
       "    .dataframe tbody tr th:only-of-type {\n",
       "        vertical-align: middle;\n",
       "    }\n",
       "\n",
       "    .dataframe tbody tr th {\n",
       "        vertical-align: top;\n",
       "    }\n",
       "\n",
       "    .dataframe thead th {\n",
       "        text-align: right;\n",
       "    }\n",
       "</style>\n",
       "<table border=\"1\" class=\"dataframe\">\n",
       "  <thead>\n",
       "    <tr style=\"text-align: right;\">\n",
       "      <th></th>\n",
       "      <th>Height</th>\n",
       "      <th>Weight</th>\n",
       "      <th>Hair_Length</th>\n",
       "      <th>Favorite</th>\n",
       "      <th>zscore_Height</th>\n",
       "      <th>zscore_Weight</th>\n",
       "      <th>zscore_Hair_Length</th>\n",
       "    </tr>\n",
       "  </thead>\n",
       "  <tbody>\n",
       "    <tr>\n",
       "      <th>13971</th>\n",
       "      <td>153.107034</td>\n",
       "      <td>63.155154</td>\n",
       "      <td>4.4</td>\n",
       "      <td>green</td>\n",
       "      <td>-4.055392</td>\n",
       "      <td>-1.454458</td>\n",
       "      <td>-1.018865</td>\n",
       "    </tr>\n",
       "    <tr>\n",
       "      <th>14106</th>\n",
       "      <td>157.244415</td>\n",
       "      <td>45.062151</td>\n",
       "      <td>70.7</td>\n",
       "      <td>red</td>\n",
       "      <td>-3.199138</td>\n",
       "      <td>-4.158856</td>\n",
       "      <td>2.089496</td>\n",
       "    </tr>\n",
       "    <tr>\n",
       "      <th>22945</th>\n",
       "      <td>157.293031</td>\n",
       "      <td>44.744929</td>\n",
       "      <td>18.4</td>\n",
       "      <td>red</td>\n",
       "      <td>-3.189077</td>\n",
       "      <td>-4.206272</td>\n",
       "      <td>-0.362499</td>\n",
       "    </tr>\n",
       "  </tbody>\n",
       "</table>\n",
       "</div>"
      ],
      "text/plain": [
       "           Height     Weight  Hair_Length Favorite  zscore_Height  \\\n",
       "13971  153.107034  63.155154          4.4    green      -4.055392   \n",
       "14106  157.244415  45.062151         70.7      red      -3.199138   \n",
       "22945  157.293031  44.744929         18.4      red      -3.189077   \n",
       "\n",
       "       zscore_Weight  zscore_Hair_Length  \n",
       "13971      -1.454458           -1.018865  \n",
       "14106      -4.158856            2.089496  \n",
       "22945      -4.206272           -0.362499  "
      ]
     },
     "execution_count": 31,
     "metadata": {},
     "output_type": "execute_result"
    }
   ],
   "source": [
    "cond = (\n",
    "    (humans4.zscore_Height.abs() > 4) |\n",
    "    (humans4.zscore_Weight.abs() > 4) |\n",
    "    (humans4.zscore_Hair_Length.abs() > 4.5))\n",
    "humans4[cond] "
   ]
  },
  {
   "cell_type": "markdown",
   "metadata": {},
   "source": [
    "Using modest domain knowledge of human physical characteristics, even though they are outside the \"norm,\" persons of  153㎝ or 45kg are small, but not outside of bounds we would expect.  The small number of 4 sigma outliers are both short and light according to the data, which we would expect to be correlated to a relatively high degree, lending plausibility to the measurements.  Moreover, the height bounds we discussed in the above section on fixed bounds were considerably wider than this 4 sigma (or even 5 sigma) detects.  Therefore, while we *could* discard or mark missing values in these outliers rows, the analysis does not seem to motivate doing so."
   ]
  },
  {
   "cell_type": "markdown",
   "metadata": {
    "editable": true,
    "slideshow": {
     "slide_type": ""
    },
    "tags": []
   },
   "source": [
    "### Interquartile Range"
   ]
  },
  {
   "cell_type": "markdown",
   "metadata": {},
   "source": [
    "Using interquartile range (IQR) rather than z-score makes less of an assumption of normality of a distribution.  However, this technique will also fails to produce meaningful answers for power law or exponential data distributions.  If you can identify a distribution as one that ranges over many orders of magnitude like those, looking at the quartiles of either an Nth root or a logarithm of the raw data might still produce reasonable results.  The same transformation, in fact, can be equally relevant if you use z-score analysis."
   ]
  },
  {
   "cell_type": "markdown",
   "metadata": {},
   "source": [
    "The idea of IQR is simply to look at the quartile cut-offs in a variable, and measure the numeric distance between the first and third quartile, i.e. between the 25% and 75% percentiles.  Exactly half the data is in that range, but we often also expect that most data will be within some distance beyond those cut-offs, defined as a multiplier of the range between cut-offs.  Most commonly, a multiplier of 1.5 is chosen; this is merely a convention that is often useful but lacks any deeper meaning."
   ]
  },
  {
   "cell_type": "markdown",
   "metadata": {},
   "source": [
    "I include in this text a brief function to visualize boxplots that show the IQR defined outliers.  Normally, this functionality is only included in the source code repository for the book, but here I think it is worthwhile for readers to see the configuration that goes into these few lines in **Matplotlib** (other visualization libraries have similar capabilities; often higher-level abstractions with more visual pizzazz, in fact)."
   ]
  },
  {
   "cell_type": "code",
   "execution_count": 32,
   "metadata": {},
   "outputs": [],
   "source": [
    "# Function defined but not run in this cell\n",
    "def show_boxplots(df, cols, whis=1.5):\n",
    "    # Create as many horizontal plots as we have columns\n",
    "    fig, axes = plt.subplots(len(cols), 1, figsize=(10, 2*len(cols)))\n",
    "    # For each one, plot the non-null data inside it\n",
    "    for n, col in enumerate(cols):\n",
    "        data = df[col][df[col].notnull()]\n",
    "        axes[n].set_title(f'{col} Distribution')\n",
    "        # Extend whiskers to specified IQR multiplier\n",
    "        axes[n].boxplot(data, whis=whis, vert=False, sym='x')\n",
    "        axes[n].set_yticks([])\n",
    "    # Fix spacing of subplots at the end\n",
    "    fig.tight_layout()\n",
    "    plt.savefig(f\"img/boxplot-{'_'.join(cols)}.png\")"
   ]
  },
  {
   "cell_type": "markdown",
   "metadata": {},
   "source": [
    "While the default multiplier (the \"whisker\" width) is 1.5, we have already seen that the human data is large enough that values have to be relatively extreme to appear as genuinely *unlikely* to be genuine.  We choose, therefore, a whisker width of 2.5 instead.  "
   ]
  },
  {
   "cell_type": "code",
   "execution_count": 33,
   "metadata": {},
   "outputs": [
    {
     "data": {
      "image/png": "[encoded data removed]",
      "text/plain": [
       "<Figure size 1000x600 with 3 Axes>"
      ]
     },
     "metadata": {},
     "output_type": "display_data"
    }
   ],
   "source": [
    "show_boxplots(humans4, [\"Height\", \"Weight\", \"Hair_Length\"], 2.5)"
   ]
  },
  {
   "cell_type": "markdown",
   "metadata": {},
   "source": [
    "The central boxes represent the IQR, from 25% to 75% percentile.  The whiskers extend to multiplier times IQR above/below the box.  An x marks outliers past the whiskers.The central boxes represent the IQR, from 25% to 75% percentile.  The whiskers extend to multiplier times IQR above/below the box.  An x marks outliers past the whiskers."
   ]
  },
  {
   "cell_type": "markdown",
   "metadata": {},
   "source": [
    "Only one outlier appears at this threshold for height, at the short end.  Likewise, only two appear for weight, both at the light end.  This was the same pattern we found with z-score.  Rather more \"outlier\" long hair length occurs, but we already had used a larger z-score to filter that more restrictively.  We could similarly use a larger *whisker* width to filter more hair lengths out, if we wished."
   ]
  },
  {
   "cell_type": "markdown",
   "metadata": {},
   "source": [
    "While the visualization is handy, we want to find the actual data rows that are marked with x's in the plots.  Let us code that.  We find the quartiles, compute the IQR, then display the inlier ranges."
   ]
  },
  {
   "cell_type": "code",
   "execution_count": 34,
   "metadata": {},
   "outputs": [
    {
     "data": {
      "text/html": [
       "<div>\n",
       "<style scoped>\n",
       "    .dataframe tbody tr th:only-of-type {\n",
       "        vertical-align: middle;\n",
       "    }\n",
       "\n",
       "    .dataframe tbody tr th {\n",
       "        vertical-align: top;\n",
       "    }\n",
       "\n",
       "    .dataframe thead th {\n",
       "        text-align: right;\n",
       "    }\n",
       "</style>\n",
       "<table border=\"1\" class=\"dataframe\">\n",
       "  <thead>\n",
       "    <tr style=\"text-align: right;\">\n",
       "      <th></th>\n",
       "      <th>Height</th>\n",
       "      <th>Weight</th>\n",
       "    </tr>\n",
       "  </thead>\n",
       "  <tbody>\n",
       "    <tr>\n",
       "      <th>0.25</th>\n",
       "      <td>169.428884</td>\n",
       "      <td>68.428823</td>\n",
       "    </tr>\n",
       "    <tr>\n",
       "      <th>0.50</th>\n",
       "      <td>172.709078</td>\n",
       "      <td>72.930616</td>\n",
       "    </tr>\n",
       "    <tr>\n",
       "      <th>0.75</th>\n",
       "      <td>175.953541</td>\n",
       "      <td>77.367039</td>\n",
       "    </tr>\n",
       "    <tr>\n",
       "      <th>1.00</th>\n",
       "      <td>190.888112</td>\n",
       "      <td>98.032504</td>\n",
       "    </tr>\n",
       "  </tbody>\n",
       "</table>\n",
       "</div>"
      ],
      "text/plain": [
       "          Height     Weight\n",
       "0.25  169.428884  68.428823\n",
       "0.50  172.709078  72.930616\n",
       "0.75  175.953541  77.367039\n",
       "1.00  190.888112  98.032504"
      ]
     },
     "execution_count": 34,
     "metadata": {},
     "output_type": "execute_result"
    }
   ],
   "source": [
    "quartiles = (\n",
    "    humans4[['Height', 'Weight']]\n",
    "    .quantile(q=[0.25, 0.50, 0.75, 1.0]))\n",
    "quartiles"
   ]
  },
  {
   "cell_type": "code",
   "execution_count": 35,
   "metadata": {},
   "outputs": [
    {
     "data": {
      "text/plain": [
       "Height    6.524657\n",
       "Weight    8.938216\n",
       "dtype: float64"
      ]
     },
     "execution_count": 35,
     "metadata": {},
     "output_type": "execute_result"
    }
   ],
   "source": [
    "IQR = quartiles.loc[0.75] - quartiles.loc[0.25]\n",
    "IQR"
   ]
  },
  {
   "cell_type": "code",
   "execution_count": 36,
   "metadata": {
    "editable": true,
    "slideshow": {
     "slide_type": ""
    },
    "tags": []
   },
   "outputs": [
    {
     "data": {
      "text/html": [
       "<div>\n",
       "<style scoped>\n",
       "    .dataframe tbody tr th:only-of-type {\n",
       "        vertical-align: middle;\n",
       "    }\n",
       "\n",
       "    .dataframe tbody tr th {\n",
       "        vertical-align: top;\n",
       "    }\n",
       "\n",
       "    .dataframe thead th {\n",
       "        text-align: right;\n",
       "    }\n",
       "</style>\n",
       "<table border=\"1\" class=\"dataframe\">\n",
       "  <thead>\n",
       "    <tr style=\"text-align: right;\">\n",
       "      <th></th>\n",
       "      <th>Height</th>\n",
       "      <th>Weight</th>\n",
       "      <th>Hair_Length</th>\n",
       "      <th>Favorite</th>\n",
       "      <th>zscore_Height</th>\n",
       "      <th>zscore_Weight</th>\n",
       "      <th>zscore_Hair_Length</th>\n",
       "    </tr>\n",
       "  </thead>\n",
       "  <tbody>\n",
       "    <tr>\n",
       "      <th>13971</th>\n",
       "      <td>153.107034</td>\n",
       "      <td>63.155154</td>\n",
       "      <td>4.4</td>\n",
       "      <td>green</td>\n",
       "      <td>-4.055392</td>\n",
       "      <td>-1.454458</td>\n",
       "      <td>-1.018865</td>\n",
       "    </tr>\n",
       "    <tr>\n",
       "      <th>14106</th>\n",
       "      <td>157.244415</td>\n",
       "      <td>45.062151</td>\n",
       "      <td>70.7</td>\n",
       "      <td>red</td>\n",
       "      <td>-3.199138</td>\n",
       "      <td>-4.158856</td>\n",
       "      <td>2.089496</td>\n",
       "    </tr>\n",
       "    <tr>\n",
       "      <th>22945</th>\n",
       "      <td>157.293031</td>\n",
       "      <td>44.744929</td>\n",
       "      <td>18.4</td>\n",
       "      <td>red</td>\n",
       "      <td>-3.189077</td>\n",
       "      <td>-4.206272</td>\n",
       "      <td>-0.362499</td>\n",
       "    </tr>\n",
       "  </tbody>\n",
       "</table>\n",
       "</div>"
      ],
      "text/plain": [
       "           Height     Weight  Hair_Length Favorite  zscore_Height  \\\n",
       "13971  153.107034  63.155154          4.4    green      -4.055392   \n",
       "14106  157.244415  45.062151         70.7      red      -3.199138   \n",
       "22945  157.293031  44.744929         18.4      red      -3.189077   \n",
       "\n",
       "       zscore_Weight  zscore_Hair_Length  \n",
       "13971      -1.454458           -1.018865  \n",
       "14106      -4.158856            2.089496  \n",
       "22945      -4.206272           -0.362499  "
      ]
     },
     "execution_count": 36,
     "metadata": {},
     "output_type": "execute_result"
    }
   ],
   "source": [
    "cond = (\n",
    "    (humans4.Height > 192.265) |\n",
    "    (humans4.Height < 153.117) |\n",
    "    (humans4.Weight > 99.713)  |\n",
    "    (humans4.Weight < 46.083))\n",
    "humans4[cond] "
   ]
  },
  {
   "cell_type": "markdown",
   "metadata": {
    "editable": true,
    "slideshow": {
     "slide_type": ""
    },
    "tags": []
   },
   "source": [
    "Univariate outliers can be important to detect, but sometimes it is a combination of features that becomes anomalous."
   ]
  },
  {
   "cell_type": "markdown",
   "metadata": {},
   "source": [
    "## Multivariate Outliers "
   ]
  },
  {
   "cell_type": "markdown",
   "metadata": {},
   "source": [
    "> If you are not part of the solution, you are part of the precipitate.<br/>–Anonymous"
   ]
  },
  {
   "cell_type": "markdown",
   "metadata": {},
   "source": [
    "**Concepts**:\n",
    "\n",
    "* Variance in deterministic synthetic features\n",
    "* Expectations of relative rarity"
   ]
  },
  {
   "cell_type": "markdown",
   "metadata": {},
   "source": [
    "Sometimes univariate features can fall within relatively moderate z-score boundaries, and yet combinations of those features are unlikely or unreasonable.  Perhaps an actual machine learning model might predict that combinations of features are likely to be wrong.  In this section we only look at simpler combinations of features to identify problematic samples."
   ]
  },
  {
   "cell_type": "markdown",
   "metadata": {},
   "source": [
    "In chapter 7 (*Feature Engineering*) we discuss polynomial features.  That technique multiplies together the values of two or more variables pertaining to the same observation, and treats that as a new feature.  For example, perhaps neither height nor weight in our working example are outside a reasonable bound, and yet the multiplicative product of them is.  While this is definitely possible, we generally expect these features to be positively correlated to start with, so multiplication would probably only produce something new *slightly* outside the bounds already detected by univariate outlier detection.\n"
   ]
  },
  {
   "cell_type": "markdown",
   "metadata": {},
   "source": [
    "However, let us consider a derived feature that is well-motivated by the specific domain.  Body mass index (BMI) is a measure often used to measure healthy weights for people, and is defined as:\n",
    "\n",
    "$$BMI = \\frac{kg}{m^2}$$\n",
    "\n",
    "That is, weight and height are in an inverse relationship in this derived quantity rather than multiplicatively combined.  Perhaps this multivariate derived features shows some problem outliers.  Let us construct another data frame version that discards previous calculated columns, but adds BMI and its z-score."
   ]
  },
  {
   "cell_type": "code",
   "execution_count": 37,
   "metadata": {},
   "outputs": [
    {
     "data": {
      "text/html": [
       "<div>\n",
       "<style scoped>\n",
       "    .dataframe tbody tr th:only-of-type {\n",
       "        vertical-align: middle;\n",
       "    }\n",
       "\n",
       "    .dataframe tbody tr th {\n",
       "        vertical-align: top;\n",
       "    }\n",
       "\n",
       "    .dataframe thead th {\n",
       "        text-align: right;\n",
       "    }\n",
       "</style>\n",
       "<table border=\"1\" class=\"dataframe\">\n",
       "  <thead>\n",
       "    <tr style=\"text-align: right;\">\n",
       "      <th></th>\n",
       "      <th>Height</th>\n",
       "      <th>Weight</th>\n",
       "      <th>BMI</th>\n",
       "      <th>zscore_BMI</th>\n",
       "    </tr>\n",
       "  </thead>\n",
       "  <tbody>\n",
       "    <tr>\n",
       "      <th>0</th>\n",
       "      <td>167.089607</td>\n",
       "      <td>64.806216</td>\n",
       "      <td>23.212279</td>\n",
       "      <td>-0.620410</td>\n",
       "    </tr>\n",
       "    <tr>\n",
       "      <th>1</th>\n",
       "      <td>181.648633</td>\n",
       "      <td>78.281527</td>\n",
       "      <td>23.724388</td>\n",
       "      <td>-0.359761</td>\n",
       "    </tr>\n",
       "    <tr>\n",
       "      <th>2</th>\n",
       "      <td>176.272800</td>\n",
       "      <td>87.767722</td>\n",
       "      <td>28.246473</td>\n",
       "      <td>1.941852</td>\n",
       "    </tr>\n",
       "    <tr>\n",
       "      <th>3</th>\n",
       "      <td>173.270164</td>\n",
       "      <td>81.635672</td>\n",
       "      <td>27.191452</td>\n",
       "      <td>1.404877</td>\n",
       "    </tr>\n",
       "    <tr>\n",
       "      <th>4</th>\n",
       "      <td>172.181037</td>\n",
       "      <td>82.760794</td>\n",
       "      <td>27.916053</td>\n",
       "      <td>1.773678</td>\n",
       "    </tr>\n",
       "    <tr>\n",
       "      <th>...</th>\n",
       "      <td>...</td>\n",
       "      <td>...</td>\n",
       "      <td>...</td>\n",
       "      <td>...</td>\n",
       "    </tr>\n",
       "    <tr>\n",
       "      <th>24995</th>\n",
       "      <td>176.535461</td>\n",
       "      <td>67.696134</td>\n",
       "      <td>21.722007</td>\n",
       "      <td>-1.378916</td>\n",
       "    </tr>\n",
       "    <tr>\n",
       "      <th>24996</th>\n",
       "      <td>163.952580</td>\n",
       "      <td>68.936137</td>\n",
       "      <td>25.645456</td>\n",
       "      <td>0.618008</td>\n",
       "    </tr>\n",
       "    <tr>\n",
       "      <th>24997</th>\n",
       "      <td>164.334317</td>\n",
       "      <td>67.830516</td>\n",
       "      <td>25.117048</td>\n",
       "      <td>0.349063</td>\n",
       "    </tr>\n",
       "    <tr>\n",
       "      <th>24998</th>\n",
       "      <td>171.524117</td>\n",
       "      <td>75.861686</td>\n",
       "      <td>25.785295</td>\n",
       "      <td>0.689182</td>\n",
       "    </tr>\n",
       "    <tr>\n",
       "      <th>24999</th>\n",
       "      <td>174.949129</td>\n",
       "      <td>71.620899</td>\n",
       "      <td>23.400018</td>\n",
       "      <td>-0.524856</td>\n",
       "    </tr>\n",
       "  </tbody>\n",
       "</table>\n",
       "<p>25000 rows × 4 columns</p>\n",
       "</div>"
      ],
      "text/plain": [
       "           Height     Weight        BMI  zscore_BMI\n",
       "0      167.089607  64.806216  23.212279   -0.620410\n",
       "1      181.648633  78.281527  23.724388   -0.359761\n",
       "2      176.272800  87.767722  28.246473    1.941852\n",
       "3      173.270164  81.635672  27.191452    1.404877\n",
       "4      172.181037  82.760794  27.916053    1.773678\n",
       "...           ...        ...        ...         ...\n",
       "24995  176.535461  67.696134  21.722007   -1.378916\n",
       "24996  163.952580  68.936137  25.645456    0.618008\n",
       "24997  164.334317  67.830516  25.117048    0.349063\n",
       "24998  171.524117  75.861686  25.785295    0.689182\n",
       "24999  174.949129  71.620899  23.400018   -0.524856\n",
       "\n",
       "[25000 rows x 4 columns]"
      ]
     },
     "execution_count": 37,
     "metadata": {},
     "output_type": "execute_result"
    }
   ],
   "source": [
    "humans5 = humans4[['Height', 'Weight']].copy()\n",
    "# Convert weight from cm to m\n",
    "humans5['BMI'] = humans5.Weight / (humans5.Height/100)**2\n",
    "humans5[\"zscore_BMI\"] = (\n",
    "    (humans5.BMI - humans5.BMI.mean()) / \n",
    "     humans5.BMI.std()\n",
    ")\n",
    "humans5"
   ]
  },
  {
   "cell_type": "markdown",
   "metadata": {},
   "source": [
    "Looking for outliers in the derived feature, we see strong signals.  As was discussed, at a z-score of 4 and a data set of 25,000 records, we expect to see slightly more than one record appearing as an outlier by natural random distribution.  Indeed, the two z-scores we see below that are only slightly more than 4 in absolute value occurred in the data set before it was engineered to highlight the lesson of this section."
   ]
  },
  {
   "cell_type": "code",
   "execution_count": 38,
   "metadata": {},
   "outputs": [
    {
     "data": {
      "text/html": [
       "<div>\n",
       "<style scoped>\n",
       "    .dataframe tbody tr th:only-of-type {\n",
       "        vertical-align: middle;\n",
       "    }\n",
       "\n",
       "    .dataframe tbody tr th {\n",
       "        vertical-align: top;\n",
       "    }\n",
       "\n",
       "    .dataframe thead th {\n",
       "        text-align: right;\n",
       "    }\n",
       "</style>\n",
       "<table border=\"1\" class=\"dataframe\">\n",
       "  <thead>\n",
       "    <tr style=\"text-align: right;\">\n",
       "      <th></th>\n",
       "      <th>Height</th>\n",
       "      <th>Weight</th>\n",
       "      <th>BMI</th>\n",
       "      <th>zscore_BMI</th>\n",
       "    </tr>\n",
       "  </thead>\n",
       "  <tbody>\n",
       "    <tr>\n",
       "      <th>21388</th>\n",
       "      <td>165.912597</td>\n",
       "      <td>90.579409</td>\n",
       "      <td>32.905672</td>\n",
       "      <td>4.313253</td>\n",
       "    </tr>\n",
       "    <tr>\n",
       "      <th>23456</th>\n",
       "      <td>187.110000</td>\n",
       "      <td>52.920000</td>\n",
       "      <td>15.115616</td>\n",
       "      <td>-4.741383</td>\n",
       "    </tr>\n",
       "    <tr>\n",
       "      <th>23457</th>\n",
       "      <td>158.330000</td>\n",
       "      <td>92.780000</td>\n",
       "      <td>37.010755</td>\n",
       "      <td>6.402625</td>\n",
       "    </tr>\n",
       "    <tr>\n",
       "      <th>24610</th>\n",
       "      <td>169.082822</td>\n",
       "      <td>47.250297</td>\n",
       "      <td>16.527439</td>\n",
       "      <td>-4.022805</td>\n",
       "    </tr>\n",
       "  </tbody>\n",
       "</table>\n",
       "</div>"
      ],
      "text/plain": [
       "           Height     Weight        BMI  zscore_BMI\n",
       "21388  165.912597  90.579409  32.905672    4.313253\n",
       "23456  187.110000  52.920000  15.115616   -4.741383\n",
       "23457  158.330000  92.780000  37.010755    6.402625\n",
       "24610  169.082822  47.250297  16.527439   -4.022805"
      ]
     },
     "execution_count": 38,
     "metadata": {},
     "output_type": "execute_result"
    }
   ],
   "source": [
    "humans5[humans5.zscore_BMI.abs() > 4]"
   ]
  },
  {
   "cell_type": "markdown",
   "metadata": {},
   "source": [
    "As well as one example of a moderate outlier for high BMI and one for low BMI, we also have two more extreme values on each side.  In this case, these were constructed for the section, but similar multivariate outliers will occur in the wild.  The -4.74 z-score is not an extreme we would expect in 25,000 samples, but is perhaps not completely implausible.  However, the +6.4 z-score is astonomically unlikely to occur without a data error (or a construction by a book author).  Since BMI is a derived feature that combines height and weight—and moreover since each of those is within reasonable bounds on its own—the correct approach is almost surely simply to discard these problem rows.  Nothing in the data themselves guide us towards knowing whether weight or height is the problem value, and no remediation is sensible."
   ]
  },
  {
   "cell_type": "markdown",
   "metadata": {},
   "source": [
    "Fortunately for this particular data set, only 2 (or *maybe* 4) samples display the problem under discussion.  We have plentiful data here, and no real harm is done by discarding those rows.  Obviously, the particular decisions made about z-score thresholds and disposition of particular data rows that are illustrated in this section and the last several are only examples.  You will need to decide within your problem and domain what are most relevant levels and tests, and what remediations to perform."
   ]
  },
  {
   "attachments": {},
   "cell_type": "markdown",
   "metadata": {
    "editable": true,
    "slideshow": {
     "slide_type": "slide"
    },
    "tags": []
   },
   "source": [
    "## Denouement\n",
    "\n",
    "_When you have eliminated the impossible, whatever remains, \n",
    "however improbable, must be the truth._\n",
    "\n",
    "–Arthur Conan Doyle"
   ]
  },
  {
   "cell_type": "markdown",
   "metadata": {
    "editable": true,
    "slideshow": {
     "slide_type": ""
    },
    "tags": []
   },
   "source": [
    "The anomalies that we have discussed in this chapter fall into a few relatively distinct categories.  For the first kind, there are the special values that explicitly mark missing data, although those markers are sometimes subject to pitfalls.  However, an explicit indication of missingness is probably the most straightforward kind of anomaly.  A second kind of anomaly are categorical values that a miscoded; some finite number of values are proper (although not always clearly documented), and anything that isn't one of those few values is an anomaly."
   ]
  },
  {
   "cell_type": "markdown",
   "metadata": {},
   "source": [
    "The third kind of anomaly is in continuous—or at least ranged—data values that fall outside of the bounds of our expectations.  These are also called *outliers*, although exactly how much a value has to lie outside typical values to be a problem is very domain and problem dependent.  Expectations may take the form of a priori that arise from domain knowledge of the measurement.  They may also arise from the distribution of data within a variable overall, and the deviation of one particular value from others measured as that variable.  At times, our expectations about bounds can even be multivariate, and some numeric combination of multiple variables produces a value outside of expectation bounds."
   ]
  },
  {
   "cell_type": "markdown",
   "metadata": {},
   "source": [
    "For all of these kinds of anomalies, there are essentially two actions we might take.  We may decide to discard an observation or sample altogether if it has one of these problems.  Or alternately, we may simply more explicitly mark one feature within an observation as explicitly missing based on its value not being reliable.  When we modify values to the \"missing\" special value, keeping track of our changes and data versions is extremely important practice.  What we choose to do with those values marked as explicitly missing is a downstream decision that is discussed at more length in later chapters."
   ]
  },
  {
   "cell_type": "markdown",
   "metadata": {
    "editable": true,
    "slideshow": {
     "slide_type": ""
    },
    "tags": []
   },
   "source": [
    "In the next chapter we move from looking for problems with particular data points and into looking for problems with the overal “shape” of a data set."
   ]
  }
 ],
 "metadata": {
  "kernelspec": {
   "display_name": "Python 3 (ipykernel)",
   "language": "python",
   "name": "python3"
  },
  "language_info": {
   "codemirror_mode": {
    "name": "ipython",
    "version": 3
   },
   "file_extension": ".py",
   "mimetype": "text/x-python",
   "name": "python",
   "nbconvert_exporter": "python",
   "pygments_lexer": "ipython3",
   "version": "3.13.0"
  },
  "widgets": {
   "application/vnd.jupyter.widget-state+json": {
    "state": {},
    "version_major": 2,
    "version_minor": 0
   }
  }
 },
 "nbformat": 4,
 "nbformat_minor": 4
}
